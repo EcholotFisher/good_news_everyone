{
 "cells": [
  {
   "cell_type": "code",
   "execution_count": 2,
   "metadata": {},
   "outputs": [
    {
     "name": "stdout",
     "output_type": "stream",
     "text": [
      "Collecting watson_developer_cloud\n",
      "  Downloading watson-developer-cloud-2.10.1.tar.gz (248 kB)\n",
      "Requirement already satisfied: requests<3.0,>=2.0 in c:\\users\\chris\\anaconda3\\envs\\nf\\lib\\site-packages (from watson_developer_cloud) (2.24.0)\n",
      "Requirement already satisfied: python_dateutil>=2.5.3 in c:\\users\\chris\\anaconda3\\envs\\nf\\lib\\site-packages (from watson_developer_cloud) (2.8.1)\n",
      "Collecting websocket-client==0.48.0\n",
      "  Downloading websocket_client-0.48.0-py2.py3-none-any.whl (198 kB)\n",
      "Requirement already satisfied: chardet<4,>=3.0.2 in c:\\users\\chris\\anaconda3\\envs\\nf\\lib\\site-packages (from requests<3.0,>=2.0->watson_developer_cloud) (3.0.4)\n",
      "Requirement already satisfied: idna<3,>=2.5 in c:\\users\\chris\\anaconda3\\envs\\nf\\lib\\site-packages (from requests<3.0,>=2.0->watson_developer_cloud) (2.10)\n",
      "Requirement already satisfied: urllib3!=1.25.0,!=1.25.1,<1.26,>=1.21.1 in c:\\users\\chris\\anaconda3\\envs\\nf\\lib\\site-packages (from requests<3.0,>=2.0->watson_developer_cloud) (1.25.10)\n",
      "Requirement already satisfied: certifi>=2017.4.17 in c:\\users\\chris\\anaconda3\\envs\\nf\\lib\\site-packages (from requests<3.0,>=2.0->watson_developer_cloud) (2020.6.20)\n",
      "Requirement already satisfied: six>=1.5 in c:\\users\\chris\\anaconda3\\envs\\nf\\lib\\site-packages (from python_dateutil>=2.5.3->watson_developer_cloud) (1.15.0)\n",
      "Building wheels for collected packages: watson-developer-cloud\n",
      "  Building wheel for watson-developer-cloud (setup.py): started\n",
      "  Building wheel for watson-developer-cloud (setup.py): finished with status 'done'\n",
      "  Created wheel for watson-developer-cloud: filename=watson_developer_cloud-2.10.1-py3-none-any.whl size=252818 sha256=82500c702b011cf2fb17671ddf05170bae49b9dd0b5fbebb367cb70b89a51a1b\n",
      "  Stored in directory: c:\\users\\chris\\appdata\\local\\pip\\cache\\wheels\\c2\\4b\\8e\\a45176a8c51d63f13f01970a674133ae9ad084197c768a692f\n",
      "Successfully built watson-developer-cloud\n",
      "Installing collected packages: websocket-client, watson-developer-cloud\n",
      "Successfully installed watson-developer-cloud-2.10.1 websocket-client-0.48.0\n"
     ]
    }
   ],
   "source": [
    "import sys\n",
    "!{sys.executable} -m pip install watson_developer_cloud"
   ]
  },
  {
   "cell_type": "code",
   "execution_count": 15,
   "metadata": {},
   "outputs": [
    {
     "name": "stderr",
     "output_type": "stream",
     "text": [
      "C:\\Users\\Chris\\anaconda3\\envs\\nf\\lib\\site-packages\\ipykernel_launcher.py:7: DeprecationWarning: watson-developer-cloud moved to ibm-watson. To get updates, use the new package.\n",
      "  import sys\n"
     ]
    },
    {
     "data": {
      "text/plain": [
       "0"
      ]
     },
     "execution_count": 15,
     "metadata": {},
     "output_type": "execute_result"
    }
   ],
   "source": [
    "from watson_developer_cloud import NaturalLanguageUnderstandingV1\n",
    "from watson_developer_cloud.natural_language_understanding_v1 import Features, EntitiesOptions, KeywordsOptions, SentimentOptions, CategoriesOptions\n",
    "\n",
    "natural_language_understanding = NaturalLanguageUnderstandingV1(\n",
    "    version='2018-11-16',\n",
    "    iam_apikey='gXPSdPalAk2QoX1Uq3H_3RS3Gu7520je-7IcS0zmffqk', # Use your API key here\n",
    "    url='https://api.eu-de.natural-language-understanding.watson.cloud.ibm.com/instances/1788a23f-d5b1-42d7-a82e-458e27de10f9' # paste the url here\n",
    "    )\n",
    "def Sentiment_score(input_text): \n",
    "    # Input text can be sentence, paragraph or document\n",
    "    response = natural_language_understanding.analyze (\n",
    "    text = input_text,\n",
    "    features = Features(sentiment=SentimentOptions())).get_result()\n",
    "    # From the response extract score which is between -1 to 1\n",
    "    res = response.get('sentiment').get('document').get('score')\n",
    "    return res\n",
    "\n",
    "text = '''Sierra Leone officials confirm 3 new cases of Ebola''' \n",
    "Sentiment_score(text)"
   ]
  },
  {
   "cell_type": "code",
   "execution_count": null,
   "metadata": {},
   "outputs": [],
   "source": []
  }
 ],
 "metadata": {
  "kernelspec": {
   "display_name": "Python [conda env:nf] *",
   "language": "python",
   "name": "conda-env-nf-py"
  },
  "language_info": {
   "codemirror_mode": {
    "name": "ipython",
    "version": 3
   },
   "file_extension": ".py",
   "mimetype": "text/x-python",
   "name": "python",
   "nbconvert_exporter": "python",
   "pygments_lexer": "ipython3",
   "version": "3.6.12"
  }
 },
 "nbformat": 4,
 "nbformat_minor": 4
}

{
 "cells": [
  {
   "cell_type": "markdown",
   "metadata": {},
   "source": [
    "# EDA and Models for Sentiment Analysis"
   ]
  },
  {
   "cell_type": "markdown",
   "metadata": {},
   "source": [
    "In this notebook we will do some data analysis with the sentiment dataset we put together.\n",
    "Furthermore we will use some machine learning models to try and classify the data."
   ]
  },
  {
   "cell_type": "code",
   "execution_count": 1,
   "metadata": {},
   "outputs": [],
   "source": [
    "# Import standard libraries\n",
    "import numpy as np\n",
    "import pandas as pd\n",
    "import seaborn as sns\n",
    "import matplotlib.pyplot as plt\n",
    "import sys\n",
    "\n",
    "# Add custom functions path\n",
    "sys.path.append('../Functions')"
   ]
  },
  {
   "cell_type": "code",
   "execution_count": 2,
   "metadata": {},
   "outputs": [
    {
     "data": {
      "text/plain": [
       "1    2854\n",
       "0    2853\n",
       "Name: label, dtype: int64"
      ]
     },
     "execution_count": 2,
     "metadata": {},
     "output_type": "execute_result"
    }
   ],
   "source": [
    "# Import data with custom function so the classes are balanced\n",
    "from datasets import load_stratified_dataset\n",
    "df = load_stratified_dataset(path='../Datasets/full_good_bad_dataset.csv', labels='label', samples_per_label=2854)\n",
    "\n",
    "# Did it work?\n",
    "df.label.value_counts()"
   ]
  },
  {
   "cell_type": "markdown",
   "metadata": {},
   "source": [
    "## EDA\n",
    "We start by doing some analysis of our data."
   ]
  },
  {
   "cell_type": "markdown",
   "metadata": {},
   "source": [
    "***\n",
    "- label: 1 = good sentiment; 0 = bad or neutral sentiment\n",
    "- source: the website the articles were scraped from\n",
    "- text: the complete article text\n",
    "- title: the news headline\n",
    "- url: the original link to the article\n",
    "- text_lem: preprocessed text without stopwords etc.\n",
    "***"
   ]
  },
  {
   "cell_type": "code",
   "execution_count": 3,
   "metadata": {},
   "outputs": [
    {
     "data": {
      "text/html": [
       "<div>\n",
       "<style scoped>\n",
       "    .dataframe tbody tr th:only-of-type {\n",
       "        vertical-align: middle;\n",
       "    }\n",
       "\n",
       "    .dataframe tbody tr th {\n",
       "        vertical-align: top;\n",
       "    }\n",
       "\n",
       "    .dataframe thead th {\n",
       "        text-align: right;\n",
       "    }\n",
       "</style>\n",
       "<table border=\"1\" class=\"dataframe\">\n",
       "  <thead>\n",
       "    <tr style=\"text-align: right;\">\n",
       "      <th></th>\n",
       "      <th>label</th>\n",
       "      <th>source</th>\n",
       "      <th>text</th>\n",
       "      <th>title</th>\n",
       "      <th>url</th>\n",
       "      <th>text_lem</th>\n",
       "    </tr>\n",
       "  </thead>\n",
       "  <tbody>\n",
       "    <tr>\n",
       "      <th>0</th>\n",
       "      <td>0</td>\n",
       "      <td>JustBadNews</td>\n",
       "      <td>In a Saturday statement, Secretary of State Mi...</td>\n",
       "      <td>Mike Pompeo accused a veteran NPR reporter of ...</td>\n",
       "      <td>businessinsider</td>\n",
       "      <td>saturday statement secretary state mike pompeo...</td>\n",
       "    </tr>\n",
       "    <tr>\n",
       "      <th>1</th>\n",
       "      <td>1</td>\n",
       "      <td>webhose.io</td>\n",
       "      <td>0 comments Tom Newcombe Thu, 16 Jul 2015 11:09...</td>\n",
       "      <td>Chambers Events reports 70% turnover growth</td>\n",
       "      <td>NaN</td>\n",
       "      <td>0 comment tom newcombe thu 16 jul 2015 11:09 f...</td>\n",
       "    </tr>\n",
       "    <tr>\n",
       "      <th>2</th>\n",
       "      <td>1</td>\n",
       "      <td>webhose.io</td>\n",
       "      <td>10 Best Biotech Stocks in the NASDAQ Written b...</td>\n",
       "      <td>10 Best Biotech Stocks in the NASDAQ</td>\n",
       "      <td>NaN</td>\n",
       "      <td>10 good biotech stock nasdaq write jon kostako...</td>\n",
       "    </tr>\n",
       "    <tr>\n",
       "      <th>3</th>\n",
       "      <td>1</td>\n",
       "      <td>good_news_network</td>\n",
       "      <td>\"A Muslim man jumped to the aid of three Jewis...</td>\n",
       "      <td>Muslim Helps Jews Attacked on New York Subway ...</td>\n",
       "      <td>goodnewsnetwork</td>\n",
       "      <td>muslim man jump aid jewish subway rider attack...</td>\n",
       "    </tr>\n",
       "    <tr>\n",
       "      <th>4</th>\n",
       "      <td>0</td>\n",
       "      <td>CollapseNews</td>\n",
       "      <td>A sitting U.S. president who can’t stop attack...</td>\n",
       "      <td>Surely these are the end times: GOP demands em...</td>\n",
       "      <td>vanityfair</td>\n",
       "      <td>sit u.s president stop attack black brown peop...</td>\n",
       "    </tr>\n",
       "  </tbody>\n",
       "</table>\n",
       "</div>"
      ],
      "text/plain": [
       "   label             source  \\\n",
       "0      0        JustBadNews   \n",
       "1      1         webhose.io   \n",
       "2      1         webhose.io   \n",
       "3      1  good_news_network   \n",
       "4      0       CollapseNews   \n",
       "\n",
       "                                                text  \\\n",
       "0  In a Saturday statement, Secretary of State Mi...   \n",
       "1  0 comments Tom Newcombe Thu, 16 Jul 2015 11:09...   \n",
       "2  10 Best Biotech Stocks in the NASDAQ Written b...   \n",
       "3  \"A Muslim man jumped to the aid of three Jewis...   \n",
       "4  A sitting U.S. president who can’t stop attack...   \n",
       "\n",
       "                                               title              url  \\\n",
       "0  Mike Pompeo accused a veteran NPR reporter of ...  businessinsider   \n",
       "1        Chambers Events reports 70% turnover growth              NaN   \n",
       "2               10 Best Biotech Stocks in the NASDAQ              NaN   \n",
       "3  Muslim Helps Jews Attacked on New York Subway ...  goodnewsnetwork   \n",
       "4  Surely these are the end times: GOP demands em...       vanityfair   \n",
       "\n",
       "                                            text_lem  \n",
       "0  saturday statement secretary state mike pompeo...  \n",
       "1  0 comment tom newcombe thu 16 jul 2015 11:09 f...  \n",
       "2  10 good biotech stock nasdaq write jon kostako...  \n",
       "3  muslim man jump aid jewish subway rider attack...  \n",
       "4  sit u.s president stop attack black brown peop...  "
      ]
     },
     "execution_count": 3,
     "metadata": {},
     "output_type": "execute_result"
    }
   ],
   "source": [
    "df.head()"
   ]
  },
  {
   "cell_type": "code",
   "execution_count": 4,
   "metadata": {},
   "outputs": [],
   "source": [
    "import tldextract\n",
    "\n",
    "url_lst = []\n",
    "\n",
    "for url in df.url.values:\n",
    "    try:\n",
    "        info = tldextract.extract(url)\n",
    "        url_lst.append(info.domain)\n",
    "    except:\n",
    "        url_lst.append(None)\n",
    "\n",
    "df['url'] = url_lst"
   ]
  },
  {
   "cell_type": "code",
   "execution_count": 5,
   "metadata": {},
   "outputs": [
    {
     "data": {
      "text/html": [
       "<div>\n",
       "<style scoped>\n",
       "    .dataframe tbody tr th:only-of-type {\n",
       "        vertical-align: middle;\n",
       "    }\n",
       "\n",
       "    .dataframe tbody tr th {\n",
       "        vertical-align: top;\n",
       "    }\n",
       "\n",
       "    .dataframe thead th {\n",
       "        text-align: right;\n",
       "    }\n",
       "</style>\n",
       "<table border=\"1\" class=\"dataframe\">\n",
       "  <thead>\n",
       "    <tr style=\"text-align: right;\">\n",
       "      <th></th>\n",
       "      <th>label</th>\n",
       "      <th>source</th>\n",
       "      <th>text</th>\n",
       "      <th>title</th>\n",
       "      <th>url</th>\n",
       "      <th>text_lem</th>\n",
       "    </tr>\n",
       "  </thead>\n",
       "  <tbody>\n",
       "    <tr>\n",
       "      <th>0</th>\n",
       "      <td>0</td>\n",
       "      <td>JustBadNews</td>\n",
       "      <td>In a Saturday statement, Secretary of State Mi...</td>\n",
       "      <td>Mike Pompeo accused a veteran NPR reporter of ...</td>\n",
       "      <td>businessinsider</td>\n",
       "      <td>saturday statement secretary state mike pompeo...</td>\n",
       "    </tr>\n",
       "    <tr>\n",
       "      <th>1</th>\n",
       "      <td>1</td>\n",
       "      <td>webhose.io</td>\n",
       "      <td>0 comments Tom Newcombe Thu, 16 Jul 2015 11:09...</td>\n",
       "      <td>Chambers Events reports 70% turnover growth</td>\n",
       "      <td>None</td>\n",
       "      <td>0 comment tom newcombe thu 16 jul 2015 11:09 f...</td>\n",
       "    </tr>\n",
       "    <tr>\n",
       "      <th>2</th>\n",
       "      <td>1</td>\n",
       "      <td>webhose.io</td>\n",
       "      <td>10 Best Biotech Stocks in the NASDAQ Written b...</td>\n",
       "      <td>10 Best Biotech Stocks in the NASDAQ</td>\n",
       "      <td>None</td>\n",
       "      <td>10 good biotech stock nasdaq write jon kostako...</td>\n",
       "    </tr>\n",
       "    <tr>\n",
       "      <th>3</th>\n",
       "      <td>1</td>\n",
       "      <td>good_news_network</td>\n",
       "      <td>\"A Muslim man jumped to the aid of three Jewis...</td>\n",
       "      <td>Muslim Helps Jews Attacked on New York Subway ...</td>\n",
       "      <td>goodnewsnetwork</td>\n",
       "      <td>muslim man jump aid jewish subway rider attack...</td>\n",
       "    </tr>\n",
       "    <tr>\n",
       "      <th>4</th>\n",
       "      <td>0</td>\n",
       "      <td>CollapseNews</td>\n",
       "      <td>A sitting U.S. president who can’t stop attack...</td>\n",
       "      <td>Surely these are the end times: GOP demands em...</td>\n",
       "      <td>vanityfair</td>\n",
       "      <td>sit u.s president stop attack black brown peop...</td>\n",
       "    </tr>\n",
       "  </tbody>\n",
       "</table>\n",
       "</div>"
      ],
      "text/plain": [
       "   label             source  \\\n",
       "0      0        JustBadNews   \n",
       "1      1         webhose.io   \n",
       "2      1         webhose.io   \n",
       "3      1  good_news_network   \n",
       "4      0       CollapseNews   \n",
       "\n",
       "                                                text  \\\n",
       "0  In a Saturday statement, Secretary of State Mi...   \n",
       "1  0 comments Tom Newcombe Thu, 16 Jul 2015 11:09...   \n",
       "2  10 Best Biotech Stocks in the NASDAQ Written b...   \n",
       "3  \"A Muslim man jumped to the aid of three Jewis...   \n",
       "4  A sitting U.S. president who can’t stop attack...   \n",
       "\n",
       "                                               title              url  \\\n",
       "0  Mike Pompeo accused a veteran NPR reporter of ...  businessinsider   \n",
       "1        Chambers Events reports 70% turnover growth             None   \n",
       "2               10 Best Biotech Stocks in the NASDAQ             None   \n",
       "3  Muslim Helps Jews Attacked on New York Subway ...  goodnewsnetwork   \n",
       "4  Surely these are the end times: GOP demands em...       vanityfair   \n",
       "\n",
       "                                            text_lem  \n",
       "0  saturday statement secretary state mike pompeo...  \n",
       "1  0 comment tom newcombe thu 16 jul 2015 11:09 f...  \n",
       "2  10 good biotech stock nasdaq write jon kostako...  \n",
       "3  muslim man jump aid jewish subway rider attack...  \n",
       "4  sit u.s president stop attack black brown peop...  "
      ]
     },
     "execution_count": 5,
     "metadata": {},
     "output_type": "execute_result"
    }
   ],
   "source": [
    "# Overview\n",
    "df.head()"
   ]
  },
  {
   "cell_type": "markdown",
   "metadata": {},
   "source": [
    "***\n",
    "#### Domains\n",
    "Let's first look at the different domains we have in this dataset.\n",
    "***"
   ]
  },
  {
   "cell_type": "code",
   "execution_count": 6,
   "metadata": {},
   "outputs": [
    {
     "name": "stdout",
     "output_type": "stream",
     "text": [
      "The url is unknown for 2305 articles\n"
     ]
    }
   ],
   "source": [
    "# Count unknown article source and drop those\n",
    "url_list = df.url\n",
    "print(f'The url is unknown for {df.url.isnull().sum()} articles')\n",
    "url_list = url_list.dropna();"
   ]
  },
  {
   "cell_type": "code",
   "execution_count": 7,
   "metadata": {},
   "outputs": [
    {
     "name": "stdout",
     "output_type": "stream",
     "text": [
      "                 url  count\n",
      "218  goodnewsnetwork    706\n",
      "0                       310\n",
      "551       thejournal    169\n",
      "544      theguardian    161\n",
      "105              cnn    113\n",
      "430         positive    111\n",
      "455          reuters    105\n",
      "249      independent     89\n",
      "364          nbcnews     39\n",
      "397          nytimes     39\n",
      "--------\n",
      "There are at least 665 unique domains in this dataset\n"
     ]
    }
   ],
   "source": [
    "# Count the number of times the domain appears\n",
    "values, counts = np.unique(url_list, return_counts=True)\n",
    "df_url = {'url' : values, 'count' : counts}\n",
    "df_url = pd.DataFrame(data=df_url)\n",
    "\n",
    "# Sort by counts\n",
    "df_url_sorted = df_url.sort_values('count', ascending=False)\n",
    "\n",
    "# Print result\n",
    "print(df_url.sort_values('count', ascending=False)[0:10])\n",
    "print('--------')\n",
    "print(f'There are at least {df_url.url.nunique()} unique domains in this dataset')"
   ]
  },
  {
   "cell_type": "code",
   "execution_count": 8,
   "metadata": {},
   "outputs": [
    {
     "data": {
      "image/png": "[encoded data removed]",
      "text/plain": [
       "<Figure size 842.4x595.44 with 1 Axes>"
      ]
     },
     "metadata": {
      "needs_background": "light"
     },
     "output_type": "display_data"
    }
   ],
   "source": [
    "# Show top 10 domains\n",
    "dims = (11.7, 8.27)\n",
    "fig, ax = plt.subplots(figsize=dims)\n",
    "ax = sns.barplot(x=\"url\", y=\"count\", data=df_url_sorted[0:10])"
   ]
  },
  {
   "cell_type": "markdown",
   "metadata": {},
   "source": [
    "***\n",
    "'goodnewsnetwork' is one of the scraped websites for positive news. In contrast to other similar sites, they write all of their articles and don't link to external sources. \n",
    "Thus it was expected that they would be one of the most frequent sites to find in our dataset.\n",
    "'Positive' and 'thejournal' are also scraped sites for positive news, where they write some articles themselves.\n",
    "***"
   ]
  },
  {
   "cell_type": "code",
   "execution_count": 9,
   "metadata": {},
   "outputs": [],
   "source": [
    "# Drop specifically scraped sites\n",
    "df_url_sorted = df_url_sorted.drop(df_url_sorted[df_url_sorted.url == 'goodnewsnetwork'].index)\n",
    "df_url_sorted = df_url_sorted.drop(df_url_sorted[df_url_sorted.url == 'positive'].index)\n",
    "df_url_sorted = df_url_sorted.drop(df_url_sorted[df_url_sorted.url == 'thejournal'].index)"
   ]
  },
  {
   "cell_type": "code",
   "execution_count": 10,
   "metadata": {},
   "outputs": [
    {
     "name": "stdout",
     "output_type": "stream",
     "text": [
      "The top 10 domains contribute at least 964 articles to the dataset\n"
     ]
    },
    {
     "data": {
      "image/png": "[encoded data removed]",
      "text/plain": [
       "<Figure size 842.4x595.44 with 1 Axes>"
      ]
     },
     "metadata": {
      "needs_background": "light"
     },
     "output_type": "display_data"
    }
   ],
   "source": [
    "# Show top 10 again\n",
    "dims = (11.7, 8.27)\n",
    "fig, ax = plt.subplots(figsize=dims)\n",
    "ax = sns.barplot(x=\"url\", y=\"count\", data=df_url_sorted[0:10])\n",
    "print(f'The top 10 domains contribute at least {df_url_sorted[\"count\"][0:10].sum()} articles to the dataset')"
   ]
  },
  {
   "cell_type": "markdown",
   "metadata": {},
   "source": [
    "***\n",
    "These kind of distributions can always influence our machine learning models, as the domains all differ in writing style and website design. Let's keep this in mind for further analysis and later on.\n",
    "***"
   ]
  },
  {
   "cell_type": "markdown",
   "metadata": {},
   "source": [
    "***\n",
    "#### Word influence on good and bad/neutral news\n",
    "Next up we will analyse the word distribution.\n",
    "***"
   ]
  },
  {
   "cell_type": "code",
   "execution_count": 11,
   "metadata": {},
   "outputs": [
    {
     "data": {
      "image/png": "[encoded data removed]",
      "text/plain": [
       "<Figure size 648x792 with 1 Axes>"
      ]
     },
     "metadata": {
      "needs_background": "light"
     },
     "output_type": "display_data"
    }
   ],
   "source": [
    "# Import libraries\n",
    "from sklearn.naive_bayes import MultinomialNB\n",
    "from sklearn.feature_extraction.text import CountVectorizer\n",
    "\n",
    "# Vectorize words by their number of appearance\n",
    "vect = CountVectorizer()\n",
    "X = vect.fit_transform(df.text_lem)\n",
    "words = vect.get_feature_names()\n",
    "\n",
    "# Define label\n",
    "y = df['label'].values\n",
    "\n",
    "# Remove alpha to prevent bias\n",
    "clf = MultinomialNB(alpha=1.e-10)\n",
    "clf.fit(X,y)\n",
    "\n",
    "# Create Dataframe for probability\n",
    "likelihood_df = pd.DataFrame(clf.feature_log_prob_.transpose(),columns=['negative', 'positive'], index=words)\n",
    "likelihood_df['Influence'] = likelihood_df.eval('(exp(positive) - exp(negative))')\n",
    "top_10 = likelihood_df['Influence'].sort_values(ascending=False)[:20]\n",
    "\n",
    "# Double-sorting here so that the graph will look nicer\n",
    "bottom_10 = likelihood_df['Influence'].sort_values()[:20].sort_values(ascending=False)\n",
    "top_and_bottom = pd.concat([top_10,bottom_10])\n",
    "\n",
    "# Plot\n",
    "x = range(10)\n",
    "fig = plt.figure(figsize=(9,11))\n",
    "ax = plt.subplot(111)\n",
    "ax.barh(top_10.index, top_10, edgecolor='black')\n",
    "ax.barh(bottom_10.index, bottom_10, edgecolor='black');\n",
    "ax.set_title('Influence of single words');\n",
    "ax.legend(['Good', 'Bad']);"
   ]
  },
  {
   "cell_type": "markdown",
   "metadata": {},
   "source": [
    "***\n",
    "The influence of bad/neutral words seems to be greater than that of good words. Also the word 'say' seems to appear a lot more in bad/neutral labeled articles than in good ones, which is kind of interesting.\n",
    "Most of the words make quite a bit of sense. \n",
    "'com' in the good category \n",
    "\n",
    "***"
   ]
  },
  {
   "cell_type": "markdown",
   "metadata": {},
   "source": [
    "## Models"
   ]
  },
  {
   "cell_type": "code",
   "execution_count": 12,
   "metadata": {},
   "outputs": [],
   "source": [
    "# Importing the auxiliary and preprocessing libraries \n",
    "from sklearn.model_selection import train_test_split, KFold\n",
    "from sklearn.metrics import accuracy_score, confusion_matrix, classification_report\n",
    "from sklearn.model_selection import cross_val_score\n",
    "from sklearn.pipeline import Pipeline\n",
    "from sklearn.metrics import accuracy_score\n",
    "from sklearn.feature_extraction.text import TfidfVectorizer\n",
    "\n",
    "# Import Models\n",
    "import warnings\n",
    "warnings.filterwarnings(\"ignore\")\n",
    "\n",
    "from sklearn.decomposition import PCA\n",
    "from sklearn.svm import LinearSVC\n",
    "from sklearn.linear_model import RidgeClassifier, LogisticRegression\n",
    "from sklearn.tree import DecisionTreeClassifier\n",
    "from xgboost import XGBClassifier\n",
    "from sklearn.naive_bayes import MultinomialNB\n",
    "from sklearn.feature_selection import SelectFromModel\n",
    "from sklearn.ensemble import RandomForestClassifier, GradientBoostingClassifier, ExtraTreesClassifier, BaggingClassifier, VotingClassifier \n",
    "from sklearn.model_selection import GridSearchCV, RandomizedSearchCV"
   ]
  },
  {
   "cell_type": "code",
   "execution_count": 13,
   "metadata": {},
   "outputs": [],
   "source": [
    "# Create pipeline models\n",
    "clfs = []\n",
    "random_state = 69\n",
    "\n",
    "clfs.append((\"LogReg\", \n",
    "             Pipeline([('tfidf',TfidfVectorizer()),\n",
    "                       (\"LogReg\", LogisticRegression(n_jobs=-1, random_state=random_state))], verbose=False)))\n",
    "\n",
    "clfs.append((\"NaiveBayes\",\n",
    "             Pipeline([('tfidf',TfidfVectorizer()),\n",
    "                       ('naive_bayes', MultinomialNB())], verbose=False)))\n",
    "\n",
    "clfs.append((\"XGBClassifier\",\n",
    "             Pipeline([('tfidf',TfidfVectorizer()),\n",
    "                       (\"XGB\", XGBClassifier(n_jobs=-1, random_state=random_state))], verbose=False))) \n",
    "\n",
    "clfs.append((\"DecisionTreeClassifier\", \n",
    "             Pipeline([('tfidf',TfidfVectorizer()),\n",
    "                       (\"DecisionTrees\", DecisionTreeClassifier(random_state=random_state))], verbose=False))) \n",
    "\n",
    "clfs.append((\"RandomForestClassifier\", \n",
    "             Pipeline([('tfidf',TfidfVectorizer()),\n",
    "                       (\"RandomForest\", RandomForestClassifier(n_jobs=-1, random_state=random_state))], verbose=False)))\n",
    "\n",
    "clfs.append((\"GradientBoostingClassifier\", \n",
    "             Pipeline([('tfidf',TfidfVectorizer()),\n",
    "                       (\"GradientBoosting\", GradientBoostingClassifier(random_state=random_state))], verbose=False))) \n",
    "clfs.append((\"RidgeClassifier\", \n",
    "             Pipeline([('tfidf',TfidfVectorizer()),\n",
    "                       (\"RidgeClassifier\", RidgeClassifier(random_state=random_state))], verbose=False)))\n",
    "\n",
    "clfs.append((\"BaggingRidgeClassifier\",\n",
    "             Pipeline([('tfidf',TfidfVectorizer()),\n",
    "                       (\"BaggingClassifier\", BaggingClassifier(n_jobs=-1, random_state=random_state))], verbose=False)))\n",
    "\n",
    "clfs.append((\"ExtraTreesClassifier\",\n",
    "             Pipeline([('tfidf',TfidfVectorizer()),\n",
    "                       (\"ExtraTrees\", ExtraTreesClassifier(n_jobs=-1, random_state=random_state))], verbose=False)))\n",
    "\n",
    "clfs.append((\"LinearSVC\",\n",
    "             Pipeline([('tfidf',TfidfVectorizer()),\n",
    "                       (\"SupportVector\", LinearSVC(random_state=random_state))], verbose=False)))"
   ]
  },
  {
   "cell_type": "code",
   "execution_count": 14,
   "metadata": {},
   "outputs": [],
   "source": [
    "# Train test val split\n",
    "X = df['text_lem']\n",
    "y = df['label']\n",
    "X_train, X_test, y_train, y_test = train_test_split(X, y, random_state = random_state)\n",
    "X_train, X_val, y_train, y_val = train_test_split(X_train, y_train, test_size=.15, random_state=random_state)"
   ]
  },
  {
   "cell_type": "code",
   "execution_count": 15,
   "metadata": {},
   "outputs": [
    {
     "name": "stdout",
     "output_type": "stream",
     "text": [
      "Shape train: 3638 rows\n",
      "Shape test: 1427 rows\n",
      "Shape val: 642 rows\n"
     ]
    }
   ],
   "source": [
    "print(f'Shape train: {X_train.shape[0]} rows')\n",
    "print(f'Shape test: {X_test.shape[0]} rows')\n",
    "print(f'Shape val: {X_val.shape[0]} rows')"
   ]
  },
  {
   "cell_type": "code",
   "execution_count": 16,
   "metadata": {},
   "outputs": [
    {
     "name": "stdout",
     "output_type": "stream",
     "text": [
      "LogReg: 0.853491 (+/- 0.011516)\n",
      "NaiveBayes: 0.834800 (+/- 0.008570)\n",
      "XGBClassifier: 0.822975 (+/- 0.013890)\n",
      "DecisionTreeClassifier: 0.691591 (+/- 0.011945)\n",
      "RandomForestClassifier: 0.838371 (+/- 0.005448)\n",
      "GradientBoostingClassifier: 0.825449 (+/- 0.007061)\n",
      "RidgeClassifier: 0.855141 (+/- 0.011812)\n",
      "BaggingRidgeClassifier: 0.761950 (+/- 0.016489)\n",
      "ExtraTreesClassifier: 0.848267 (+/- 0.008387)\n",
      "LinearSVC: 0.851843 (+/- 0.010545)\n"
     ]
    }
   ],
   "source": [
    "# Run the pipelines and save the results\n",
    "scoring = 'accuracy'\n",
    "n_folds = 5\n",
    "\n",
    "results, names, combined  = [], [], {} \n",
    "\n",
    "for name, model  in clfs:\n",
    "    kfold = KFold(n_splits=n_folds, random_state=random_state)\n",
    "    cv_results = cross_val_score(model, X_train, y_train, \n",
    "                                 cv= n_folds, scoring=scoring,\n",
    "                                 n_jobs=-1)    \n",
    "    names.append(name)\n",
    "    results.append(cv_results) \n",
    "    combined[name] = cv_results.mean()\n",
    "    msg = \"%s: %f (+/- %f)\" % (name, cv_results.mean(),  cv_results.std())\n",
    "    print(msg)"
   ]
  },
  {
   "cell_type": "markdown",
   "metadata": {},
   "source": [
    "### Optimization\n",
    "\n",
    "Let's use the top 5 models and try to tune their parameters for optimal performance"
   ]
  },
  {
   "cell_type": "code",
   "execution_count": 17,
   "metadata": {},
   "outputs": [
    {
     "data": {
      "text/plain": [
       "{'RidgeClassifier': 0.8551408014269087,\n",
       " 'LogReg': 0.8534913161116737,\n",
       " 'LinearSVC': 0.8518425865743611,\n",
       " 'ExtraTreesClassifier': 0.8482673791133213,\n",
       " 'RandomForestClassifier': 0.8383712229998338,\n",
       " 'NaiveBayes': 0.8347997944284051,\n",
       " 'GradientBoostingClassifier': 0.8254493099747571,\n",
       " 'XGBClassifier': 0.8229752709463851,\n",
       " 'BaggingRidgeClassifier': 0.7619499826171079,\n",
       " 'DecisionTreeClassifier': 0.691590836948471}"
      ]
     },
     "execution_count": 17,
     "metadata": {},
     "output_type": "execute_result"
    }
   ],
   "source": [
    "# Sort the results to find the 5 best models\n",
    "{k: v for k, v in sorted(combined.items(), key=lambda item: item[1], reverse=True)}"
   ]
  },
  {
   "cell_type": "markdown",
   "metadata": {},
   "source": [
    "***\n",
    "SVC, Ridge, LogReg, ExtraTrees and RandomForest usually give the best scores. Instead of the RandomForest, we will use the NaiveBayes to bring another sort of algorithm into our VotingClassifier in the end.\n",
    "***"
   ]
  },
  {
   "cell_type": "code",
   "execution_count": 18,
   "metadata": {},
   "outputs": [],
   "source": [
    "# Vectorize the data as seen in the pipeline\n",
    "tfidf = TfidfVectorizer()\n",
    "\n",
    "tfidf_fit = tfidf.fit(X_train)\n",
    "\n",
    "X_train_tfidf = tfidf_fit.transform(X_train)\n",
    "X_test_tfidf = tfidf_fit.transform(X_test)\n",
    "X_val_tfidf = tfidf_fit.transform(X_val)\n",
    "\n",
    "import pickle\n",
    "pickle.dump(tfidf, open(\"tfidf.pickle\", \"wb\"))"
   ]
  },
  {
   "cell_type": "code",
   "execution_count": 19,
   "metadata": {},
   "outputs": [],
   "source": [
    "# Function to print the best parameters from Grid- or RandomizedSearch\n",
    "def best_parameters(model_name):\n",
    "    print('---------------')\n",
    "    print('Best parameters')\n",
    "    print('---------------')\n",
    "    for pair in model_name.best_params_.items():\n",
    "        print(f'{pair[0].capitalize()} : {pair[1]}')"
   ]
  },
  {
   "cell_type": "markdown",
   "metadata": {},
   "source": [
    "#### RidgeClassifier\n",
    "\n",
    "A RidgeClassifier can only be optimized by chaning its solving algorithm. In this case the 'auto' function already chose the best possible solver for our case, so further tuning is not needed."
   ]
  },
  {
   "cell_type": "code",
   "execution_count": 20,
   "metadata": {},
   "outputs": [
    {
     "name": "stdout",
     "output_type": "stream",
     "text": [
      "Mean Accuracy for train set : 85.27%\n",
      "Accuracy for test set : 85.35%\n",
      "Accuracy for val set: 87.69%\n"
     ]
    }
   ],
   "source": [
    "# Use the model the test and validation sets\n",
    "rc = RidgeClassifier(random_state=random_state).fit(X_train_tfidf, y_train)\n",
    "print(f\"Mean Accuracy for train set : {(cross_val_score(rc, X_train_tfidf, y_train).mean()*100).round(2)}%\")\n",
    "print(f\"Accuracy for test set : {(rc.score(X_test_tfidf, y_test)*100).round(2)}%\")\n",
    "print(f\"Accuracy for val set: {(rc.score(X_val_tfidf, y_val)*100).round(2)}%\")"
   ]
  },
  {
   "cell_type": "markdown",
   "metadata": {},
   "source": [
    "#### Logistic Regression\n",
    "\n",
    "The default algorithm is already quite good. We can take a look at what happens when we introduce a few different C-Scores."
   ]
  },
  {
   "cell_type": "code",
   "execution_count": 21,
   "metadata": {},
   "outputs": [
    {
     "name": "stdout",
     "output_type": "stream",
     "text": [
      "Cross validation accuray for train set : 84.83%\n",
      "Accuracy for train set : 93.46%\n",
      "Accuracy for test set : 85.35%\n",
      "Accuracy for val set: 87.85%\n"
     ]
    }
   ],
   "source": [
    "lr = LogisticRegression(n_jobs=-1, random_state=random_state).fit(X_train_tfidf, y_train)\n",
    "print(f\"Cross validation accuray for train set : {(cross_val_score(lr, X_train_tfidf, y_train).mean()*100).round(2)}%\")\n",
    "print(f\"Accuracy for train set : {(lr.score(X_train_tfidf, y_train)*100).round(2)}%\")\n",
    "print(f\"Accuracy for test set : {(lr.score(X_test_tfidf, y_test)*100).round(2)}%\")\n",
    "print(f\"Accuracy for val set: {(lr.score(X_val_tfidf, y_val)*100).round(2)}%\")"
   ]
  },
  {
   "cell_type": "code",
   "execution_count": 22,
   "metadata": {},
   "outputs": [
    {
     "name": "stdout",
     "output_type": "stream",
     "text": [
      "Fitting 5 folds for each of 18 candidates, totalling 90 fits\n"
     ]
    },
    {
     "name": "stderr",
     "output_type": "stream",
     "text": [
      "[Parallel(n_jobs=-1)]: Using backend LokyBackend with 4 concurrent workers.\n",
      "[Parallel(n_jobs=-1)]: Done  42 tasks      | elapsed:    3.9s\n",
      "[Parallel(n_jobs=-1)]: Done  90 out of  90 | elapsed:    8.0s finished\n"
     ]
    },
    {
     "name": "stdout",
     "output_type": "stream",
     "text": [
      "---------------\n",
      "Best parameters\n",
      "---------------\n",
      "C : 1\n",
      "Solver : saga\n"
     ]
    }
   ],
   "source": [
    "# Define parameters for GridSearch\n",
    "params_lr = {'C' : [0.01, 0.025, 0.05, 0.1, 0.5, 1],\n",
    "             'solver' : ['saga', 'sag', 'lbfgs']\n",
    "            }\n",
    "\n",
    "# Run GridSearchs\n",
    "lr_search = GridSearchCV(lr, params_lr, cv=5, n_jobs=-1, verbose=1)\n",
    "lr_search.fit(X_train_tfidf, y_train)\n",
    "\n",
    "# Print the best parameters\n",
    "best_parameters(lr_search)"
   ]
  },
  {
   "cell_type": "markdown",
   "metadata": {},
   "source": [
    "***\n",
    "C = 1 is the default value. We will therefore see no change in the outcome. Since the algorithm is not yet overfitting we can leave it at that.\n",
    "Let's use the 2 params and prove our hypothesis.\n",
    "***"
   ]
  },
  {
   "cell_type": "code",
   "execution_count": 23,
   "metadata": {},
   "outputs": [
    {
     "name": "stdout",
     "output_type": "stream",
     "text": [
      "Cross validation for train set : 84.88%\n",
      "Accuracy for train set : 93.51%\n",
      "Accuracy for test set : 85.42%\n",
      "Accuracy for val set: 87.38%\n"
     ]
    }
   ],
   "source": [
    "# Get best model\n",
    "lr_best = lr_search.best_estimator_\n",
    "\n",
    "# Fit on the data\n",
    "lr_best.fit(X_train_tfidf, y_train)\n",
    "\n",
    "# Print results\n",
    "print(f\"Cross validation for train set : {(cross_val_score(lr_best, X_train_tfidf, y_train).mean()*100).round(2)}%\")\n",
    "print(f\"Accuracy for train set : {(lr_best.score(X_train_tfidf, y_train)*100).round(2)}%\")\n",
    "print(f\"Accuracy for test set : {(lr_best.score(X_test_tfidf, y_test)*100).round(2)}%\")\n",
    "print(f\"Accuracy for val set: {(lr_best.score(X_val_tfidf, y_val)*100).round(2)}%\")"
   ]
  },
  {
   "cell_type": "markdown",
   "metadata": {},
   "source": [
    "#### Extra-trees classifier"
   ]
  },
  {
   "cell_type": "code",
   "execution_count": 24,
   "metadata": {},
   "outputs": [
    {
     "name": "stdout",
     "output_type": "stream",
     "text": [
      "Cross validation accuray for train set : 84.55%\n",
      "Accuracy for train set : 99.81%\n",
      "Accuracy for test set : 84.3%\n",
      "Accuracy for val set: 84.11%\n"
     ]
    }
   ],
   "source": [
    "# Define model and fit\n",
    "et = ExtraTreesClassifier(n_jobs=-1, random_state=random_state).fit(X_train_tfidf, y_train)\n",
    "\n",
    "# Print results\n",
    "print(f\"Cross validation accuray for train set : {(cross_val_score(et, X_train_tfidf, y_train).mean()*100).round(2)}%\")\n",
    "print(f\"Accuracy for train set : {(et.score(X_train_tfidf, y_train)*100).round(2)}%\")\n",
    "print(f\"Accuracy for test set : {(et.score(X_test_tfidf, y_test)*100).round(2)}%\")\n",
    "print(f\"Accuracy for val set: {(et.score(X_val_tfidf, y_val)*100).round(2)}%\")"
   ]
  },
  {
   "cell_type": "markdown",
   "metadata": {},
   "source": [
    "***\n",
    "The Classifier is overfitting with nearly 100% on the trainset. We will need to tune it down.\n",
    "***"
   ]
  },
  {
   "cell_type": "code",
   "execution_count": 25,
   "metadata": {},
   "outputs": [
    {
     "name": "stdout",
     "output_type": "stream",
     "text": [
      "Fitting 5 folds for each of 100 candidates, totalling 500 fits\n"
     ]
    },
    {
     "name": "stderr",
     "output_type": "stream",
     "text": [
      "[Parallel(n_jobs=-1)]: Using backend LokyBackend with 4 concurrent workers.\n",
      "[Parallel(n_jobs=-1)]: Done  42 tasks      | elapsed:   14.9s\n",
      "[Parallel(n_jobs=-1)]: Done 192 tasks      | elapsed:  1.5min\n",
      "[Parallel(n_jobs=-1)]: Done 442 tasks      | elapsed:  3.5min\n",
      "[Parallel(n_jobs=-1)]: Done 500 out of 500 | elapsed:  4.0min finished\n"
     ]
    },
    {
     "name": "stdout",
     "output_type": "stream",
     "text": [
      "---------------\n",
      "Best parameters\n",
      "---------------\n",
      "Min_samples_split : 15\n",
      "Min_samples_leaf : 10\n",
      "Max_leaf_nodes : 100\n",
      "Max_depth : 90.0\n",
      "Criterion : entropy\n",
      "Bootstrap : False\n"
     ]
    }
   ],
   "source": [
    "# Define parameters for RandomizedSearch\n",
    "params_et = {'max_depth' : np.linspace(10, 110, num = 11).tolist() + [None],\n",
    "            'min_samples_split' : [5, 10, 15],\n",
    "            'min_samples_leaf' : [10,15,20],\n",
    "            'bootstrap' : [True, False],\n",
    "            'max_leaf_nodes' : [50,100],\n",
    "            'criterion' : ['gini', 'entropy']\n",
    "            }\n",
    "\n",
    "# Run GridSearch\n",
    "et_search = RandomizedSearchCV(et, params_et, cv=5, n_jobs=-1, verbose=1, n_iter = 100)\n",
    "et_search.fit(X_train_tfidf, y_train)\n",
    "\n",
    "# Print the best parameters\n",
    "best_parameters(et_search)"
   ]
  },
  {
   "cell_type": "code",
   "execution_count": 26,
   "metadata": {},
   "outputs": [
    {
     "name": "stdout",
     "output_type": "stream",
     "text": [
      "Cross validation for train set : 83.42%\n",
      "Accuracy for train set : 88.43%\n",
      "Accuracy for test set : 83.11%\n",
      "Accuracy for val set: 82.09%\n"
     ]
    }
   ],
   "source": [
    "# Get best model\n",
    "et_best = et_search.best_estimator_\n",
    "\n",
    "# Fit on the data\n",
    "et_best.fit(X_train_tfidf, y_train)\n",
    "\n",
    "# Print results\n",
    "print(f\"Cross validation for train set : {(cross_val_score(et_best, X_train_tfidf, y_train).mean()*100).round(2)}%\")\n",
    "print(f\"Accuracy for train set : {(et_best.score(X_train_tfidf, y_train)*100).round(2)}%\")\n",
    "print(f\"Accuracy for test set : {(et_best.score(X_test_tfidf, y_test)*100).round(2)}%\")\n",
    "print(f\"Accuracy for val set: {(et_best.score(X_val_tfidf, y_val)*100).round(2)}%\")"
   ]
  },
  {
   "cell_type": "markdown",
   "metadata": {},
   "source": [
    "***\n",
    "Looking good. Let's see if we can make it even better.\n",
    "***"
   ]
  },
  {
   "cell_type": "code",
   "execution_count": null,
   "metadata": {},
   "outputs": [
    {
     "name": "stdout",
     "output_type": "stream",
     "text": [
      "Fitting 5 folds for each of 81 candidates, totalling 405 fits\n"
     ]
    },
    {
     "name": "stderr",
     "output_type": "stream",
     "text": [
      "[Parallel(n_jobs=-1)]: Using backend LokyBackend with 4 concurrent workers.\n",
      "[Parallel(n_jobs=-1)]: Done  42 tasks      | elapsed:   43.8s\n",
      "[Parallel(n_jobs=-1)]: Done 192 tasks      | elapsed:  3.1min\n"
     ]
    }
   ],
   "source": [
    "# Define parameters for GridSearch\n",
    "params_et = {'max_depth' : [45,50,55],\n",
    "            'min_samples_split' : [5,10,15],\n",
    "            'min_samples_leaf' : [5,10,15],\n",
    "            'max_leaf_nodes' : [100,102,104],\n",
    "            'criterion' : ['entropy']\n",
    "            }\n",
    "\n",
    "# Run GridSearch\n",
    "et_search = GridSearchCV(et, params_et, cv=5, n_jobs=-1, verbose=1)\n",
    "et_search.fit(X_train_tfidf, y_train)\n",
    "\n",
    "# Print the best parameters\n",
    "best_parameters(et_search)"
   ]
  },
  {
   "cell_type": "code",
   "execution_count": null,
   "metadata": {},
   "outputs": [],
   "source": [
    "# Get best model\n",
    "et_best = et_search.best_estimator_\n",
    "\n",
    "# Fit on the data\n",
    "et_best.fit(X_train_tfidf, y_train)\n",
    "\n",
    "# Print results\n",
    "print(f\"Cross validation for train set : {(cross_val_score(et_best, X_train_tfidf, y_train).mean()*100).round(2)}%\")\n",
    "print(f\"Accuracy for train set : {(et_best.score(X_train_tfidf, y_train)*100).round(2)}%\")\n",
    "print(f\"Accuracy for test set : {(et_best.score(X_test_tfidf, y_test)*100).round(2)}%\")\n",
    "print(f\"Accuracy for val set: {(et_best.score(X_val_tfidf, y_val)*100).round(2)}%\")"
   ]
  },
  {
   "cell_type": "markdown",
   "metadata": {},
   "source": [
    "***\n",
    "It became a tiny bit better. Let's stop here so it doesn't overfit.\n",
    "***"
   ]
  },
  {
   "cell_type": "markdown",
   "metadata": {},
   "source": [
    "#### NaiveBayes"
   ]
  },
  {
   "cell_type": "code",
   "execution_count": null,
   "metadata": {},
   "outputs": [],
   "source": [
    "# Define model and fit\n",
    "nb = MultinomialNB().fit(X_train_tfidf, y_train)\n",
    "\n",
    "# Print results\n",
    "print(f\"Cross validation accuray for train set : {(cross_val_score(nb, X_train_tfidf, y_train).mean()*100).round(2)}%\")\n",
    "print(f\"Accuracy for train set : {(nb.score(X_train_tfidf, y_train)*100).round(2)}%\")\n",
    "print(f\"Accuracy for test set : {(nb.score(X_test_tfidf, y_test)*100).round(2)}%\")\n",
    "print(f\"Accuracy for val set: {(nb.score(X_val_tfidf, y_val)*100).round(2)}%\")"
   ]
  },
  {
   "cell_type": "markdown",
   "metadata": {},
   "source": [
    "#### Linear SupportVectorClassifier"
   ]
  },
  {
   "cell_type": "code",
   "execution_count": null,
   "metadata": {},
   "outputs": [],
   "source": [
    "# Define model and fit\n",
    "sv = LinearSVC(random_state=random_state).fit(X_train_tfidf, y_train)\n",
    "\n",
    "# Print results\n",
    "print(f\"Cross validation accuray for train set : {(cross_val_score(nb, X_train_tfidf, y_train).mean()*100).round(2)}%\")\n",
    "print(f\"Accuracy for train set : {(nb.score(X_train_tfidf, y_train)*100).round(2)}%\")\n",
    "print(f\"Accuracy for test set : {(nb.score(X_test_tfidf, y_test)*100).round(2)}%\")\n",
    "print(f\"Accuracy for val set: {(nb.score(X_val_tfidf, y_val)*100).round(2)}%\")"
   ]
  },
  {
   "cell_type": "markdown",
   "metadata": {},
   "source": [
    "#### Voting Classifier"
   ]
  },
  {
   "cell_type": "code",
   "execution_count": null,
   "metadata": {},
   "outputs": [],
   "source": [
    "vc = VotingClassifier(estimators=[('sv', sv), ('rc', rc), ('lr', lr_best), ('et', et_best), ('nb', nb)], voting='hard')\n",
    "vc.fit(X_train_tfidf, y_train)"
   ]
  },
  {
   "cell_type": "code",
   "execution_count": null,
   "metadata": {},
   "outputs": [],
   "source": [
    "print(f\"Cross validation accuray for train set : {(cross_val_score(vc, X_train_tfidf, y_train).mean()*100).round(2)}%\")\n",
    "print(f\"Accuracy for train set : {(vc.score(X_train_tfidf, y_train)*100).round(2)}%\")\n",
    "print(f\"Accuracy for test set : {(vc.score(X_test_tfidf, y_test)*100).round(2)}%\")\n",
    "print(f\"Accuracy for val set: {(vc.score(X_val_tfidf, y_val)*100).round(2)}%\")"
   ]
  },
  {
   "cell_type": "code",
   "execution_count": null,
   "metadata": {},
   "outputs": [],
   "source": [
    "y_pred = vc.predict(X_test_tfidf)"
   ]
  },
  {
   "cell_type": "code",
   "execution_count": null,
   "metadata": {},
   "outputs": [],
   "source": [
    "print(confusion_matrix(y_test, y_pred))"
   ]
  },
  {
   "cell_type": "code",
   "execution_count": null,
   "metadata": {},
   "outputs": [],
   "source": [
    "pickle.dump(vc, open(\"vc.pickle\", \"wb\"))"
   ]
  },
  {
   "cell_type": "code",
   "execution_count": null,
   "metadata": {},
   "outputs": [],
   "source": [
    "#class Sentiment_Analysis(text_input):\n",
    "#    def __init__(self):\n",
    "#        self.binary = 0\n",
    "#        self.result = 'Neutral/Bad'\n",
    "#    \n",
    "#    # VotingClassifier that predicts the Sentiment 0 or 1\n",
    "#    def classify(self, text_input):\n",
    "#        self.binary = vc.predict(input)\n",
    "#    \n",
    "#    # Transform binary answer to string\n",
    "#    def good_bad(self):\n",
    "#        if self.binary == 0\n",
    "#            return self.result\n",
    "#        else:\n",
    "#            self.result = 'Good'       "
   ]
  }
 ],
 "metadata": {
  "kernelspec": {
   "display_name": "Python [conda env:nf] *",
   "language": "python",
   "name": "conda-env-nf-py"
  },
  "language_info": {
   "codemirror_mode": {
    "name": "ipython",
    "version": 3
   },
   "file_extension": ".py",
   "mimetype": "text/x-python",
   "name": "python",
   "nbconvert_exporter": "python",
   "pygments_lexer": "ipython3",
   "version": "3.6.10"
  }
 },
 "nbformat": 4,
 "nbformat_minor": 4
}

{
 "cells": [
  {
   "cell_type": "markdown",
   "metadata": {},
   "source": [
    "# EDA and Models for Sentiment Analysis"
   ]
  },
  {
   "cell_type": "markdown",
   "metadata": {},
   "source": [
    "In this notebook we will do some data analysis with the sentiment dataset we put together.\n",
    "Furthermore we will use some machine learning models to try and classify the data."
   ]
  },
  {
   "cell_type": "code",
   "execution_count": 1,
   "metadata": {},
   "outputs": [],
   "source": [
    "# Import standard libraries\n",
    "import numpy as np\n",
    "import pandas as pd\n",
    "import seaborn as sns\n",
    "import matplotlib.pyplot as plt\n",
    "import sys\n",
    "from time import time\n",
    "\n",
    "# Add custom functions path\n",
    "sys.path.append('../Functions')"
   ]
  },
  {
   "cell_type": "code",
   "execution_count": 2,
   "metadata": {},
   "outputs": [
    {
     "data": {
      "text/plain": [
       "1    2854\n",
       "0    2853\n",
       "Name: label, dtype: int64"
      ]
     },
     "execution_count": 2,
     "metadata": {},
     "output_type": "execute_result"
    }
   ],
   "source": [
    "# Import data with custom function so the classes are balanced\n",
    "from datasets import load_stratified_dataset\n",
    "df = load_stratified_dataset(path='../Datasets/full_good_bad_dataset.csv', labels='label', samples_per_label=2854)\n",
    "\n",
    "# Did it work?\n",
    "df.label.value_counts()"
   ]
  },
  {
   "cell_type": "markdown",
   "metadata": {},
   "source": [
    "## EDA\n",
    "We start by doing some analysis of our data."
   ]
  },
  {
   "cell_type": "markdown",
   "metadata": {},
   "source": [
    "***\n",
    "- label: 1 = good sentiment; 0 = bad or neutral sentiment\n",
    "- source: the website the articles were scraped from\n",
    "- text: the complete article text\n",
    "- title: the news headline\n",
    "- url: the original link to the article\n",
    "- text_lem: preprocessed text without stopwords etc.\n",
    "***"
   ]
  },
  {
   "cell_type": "code",
   "execution_count": 3,
   "metadata": {},
   "outputs": [
    {
     "data": {
      "text/html": [
       "<div>\n",
       "<style scoped>\n",
       "    .dataframe tbody tr th:only-of-type {\n",
       "        vertical-align: middle;\n",
       "    }\n",
       "\n",
       "    .dataframe tbody tr th {\n",
       "        vertical-align: top;\n",
       "    }\n",
       "\n",
       "    .dataframe thead th {\n",
       "        text-align: right;\n",
       "    }\n",
       "</style>\n",
       "<table border=\"1\" class=\"dataframe\">\n",
       "  <thead>\n",
       "    <tr style=\"text-align: right;\">\n",
       "      <th></th>\n",
       "      <th>label</th>\n",
       "      <th>source</th>\n",
       "      <th>text</th>\n",
       "      <th>title</th>\n",
       "      <th>url</th>\n",
       "      <th>text_lem</th>\n",
       "    </tr>\n",
       "  </thead>\n",
       "  <tbody>\n",
       "    <tr>\n",
       "      <th>0</th>\n",
       "      <td>1</td>\n",
       "      <td>UpliftingNews</td>\n",
       "      <td>Related story: Man's Proposal To His Girlfrien...</td>\n",
       "      <td>Woman Gives Her Boyfriend An ‘Out’ After Getti...</td>\n",
       "      <td>viralmag</td>\n",
       "      <td>relate story man proposal girlfriend kfc go vi...</td>\n",
       "    </tr>\n",
       "    <tr>\n",
       "      <th>1</th>\n",
       "      <td>1</td>\n",
       "      <td>good_news_network</td>\n",
       "      <td>Andres Amador spends a lot of time on beaches ...</td>\n",
       "      <td>Man Uses Rake to Create Huge Murals in the Sho...</td>\n",
       "      <td>goodnewsnetwork</td>\n",
       "      <td>andres amador spend lot time beach create artw...</td>\n",
       "    </tr>\n",
       "    <tr>\n",
       "      <th>2</th>\n",
       "      <td>1</td>\n",
       "      <td>webhose.io</td>\n",
       "      <td>Yokohama extends hospitality to convention del...</td>\n",
       "      <td>Yokohama extends hospitality to convention del...</td>\n",
       "      <td>NaN</td>\n",
       "      <td>yokohama extend hospitality convention delegat...</td>\n",
       "    </tr>\n",
       "    <tr>\n",
       "      <th>3</th>\n",
       "      <td>1</td>\n",
       "      <td>webhose.io</td>\n",
       "      <td>Great Aussie Bake Off returns to the kitchen a...</td>\n",
       "      <td>Great Aussie Bake Off returns to the kitchen a...</td>\n",
       "      <td>NaN</td>\n",
       "      <td>great aussie bake return kitchen screen seanna...</td>\n",
       "    </tr>\n",
       "    <tr>\n",
       "      <th>4</th>\n",
       "      <td>0</td>\n",
       "      <td>webhose.io</td>\n",
       "      <td>William Shatner slams George Takei 13th Oct 20...</td>\n",
       "      <td>William Shatner slams George Takei</td>\n",
       "      <td>NaN</td>\n",
       "      <td>william shatner slams george takei 13th oct 20...</td>\n",
       "    </tr>\n",
       "  </tbody>\n",
       "</table>\n",
       "</div>"
      ],
      "text/plain": [
       "   label             source  \\\n",
       "0      1      UpliftingNews   \n",
       "1      1  good_news_network   \n",
       "2      1         webhose.io   \n",
       "3      1         webhose.io   \n",
       "4      0         webhose.io   \n",
       "\n",
       "                                                text  \\\n",
       "0  Related story: Man's Proposal To His Girlfrien...   \n",
       "1  Andres Amador spends a lot of time on beaches ...   \n",
       "2  Yokohama extends hospitality to convention del...   \n",
       "3  Great Aussie Bake Off returns to the kitchen a...   \n",
       "4  William Shatner slams George Takei 13th Oct 20...   \n",
       "\n",
       "                                               title              url  \\\n",
       "0  Woman Gives Her Boyfriend An ‘Out’ After Getti...         viralmag   \n",
       "1  Man Uses Rake to Create Huge Murals in the Sho...  goodnewsnetwork   \n",
       "2  Yokohama extends hospitality to convention del...              NaN   \n",
       "3  Great Aussie Bake Off returns to the kitchen a...              NaN   \n",
       "4                 William Shatner slams George Takei              NaN   \n",
       "\n",
       "                                            text_lem  \n",
       "0  relate story man proposal girlfriend kfc go vi...  \n",
       "1  andres amador spend lot time beach create artw...  \n",
       "2  yokohama extend hospitality convention delegat...  \n",
       "3  great aussie bake return kitchen screen seanna...  \n",
       "4  william shatner slams george takei 13th oct 20...  "
      ]
     },
     "execution_count": 3,
     "metadata": {},
     "output_type": "execute_result"
    }
   ],
   "source": [
    "# Overview\n",
    "df.head()"
   ]
  },
  {
   "cell_type": "markdown",
   "metadata": {},
   "source": [
    "***\n",
    "#### Domains\n",
    "Let's first look at the different domains we have in this dataset.\n",
    "***"
   ]
  },
  {
   "cell_type": "code",
   "execution_count": 4,
   "metadata": {},
   "outputs": [
    {
     "name": "stdout",
     "output_type": "stream",
     "text": [
      "The source domain is unknown for 2305 articles\n"
     ]
    }
   ],
   "source": [
    "# Count unknown article source and drop those\n",
    "url_list = df.url\n",
    "print(f'The source domain is unknown for {df.url.isnull().sum()} articles')\n",
    "url_list = url_list.dropna();"
   ]
  },
  {
   "cell_type": "code",
   "execution_count": 5,
   "metadata": {},
   "outputs": [
    {
     "name": "stdout",
     "output_type": "stream",
     "text": [
      "                 url  count\n",
      "223  goodnewsnetwork    706\n",
      "49               bbc    206\n",
      "565       thejournal    169\n",
      "558      theguardian    161\n",
      "109              cnn    113\n",
      "439         positive    111\n",
      "464          reuters    105\n",
      "256      independent     89\n",
      "371          nbcnews     39\n",
      "405          nytimes     39\n",
      "--------\n",
      "There are at least 684 unique domains in this dataset\n"
     ]
    }
   ],
   "source": [
    "# Count the number of times the domain appears\n",
    "values, counts = np.unique(url_list, return_counts=True)\n",
    "df_url = {'url' : values, 'count' : counts}\n",
    "df_url = pd.DataFrame(data=df_url)\n",
    "\n",
    "# Sort by counts\n",
    "df_url_sorted = df_url.sort_values('count', ascending=False)\n",
    "\n",
    "# Print result\n",
    "print(df_url.sort_values('count', ascending=False)[0:10])\n",
    "print('--------')\n",
    "print(f'There are at least {df_url.url.nunique()} unique domains in this dataset')"
   ]
  },
  {
   "cell_type": "code",
   "execution_count": 6,
   "metadata": {},
   "outputs": [
    {
     "data": {
      "image/png": "[encoded data removed]",
      "text/plain": [
       "<Figure size 842.4x595.44 with 1 Axes>"
      ]
     },
     "metadata": {
      "needs_background": "light"
     },
     "output_type": "display_data"
    }
   ],
   "source": [
    "# Show top 10 domains\n",
    "dims = (11.7, 8.27)\n",
    "fig, ax = plt.subplots(figsize=dims)\n",
    "ax = sns.barplot(x=\"url\", y=\"count\", data=df_url_sorted[0:10])"
   ]
  },
  {
   "cell_type": "markdown",
   "metadata": {},
   "source": [
    "***\n",
    "'goodnewsnetwork' is one of the scraped websites for positive news. In contrast to other similar sites, they write all of their articles and don't link to external sources. \n",
    "Thus it was expected that they would be one of the most frequent sites to find in our dataset.\n",
    "'Positive' and 'thejournal' are also scraped sites for positive news, where they write some articles themselves.\n",
    "***"
   ]
  },
  {
   "cell_type": "code",
   "execution_count": 7,
   "metadata": {},
   "outputs": [],
   "source": [
    "# Drop specifically scraped sites\n",
    "df_url_sorted = df_url_sorted.drop(df_url_sorted[df_url_sorted.url == 'goodnewsnetwork'].index)\n",
    "df_url_sorted = df_url_sorted.drop(df_url_sorted[df_url_sorted.url == 'positive'].index)\n",
    "df_url_sorted = df_url_sorted.drop(df_url_sorted[df_url_sorted.url == 'thejournal'].index)"
   ]
  },
  {
   "cell_type": "code",
   "execution_count": 8,
   "metadata": {},
   "outputs": [
    {
     "name": "stdout",
     "output_type": "stream",
     "text": [
      "The top 10 domains contribute at least 860 articles to the dataset\n"
     ]
    },
    {
     "data": {
      "image/png": "[encoded data removed]",
      "text/plain": [
       "<Figure size 842.4x595.44 with 1 Axes>"
      ]
     },
     "metadata": {
      "needs_background": "light"
     },
     "output_type": "display_data"
    }
   ],
   "source": [
    "# Show top 10 again\n",
    "dims = (11.7, 8.27)\n",
    "fig, ax = plt.subplots(figsize=dims)\n",
    "ax = sns.barplot(x=\"url\", y=\"count\", data=df_url_sorted[0:10])\n",
    "print(f'The top 10 domains contribute at least {df_url_sorted[\"count\"][0:10].sum()} articles to the dataset')"
   ]
  },
  {
   "cell_type": "markdown",
   "metadata": {},
   "source": [
    "***\n",
    "These kind of distributions can always influence our machine learning models, as the domains all differ in writing style and website design. Let's keep this in mind for further analysis and later on.\n",
    "***"
   ]
  },
  {
   "cell_type": "markdown",
   "metadata": {},
   "source": [
    "#### Word influence on good and bad/neutral news\n",
    "Next up we will analyse the word distribution"
   ]
  },
  {
   "cell_type": "code",
   "execution_count": 9,
   "metadata": {},
   "outputs": [
    {
     "data": {
      "image/png": "[encoded data removed]",
      "text/plain": [
       "<Figure size 648x792 with 1 Axes>"
      ]
     },
     "metadata": {
      "needs_background": "light"
     },
     "output_type": "display_data"
    }
   ],
   "source": [
    "# Import libraries\n",
    "from sklearn.naive_bayes import MultinomialNB\n",
    "from sklearn.feature_extraction.text import CountVectorizer\n",
    "\n",
    "# Vectorize words by their number of appearance\n",
    "vect = CountVectorizer()\n",
    "X = vect.fit_transform(df.text_lem)\n",
    "words = vect.get_feature_names()\n",
    "\n",
    "# Define label\n",
    "y = df['label'].values\n",
    "\n",
    "# Remove alpha to prevent bias\n",
    "clf = MultinomialNB(alpha=1.e-10)\n",
    "clf.fit(X,y)\n",
    "\n",
    "# Create Dataframe for probability\n",
    "likelihood_df = pd.DataFrame(clf.feature_log_prob_.transpose(),columns=['negative', 'positive'], index=words)\n",
    "likelihood_df['Influence'] = likelihood_df.eval('(exp(positive) - exp(negative))')\n",
    "top_10 = likelihood_df['Influence'].sort_values(ascending=False)[:10]\n",
    "\n",
    "# Double-sorting here so that the graph will look nicer\n",
    "bottom_10 = likelihood_df['Influence'].sort_values()[:10].sort_values(ascending=False)\n",
    "top_and_bottom = pd.concat([top_10,bottom_10])\n",
    "\n",
    "# Plot\n",
    "x = range(10)\n",
    "fig = plt.figure(figsize=(9,11))\n",
    "ax = plt.subplot(111)\n",
    "ax.barh(top_10.index, top_10, edgecolor='black')\n",
    "ax.barh(bottom_10.index, bottom_10, edgecolor='black');\n",
    "ax.set_title('Influence of single words');\n",
    "ax.legend(['Good', 'Bad/Neutral']);"
   ]
  },
  {
   "cell_type": "markdown",
   "metadata": {},
   "source": [
    "***\n",
    "The influence of bad/neutral words seems to be greater than that of good words. Also the word 'say' seems to appear a lot more in bad/neutral labeled articles than in good ones, which is kind of interesting.\n",
    "Most of the words make quite a bit of sense. \n",
    "'com' in the good category \n",
    "\n",
    "***"
   ]
  },
  {
   "cell_type": "markdown",
   "metadata": {},
   "source": [
    "## Models"
   ]
  },
  {
   "cell_type": "code",
   "execution_count": 10,
   "metadata": {},
   "outputs": [],
   "source": [
    "# Importing the auxiliary and preprocessing libraries \n",
    "from sklearn.model_selection import train_test_split\n",
    "from sklearn.metrics import accuracy_score, confusion_matrix, classification_report\n",
    "from sklearn.model_selection import cross_val_score\n",
    "from sklearn.metrics import accuracy_score\n",
    "from sklearn.feature_extraction.text import TfidfVectorizer\n",
    "import pickle\n",
    "\n",
    "# Import Models\n",
    "import warnings\n",
    "warnings.filterwarnings(\"ignore\")\n",
    "\n",
    "from sklearn.decomposition import PCA\n",
    "from sklearn.svm import LinearSVC\n",
    "from sklearn.linear_model import RidgeClassifier, LogisticRegression\n",
    "from sklearn.tree import DecisionTreeClassifier\n",
    "from xgboost import XGBClassifier\n",
    "from sklearn.naive_bayes import MultinomialNB\n",
    "from sklearn.feature_selection import SelectFromModel\n",
    "from sklearn.ensemble import RandomForestClassifier, GradientBoostingClassifier, ExtraTreesClassifier, BaggingClassifier, VotingClassifier \n",
    "from sklearn.model_selection import GridSearchCV, RandomizedSearchCV\n",
    "\n",
    "# Set random_state\n",
    "random_state = 69"
   ]
  },
  {
   "cell_type": "code",
   "execution_count": 11,
   "metadata": {},
   "outputs": [],
   "source": [
    "# Create models\n",
    "models = []\n",
    "models.append((\"LogReg\", LogisticRegression(n_jobs=-1, random_state=random_state)))            \n",
    "models.append((\"NaiveBayes\", MultinomialNB()))\n",
    "models.append((\"XGBClassifier\", XGBClassifier(n_jobs=-1, random_state=random_state)))\n",
    "models.append((\"DecisionTreeClassifier\", DecisionTreeClassifier(random_state=random_state)))\n",
    "models.append((\"RandomForestClassifier\", RandomForestClassifier(n_jobs=-1, random_state=random_state)))\n",
    "models.append((\"GradientBoostingClassifier\", GradientBoostingClassifier(random_state=random_state)))\n",
    "models.append((\"RidgeClassifier\", RidgeClassifier(random_state=random_state)))\n",
    "models.append((\"BaggingRidgeClassifier\", BaggingClassifier(n_jobs=-1, random_state=random_state)))\n",
    "models.append((\"ExtraTreesClassifier\", ExtraTreesClassifier(n_jobs=-1, random_state=random_state)))\n",
    "models.append((\"LinearSVC\", LinearSVC(random_state=random_state)))"
   ]
  },
  {
   "cell_type": "code",
   "execution_count": 12,
   "metadata": {},
   "outputs": [],
   "source": [
    "# Split the data into train, test and validation set\n",
    "X = df['text_lem'] # already preprocessed\n",
    "y = df['label']\n",
    "X_train, X_test, y_train, y_test = train_test_split(X, y, random_state = random_state)\n",
    "X_train, X_val, y_train, y_val = train_test_split(X_train, y_train, test_size=.15, random_state=random_state)"
   ]
  },
  {
   "cell_type": "code",
   "execution_count": 72,
   "metadata": {},
   "outputs": [],
   "source": [
    "# Vectorize the data\n",
    "tfidf = TfidfVectorizer()\n",
    "\n",
    "# Fit the transformer\n",
    "tfidf_fit = tfidf.fit(X_train)\n",
    "\n",
    "# Transform all splits\n",
    "X_train_tfidf = tfidf_fit.transform(X_train)\n",
    "X_test_tfidf = tfidf_fit.transform(X_test)\n",
    "X_val_tfidf = tfidf_fit.transform(X_val)\n",
    "\n",
    "# Save the fitted transformer\n",
    "pickle.dump(tfidf_fit, open(\"tfidf.pickle\", \"wb\"))"
   ]
  },
  {
   "cell_type": "code",
   "execution_count": 46,
   "metadata": {},
   "outputs": [
    {
     "name": "stdout",
     "output_type": "stream",
     "text": [
      "Shape train: 3638 rows\n",
      "Shape test: 1427 rows\n",
      "Shape val: 642 rows\n"
     ]
    }
   ],
   "source": [
    "# Print shapes of the splits\n",
    "print(f'Shape train: {X_train.shape[0]} rows')\n",
    "print(f'Shape test: {X_test.shape[0]} rows')\n",
    "print(f'Shape val: {X_val.shape[0]} rows')"
   ]
  },
  {
   "cell_type": "code",
   "execution_count": 47,
   "metadata": {},
   "outputs": [],
   "source": [
    "# Create a Dataframe for the model results\n",
    "model_results = pd.DataFrame(columns=['name', 'result', 'runtime'])"
   ]
  },
  {
   "cell_type": "code",
   "execution_count": 48,
   "metadata": {},
   "outputs": [
    {
     "name": "stdout",
     "output_type": "stream",
     "text": [
      "LogReg: 0.8546 (+/-0.0137)\n",
      "NaiveBayes: 0.8378 (+/-0.0136)\n",
      "XGBClassifier: 0.8139 (+/-0.0149)\n",
      "DecisionTreeClassifier: 0.6839 (+/-0.0089)\n",
      "RandomForestClassifier: 0.8348 (+/-0.016)\n",
      "GradientBoostingClassifier: 0.8186 (+/-0.0183)\n",
      "RidgeClassifier: 0.8576 (+/-0.0098)\n",
      "BaggingRidgeClassifier: 0.7694 (+/-0.0209)\n",
      "ExtraTreesClassifier: 0.8436 (+/-0.0107)\n",
      "LinearSVC: 0.8565 (+/-0.0113)\n"
     ]
    }
   ],
   "source": [
    "# Run the models, save and print the results\n",
    "for name, model  in models:\n",
    "    start = time()\n",
    "    cv_results = cross_val_score(model, X_train_tfidf, y_train, \n",
    "                                 cv= 5, scoring='accuracy',\n",
    "                                 n_jobs=-1)\n",
    "    end = time()\n",
    "    runtime = end-start\n",
    "    results_df = pd.DataFrame([[name, cv_results.mean(), runtime]], columns=['name', 'result', 'runtime'])\n",
    "    model_results = model_results.append(results_df)\n",
    "    print(f'{name}: {cv_results.mean().round(4)} (+/-{cv_results.std().round(4)})')"
   ]
  },
  {
   "cell_type": "code",
   "execution_count": 17,
   "metadata": {},
   "outputs": [
    {
     "data": {
      "text/html": [
       "<div>\n",
       "<style scoped>\n",
       "    .dataframe tbody tr th:only-of-type {\n",
       "        vertical-align: middle;\n",
       "    }\n",
       "\n",
       "    .dataframe tbody tr th {\n",
       "        vertical-align: top;\n",
       "    }\n",
       "\n",
       "    .dataframe thead th {\n",
       "        text-align: right;\n",
       "    }\n",
       "</style>\n",
       "<table border=\"1\" class=\"dataframe\">\n",
       "  <thead>\n",
       "    <tr style=\"text-align: right;\">\n",
       "      <th></th>\n",
       "      <th>name</th>\n",
       "      <th>result</th>\n",
       "      <th>runtime</th>\n",
       "    </tr>\n",
       "  </thead>\n",
       "  <tbody>\n",
       "    <tr>\n",
       "      <th>0</th>\n",
       "      <td>LogReg</td>\n",
       "      <td>0.854322</td>\n",
       "      <td>4.353772</td>\n",
       "    </tr>\n",
       "    <tr>\n",
       "      <th>1</th>\n",
       "      <td>NaiveBayes</td>\n",
       "      <td>0.830682</td>\n",
       "      <td>0.174318</td>\n",
       "    </tr>\n",
       "    <tr>\n",
       "      <th>2</th>\n",
       "      <td>XGBClassifier</td>\n",
       "      <td>0.808419</td>\n",
       "      <td>74.234441</td>\n",
       "    </tr>\n",
       "    <tr>\n",
       "      <th>3</th>\n",
       "      <td>DecisionTreeClassifier</td>\n",
       "      <td>0.686642</td>\n",
       "      <td>11.693481</td>\n",
       "    </tr>\n",
       "    <tr>\n",
       "      <th>4</th>\n",
       "      <td>RandomForestClassifier</td>\n",
       "      <td>0.840300</td>\n",
       "      <td>12.782195</td>\n",
       "    </tr>\n",
       "    <tr>\n",
       "      <th>5</th>\n",
       "      <td>GradientBoostingClassifier</td>\n",
       "      <td>0.817208</td>\n",
       "      <td>76.227036</td>\n",
       "    </tr>\n",
       "    <tr>\n",
       "      <th>6</th>\n",
       "      <td>RidgeClassifier</td>\n",
       "      <td>0.859539</td>\n",
       "      <td>0.384786</td>\n",
       "    </tr>\n",
       "    <tr>\n",
       "      <th>7</th>\n",
       "      <td>BaggingRidgeClassifier</td>\n",
       "      <td>0.765812</td>\n",
       "      <td>38.138979</td>\n",
       "    </tr>\n",
       "    <tr>\n",
       "      <th>8</th>\n",
       "      <td>ExtraTreesClassifier</td>\n",
       "      <td>0.844149</td>\n",
       "      <td>22.707623</td>\n",
       "    </tr>\n",
       "    <tr>\n",
       "      <th>9</th>\n",
       "      <td>LinearSVC</td>\n",
       "      <td>0.859266</td>\n",
       "      <td>0.405087</td>\n",
       "    </tr>\n",
       "  </tbody>\n",
       "</table>\n",
       "</div>"
      ],
      "text/plain": [
       "                         name    result    runtime\n",
       "0                      LogReg  0.854322   4.353772\n",
       "1                  NaiveBayes  0.830682   0.174318\n",
       "2               XGBClassifier  0.808419  74.234441\n",
       "3      DecisionTreeClassifier  0.686642  11.693481\n",
       "4      RandomForestClassifier  0.840300  12.782195\n",
       "5  GradientBoostingClassifier  0.817208  76.227036\n",
       "6             RidgeClassifier  0.859539   0.384786\n",
       "7      BaggingRidgeClassifier  0.765812  38.138979\n",
       "8        ExtraTreesClassifier  0.844149  22.707623\n",
       "9                   LinearSVC  0.859266   0.405087"
      ]
     },
     "execution_count": 17,
     "metadata": {},
     "output_type": "execute_result"
    }
   ],
   "source": [
    "# Set index and display results dataframe\n",
    "model_results.set_index(pd.Index(list(range(0, model_results.shape[0]))), inplace=True)\n",
    "model_results"
   ]
  },
  {
   "cell_type": "code",
   "execution_count": 18,
   "metadata": {},
   "outputs": [
    {
     "data": {
      "image/png": "[encoded data removed]",
      "text/plain": [
       "<Figure size 864x432 with 1 Axes>"
      ]
     },
     "metadata": {
      "needs_background": "light"
     },
     "output_type": "display_data"
    }
   ],
   "source": [
    "# Let's plot the runtime\n",
    "fig = plt.figure(figsize=(12,6))\n",
    "ax = plt.subplot(111)\n",
    "ax = sns.barplot(x=\"name\", y=\"runtime\", data=model_results, color='crimson')\n",
    "ax.set_xticklabels(ax.get_xticklabels(),rotation=45);\n",
    "ax.set_xlabel(\"Algorithm\", fontsize=20);\n",
    "ax.set_ylabel(\"Runtime\", fontsize=18)\n",
    "plt.rcParams['xtick.major.size'] = 2\n",
    "plt.rcParams['xtick.major.width'] = 1\n",
    "plt.rcParams['xtick.bottom'] = True"
   ]
  },
  {
   "cell_type": "markdown",
   "metadata": {},
   "source": [
    "### Optimization\n",
    "\n",
    "Let's use the top 5 models and try to tune their parameters for optimal performance"
   ]
  },
  {
   "cell_type": "code",
   "execution_count": 19,
   "metadata": {},
   "outputs": [
    {
     "data": {
      "text/html": [
       "<div>\n",
       "<style scoped>\n",
       "    .dataframe tbody tr th:only-of-type {\n",
       "        vertical-align: middle;\n",
       "    }\n",
       "\n",
       "    .dataframe tbody tr th {\n",
       "        vertical-align: top;\n",
       "    }\n",
       "\n",
       "    .dataframe thead th {\n",
       "        text-align: right;\n",
       "    }\n",
       "</style>\n",
       "<table border=\"1\" class=\"dataframe\">\n",
       "  <thead>\n",
       "    <tr style=\"text-align: right;\">\n",
       "      <th></th>\n",
       "      <th>name</th>\n",
       "      <th>result</th>\n",
       "      <th>runtime</th>\n",
       "    </tr>\n",
       "  </thead>\n",
       "  <tbody>\n",
       "    <tr>\n",
       "      <th>6</th>\n",
       "      <td>RidgeClassifier</td>\n",
       "      <td>0.859539</td>\n",
       "      <td>0.384786</td>\n",
       "    </tr>\n",
       "    <tr>\n",
       "      <th>9</th>\n",
       "      <td>LinearSVC</td>\n",
       "      <td>0.859266</td>\n",
       "      <td>0.405087</td>\n",
       "    </tr>\n",
       "    <tr>\n",
       "      <th>0</th>\n",
       "      <td>LogReg</td>\n",
       "      <td>0.854322</td>\n",
       "      <td>4.353772</td>\n",
       "    </tr>\n",
       "    <tr>\n",
       "      <th>8</th>\n",
       "      <td>ExtraTreesClassifier</td>\n",
       "      <td>0.844149</td>\n",
       "      <td>22.707623</td>\n",
       "    </tr>\n",
       "    <tr>\n",
       "      <th>4</th>\n",
       "      <td>RandomForestClassifier</td>\n",
       "      <td>0.840300</td>\n",
       "      <td>12.782195</td>\n",
       "    </tr>\n",
       "  </tbody>\n",
       "</table>\n",
       "</div>"
      ],
      "text/plain": [
       "                     name    result    runtime\n",
       "6         RidgeClassifier  0.859539   0.384786\n",
       "9               LinearSVC  0.859266   0.405087\n",
       "0                  LogReg  0.854322   4.353772\n",
       "8    ExtraTreesClassifier  0.844149  22.707623\n",
       "4  RandomForestClassifier  0.840300  12.782195"
      ]
     },
     "execution_count": 19,
     "metadata": {},
     "output_type": "execute_result"
    }
   ],
   "source": [
    "# Sort the 5 best models\n",
    "model_results.sort_values(by=['result'], ascending=False)[0:5]"
   ]
  },
  {
   "cell_type": "markdown",
   "metadata": {},
   "source": [
    "***\n",
    "SVC, Ridge, LogReg, ExtraTrees and RandomForest/NaiveBayes usually give the best scores. Instead of the RandomForest, we will use the NaiveBayes to bring another sort of algorithm into our VotingClassifier in the end.\n",
    "***"
   ]
  },
  {
   "cell_type": "code",
   "execution_count": 20,
   "metadata": {},
   "outputs": [],
   "source": [
    "# Function to print the best parameters from Grid- or RandomizedSearch\n",
    "def best_parameters(model_name):\n",
    "    print('---------------')\n",
    "    print('Best parameters')\n",
    "    print('---------------')\n",
    "    for pair in model_name.best_params_.items():\n",
    "        print(f'{pair[0].capitalize()} : {pair[1]}')"
   ]
  },
  {
   "cell_type": "markdown",
   "metadata": {},
   "source": [
    "#### RidgeClassifier\n",
    "\n",
    "A RidgeClassifier can only be optimized by chaning its solving algorithm. In this case the 'auto' function already chose the best possible solver for our case, so further tuning is not needed."
   ]
  },
  {
   "cell_type": "code",
   "execution_count": 21,
   "metadata": {},
   "outputs": [
    {
     "name": "stdout",
     "output_type": "stream",
     "text": [
      "Mean Accuracy for train set : 85.95%\n",
      "Accuracy for test set : 86.76%\n",
      "Accuracy for val set: 87.54%\n"
     ]
    }
   ],
   "source": [
    "# Use the model on the test and validation sets\n",
    "rc = RidgeClassifier(random_state=random_state).fit(X_train_tfidf, y_train)\n",
    "print(f\"Mean Accuracy for train set : {(cross_val_score(rc, X_train_tfidf, y_train).mean()*100).round(2)}%\")\n",
    "print(f\"Accuracy for test set : {(rc.score(X_test_tfidf, y_test)*100).round(2)}%\")\n",
    "print(f\"Accuracy for val set: {(rc.score(X_val_tfidf, y_val)*100).round(2)}%\")"
   ]
  },
  {
   "cell_type": "markdown",
   "metadata": {},
   "source": [
    "#### Logistic Regression\n",
    "\n",
    "The default algorithm is already quite good. We can take a look at what happens when we introduce a few different C-Scores."
   ]
  },
  {
   "cell_type": "code",
   "execution_count": 22,
   "metadata": {},
   "outputs": [
    {
     "name": "stdout",
     "output_type": "stream",
     "text": [
      "Cross validation accuray for train set : 85.43%\n",
      "Accuracy for train set : 93.98%\n",
      "Accuracy for test set : 86.19%\n",
      "Accuracy for val set: 88.47%\n"
     ]
    }
   ],
   "source": [
    "lr = LogisticRegression(n_jobs=-1, random_state=random_state).fit(X_train_tfidf, y_train)\n",
    "print(f\"Cross validation accuray for train set : {(cross_val_score(lr, X_train_tfidf, y_train).mean()*100).round(2)}%\")\n",
    "print(f\"Accuracy for train set : {(lr.score(X_train_tfidf, y_train)*100).round(2)}%\")\n",
    "print(f\"Accuracy for test set : {(lr.score(X_test_tfidf, y_test)*100).round(2)}%\")\n",
    "print(f\"Accuracy for val set: {(lr.score(X_val_tfidf, y_val)*100).round(2)}%\")"
   ]
  },
  {
   "cell_type": "code",
   "execution_count": 23,
   "metadata": {},
   "outputs": [
    {
     "name": "stdout",
     "output_type": "stream",
     "text": [
      "Fitting 5 folds for each of 18 candidates, totalling 90 fits\n"
     ]
    },
    {
     "name": "stderr",
     "output_type": "stream",
     "text": [
      "[Parallel(n_jobs=-1)]: Using backend LokyBackend with 4 concurrent workers.\n",
      "[Parallel(n_jobs=-1)]: Done  42 tasks      | elapsed:    4.3s\n",
      "[Parallel(n_jobs=-1)]: Done  90 out of  90 | elapsed:    9.3s finished\n"
     ]
    },
    {
     "name": "stdout",
     "output_type": "stream",
     "text": [
      "---------------\n",
      "Best parameters\n",
      "---------------\n",
      "C : 1\n",
      "Solver : saga\n"
     ]
    }
   ],
   "source": [
    "# Define parameters for GridSearch\n",
    "params_lr = {'C' : [0.01, 0.025, 0.05, 0.1, 0.5, 1],\n",
    "             'solver' : ['saga', 'sag', 'lbfgs']\n",
    "            }\n",
    "\n",
    "# Run GridSearchs\n",
    "lr_search = GridSearchCV(lr, params_lr, cv=5, n_jobs=-1, verbose=1)\n",
    "lr_search.fit(X_train_tfidf, y_train)\n",
    "\n",
    "# Print the best parameters\n",
    "best_parameters(lr_search)"
   ]
  },
  {
   "cell_type": "markdown",
   "metadata": {},
   "source": [
    "***\n",
    "C = 1 is the default value. We will therefore see no change in the outcome. Since the algorithm is not yet overfitting we can leave it at that.\n",
    "Let's use the 2 params and prove our hypothesis.\n",
    "***"
   ]
  },
  {
   "cell_type": "code",
   "execution_count": 24,
   "metadata": {},
   "outputs": [
    {
     "name": "stdout",
     "output_type": "stream",
     "text": [
      "Cross validation for train set : 85.46%\n",
      "Accuracy for train set : 94.04%\n",
      "Accuracy for test set : 86.19%\n",
      "Accuracy for val set: 88.47%\n"
     ]
    }
   ],
   "source": [
    "# Get best model\n",
    "lr_best = lr_search.best_estimator_\n",
    "\n",
    "# Fit on the data\n",
    "lr_best.fit(X_train_tfidf, y_train)\n",
    "\n",
    "# Print results\n",
    "print(f\"Cross validation for train set : {(cross_val_score(lr_best, X_train_tfidf, y_train).mean()*100).round(2)}%\")\n",
    "print(f\"Accuracy for train set : {(lr_best.score(X_train_tfidf, y_train)*100).round(2)}%\")\n",
    "print(f\"Accuracy for test set : {(lr_best.score(X_test_tfidf, y_test)*100).round(2)}%\")\n",
    "print(f\"Accuracy for val set: {(lr_best.score(X_val_tfidf, y_val)*100).round(2)}%\")"
   ]
  },
  {
   "cell_type": "markdown",
   "metadata": {},
   "source": [
    "#### Extra-trees classifier"
   ]
  },
  {
   "cell_type": "code",
   "execution_count": 25,
   "metadata": {},
   "outputs": [
    {
     "name": "stdout",
     "output_type": "stream",
     "text": [
      "Cross validation accuray for train set : 84.41%\n",
      "Accuracy for train set : 99.89%\n",
      "Accuracy for test set : 85.49%\n",
      "Accuracy for val set: 88.16%\n"
     ]
    }
   ],
   "source": [
    "# Define model and fit\n",
    "et = ExtraTreesClassifier(n_jobs=-1, random_state=random_state).fit(X_train_tfidf, y_train)\n",
    "\n",
    "# Print results\n",
    "print(f\"Cross validation accuray for train set : {(cross_val_score(et, X_train_tfidf, y_train).mean()*100).round(2)}%\")\n",
    "print(f\"Accuracy for train set : {(et.score(X_train_tfidf, y_train)*100).round(2)}%\")\n",
    "print(f\"Accuracy for test set : {(et.score(X_test_tfidf, y_test)*100).round(2)}%\")\n",
    "print(f\"Accuracy for val set: {(et.score(X_val_tfidf, y_val)*100).round(2)}%\")"
   ]
  },
  {
   "cell_type": "markdown",
   "metadata": {},
   "source": [
    "***\n",
    "The Classifier is overfitting with nearly 100% on the trainset. We will need to tune it down.\n",
    "***"
   ]
  },
  {
   "cell_type": "code",
   "execution_count": 26,
   "metadata": {},
   "outputs": [
    {
     "name": "stdout",
     "output_type": "stream",
     "text": [
      "Fitting 5 folds for each of 100 candidates, totalling 500 fits\n"
     ]
    },
    {
     "name": "stderr",
     "output_type": "stream",
     "text": [
      "[Parallel(n_jobs=-1)]: Using backend LokyBackend with 4 concurrent workers.\n",
      "[Parallel(n_jobs=-1)]: Done  42 tasks      | elapsed:   23.7s\n",
      "[Parallel(n_jobs=-1)]: Done 192 tasks      | elapsed:  1.5min\n",
      "[Parallel(n_jobs=-1)]: Done 442 tasks      | elapsed:  3.7min\n",
      "[Parallel(n_jobs=-1)]: Done 500 out of 500 | elapsed:  4.3min finished\n"
     ]
    },
    {
     "name": "stdout",
     "output_type": "stream",
     "text": [
      "---------------\n",
      "Best parameters\n",
      "---------------\n",
      "Min_samples_split : 5\n",
      "Min_samples_leaf : 10\n",
      "Max_leaf_nodes : 100\n",
      "Max_depth : 80.0\n",
      "Criterion : gini\n",
      "Bootstrap : False\n"
     ]
    }
   ],
   "source": [
    "# Define parameters for RandomizedSearch\n",
    "params_et = {'max_depth' : np.linspace(10, 110, num = 11).tolist() + [None],\n",
    "            'min_samples_split' : [5, 10, 15],\n",
    "            'min_samples_leaf' : [10,15,20],\n",
    "            'bootstrap' : [True, False],\n",
    "            'max_leaf_nodes' : [50,100],\n",
    "            'criterion' : ['gini', 'entropy']\n",
    "            }\n",
    "\n",
    "# Run GridSearch\n",
    "et_search = RandomizedSearchCV(et, params_et, cv=5, n_jobs=-1, verbose=1, n_iter = 100)\n",
    "et_search.fit(X_train_tfidf, y_train)\n",
    "\n",
    "# Print the best parameters\n",
    "best_parameters(et_search)"
   ]
  },
  {
   "cell_type": "code",
   "execution_count": 27,
   "metadata": {},
   "outputs": [
    {
     "name": "stdout",
     "output_type": "stream",
     "text": [
      "Cross validation for train set : 82.93%\n",
      "Accuracy for train set : 88.18%\n",
      "Accuracy for test set : 84.09%\n",
      "Accuracy for val set: 87.23%\n"
     ]
    }
   ],
   "source": [
    "# Get best model\n",
    "et_best = et_search.best_estimator_\n",
    "\n",
    "# Fit on the data\n",
    "et_best.fit(X_train_tfidf, y_train)\n",
    "\n",
    "# Print results\n",
    "print(f\"Cross validation for train set : {(cross_val_score(et_best, X_train_tfidf, y_train).mean()*100).round(2)}%\")\n",
    "print(f\"Accuracy for train set : {(et_best.score(X_train_tfidf, y_train)*100).round(2)}%\")\n",
    "print(f\"Accuracy for test set : {(et_best.score(X_test_tfidf, y_test)*100).round(2)}%\")\n",
    "print(f\"Accuracy for val set: {(et_best.score(X_val_tfidf, y_val)*100).round(2)}%\")"
   ]
  },
  {
   "cell_type": "markdown",
   "metadata": {},
   "source": [
    "***\n",
    "Looking good. Let's see if we can make it even better.\n",
    "***"
   ]
  },
  {
   "cell_type": "code",
   "execution_count": 28,
   "metadata": {},
   "outputs": [
    {
     "name": "stdout",
     "output_type": "stream",
     "text": [
      "Fitting 5 folds for each of 81 candidates, totalling 405 fits\n"
     ]
    },
    {
     "name": "stderr",
     "output_type": "stream",
     "text": [
      "[Parallel(n_jobs=-1)]: Using backend LokyBackend with 4 concurrent workers.\n",
      "[Parallel(n_jobs=-1)]: Done  42 tasks      | elapsed:   48.0s\n",
      "[Parallel(n_jobs=-1)]: Done 192 tasks      | elapsed:  3.2min\n",
      "[Parallel(n_jobs=-1)]: Done 405 out of 405 | elapsed:  6.8min finished\n"
     ]
    },
    {
     "name": "stdout",
     "output_type": "stream",
     "text": [
      "---------------\n",
      "Best parameters\n",
      "---------------\n",
      "Criterion : entropy\n",
      "Max_depth : 50\n",
      "Max_leaf_nodes : 102\n",
      "Min_samples_leaf : 5\n",
      "Min_samples_split : 15\n"
     ]
    }
   ],
   "source": [
    "# Define parameters for GridSearch\n",
    "params_et = {'max_depth' : [45,50,55],\n",
    "            'min_samples_split' : [5,10,15],\n",
    "            'min_samples_leaf' : [5,10,15],\n",
    "            'max_leaf_nodes' : [100,102,104],\n",
    "            'criterion' : ['entropy']\n",
    "            }\n",
    "\n",
    "# Run GridSearch\n",
    "et_search = GridSearchCV(et, params_et, cv=5, n_jobs=-1, verbose=1)\n",
    "et_search.fit(X_train_tfidf, y_train)\n",
    "\n",
    "# Print the best parameters\n",
    "best_parameters(et_search)"
   ]
  },
  {
   "cell_type": "code",
   "execution_count": 29,
   "metadata": {},
   "outputs": [
    {
     "name": "stdout",
     "output_type": "stream",
     "text": [
      "Cross validation for train set : 83.34%\n",
      "Accuracy for train set : 90.27%\n",
      "Accuracy for test set : 84.23%\n",
      "Accuracy for val set: 86.76%\n"
     ]
    }
   ],
   "source": [
    "# Get best model\n",
    "et_best = et_search.best_estimator_\n",
    "\n",
    "# Fit on the data\n",
    "et_best.fit(X_train_tfidf, y_train)\n",
    "\n",
    "# Print results\n",
    "print(f\"Cross validation for train set : {(cross_val_score(et_best, X_train_tfidf, y_train).mean()*100).round(2)}%\")\n",
    "print(f\"Accuracy for train set : {(et_best.score(X_train_tfidf, y_train)*100).round(2)}%\")\n",
    "print(f\"Accuracy for test set : {(et_best.score(X_test_tfidf, y_test)*100).round(2)}%\")\n",
    "print(f\"Accuracy for val set: {(et_best.score(X_val_tfidf, y_val)*100).round(2)}%\")"
   ]
  },
  {
   "cell_type": "markdown",
   "metadata": {},
   "source": [
    "***\n",
    "It became a tiny bit better. Let's stop here so it doesn't overfit.\n",
    "***"
   ]
  },
  {
   "cell_type": "markdown",
   "metadata": {},
   "source": [
    "#### NaiveBayes"
   ]
  },
  {
   "cell_type": "code",
   "execution_count": 30,
   "metadata": {},
   "outputs": [
    {
     "name": "stdout",
     "output_type": "stream",
     "text": [
      "Cross validation accuray for train set : 83.07%\n",
      "Accuracy for train set : 91.12%\n",
      "Accuracy for test set : 84.65%\n",
      "Accuracy for val set: 87.07%\n"
     ]
    }
   ],
   "source": [
    "# Define model and fit\n",
    "nb = MultinomialNB().fit(X_train_tfidf, y_train)\n",
    "\n",
    "# Print results\n",
    "print(f\"Cross validation accuray for train set : {(cross_val_score(nb, X_train_tfidf, y_train).mean()*100).round(2)}%\")\n",
    "print(f\"Accuracy for train set : {(nb.score(X_train_tfidf, y_train)*100).round(2)}%\")\n",
    "print(f\"Accuracy for test set : {(nb.score(X_test_tfidf, y_test)*100).round(2)}%\")\n",
    "print(f\"Accuracy for val set: {(nb.score(X_val_tfidf, y_val)*100).round(2)}%\")"
   ]
  },
  {
   "cell_type": "markdown",
   "metadata": {},
   "source": [
    "#### Linear SupportVectorClassifier"
   ]
  },
  {
   "cell_type": "code",
   "execution_count": 31,
   "metadata": {},
   "outputs": [
    {
     "name": "stdout",
     "output_type": "stream",
     "text": [
      "Cross validation accuray for train set : 83.07%\n",
      "Accuracy for train set : 91.12%\n",
      "Accuracy for test set : 84.65%\n",
      "Accuracy for val set: 87.07%\n"
     ]
    }
   ],
   "source": [
    "# Define model and fit\n",
    "sv = LinearSVC(random_state=random_state).fit(X_train_tfidf, y_train)\n",
    "\n",
    "# Print results\n",
    "print(f\"Cross validation accuray for train set : {(cross_val_score(nb, X_train_tfidf, y_train).mean()*100).round(2)}%\")\n",
    "print(f\"Accuracy for train set : {(nb.score(X_train_tfidf, y_train)*100).round(2)}%\")\n",
    "print(f\"Accuracy for test set : {(nb.score(X_test_tfidf, y_test)*100).round(2)}%\")\n",
    "print(f\"Accuracy for val set: {(nb.score(X_val_tfidf, y_val)*100).round(2)}%\")"
   ]
  },
  {
   "cell_type": "markdown",
   "metadata": {},
   "source": [
    "#### Voting Classifier"
   ]
  },
  {
   "cell_type": "code",
   "execution_count": 73,
   "metadata": {},
   "outputs": [],
   "source": [
    "vc = VotingClassifier(estimators=[('sv', sv), ('rc', rc), ('lr', lr_best), ('et', et_best), ('nb', nb)], voting='hard')\n",
    "vc.fit(X_train_tfidf, y_train)\n",
    "y_pred = vc.predict(X_test_tfidf)\n",
    "pickle.dump(vc, open(\"vc.pickle\", \"wb\"))"
   ]
  },
  {
   "cell_type": "code",
   "execution_count": 74,
   "metadata": {},
   "outputs": [
    {
     "name": "stdout",
     "output_type": "stream",
     "text": [
      "Cross validation accuray for train set : 85.95%\n",
      "Accuracy for train set : 96.32%\n",
      "Accuracy for test set : 86.9%\n",
      "Accuracy for val set: 88.16%\n"
     ]
    }
   ],
   "source": [
    "print(f\"Cross validation accuray for train set : {(cross_val_score(vc, X_train_tfidf, y_train).mean()*100).round(2)}%\")\n",
    "print(f\"Accuracy for train set : {(vc.score(X_train_tfidf, y_train)*100).round(2)}%\")\n",
    "print(f\"Accuracy for test set : {(vc.score(X_test_tfidf, y_test)*100).round(2)}%\")\n",
    "print(f\"Accuracy for val set: {(vc.score(X_val_tfidf, y_val)*100).round(2)}%\")"
   ]
  },
  {
   "cell_type": "code",
   "execution_count": 36,
   "metadata": {},
   "outputs": [
    {
     "name": "stdout",
     "output_type": "stream",
     "text": [
      "[[631  82]\n",
      " [105 609]]\n",
      "              precision    recall  f1-score   support\n",
      "\n",
      "           0       0.88      0.86      0.87       736\n",
      "           1       0.85      0.88      0.87       691\n",
      "\n",
      "    accuracy                           0.87      1427\n",
      "   macro avg       0.87      0.87      0.87      1427\n",
      "weighted avg       0.87      0.87      0.87      1427\n",
      "\n"
     ]
    }
   ],
   "source": [
    "print(confusion_matrix(y_test, y_pred))\n",
    "print(classification_report(y_pred, y_test))"
   ]
  },
  {
   "cell_type": "code",
   "execution_count": 161,
   "metadata": {},
   "outputs": [],
   "source": [
    "wrong_pred = []\n",
    "count = 0\n",
    "for vect, prediction, label in zip(X_test_tfidf, y_pred, y_test):\n",
    "    if prediction != label:\n",
    "        wrong_pred.append(X_test.index[count])\n",
    "    #print(label, prediction)\n",
    "    count += 1"
   ]
  },
  {
   "cell_type": "code",
   "execution_count": 176,
   "metadata": {},
   "outputs": [
    {
     "name": "stdout",
     "output_type": "stream",
     "text": [
      "Image 1 of / 1 1 Elegiac fiction set in Central Texas 1 / 1 Back to Gallery In the tradition of Wendell Berry ’s elegiac fiction, Elizabeth Harris ’s Mayhem evokes the bygone era of 20th-century farming families intertwined with the land, the past and one another.\n",
      "It’s a novel that shows reverence to the American South and the people who labored there, but, unlike Berry’s Port William, Kentucky, Harris’ Prince Carl County is unmistakably Central Texas, complete with cattle, cotton, pink granite courthouses and tight-knit German communities.\n",
      "Against this rural Texas backdrop we bear witness to Evelyn Kunkle Gant ’s “Three Lives,” as Mayhem’s subtitle suggests.\n",
      "More Information Mayhem: Three Lives of a Woman\n",
      "By Elizabeth Harris\n",
      "Gival Press, $20\n",
      "Evelyn’s early upbringing in a respected German farming family transitions smoothly into her life as a young bride working the land with husband Les Gant . They are well-suited as a couple, but neither is equipped to deal with Evelyn’s sexual assault by a ne’er do well neighbor. His shocking castration, Les’ incarceration, and Evelyn’s social exile forever disrupt the order of the town, and the landscape itself.\n",
      "After years of caring for younger siblings and being helpmate to her husband, Evelyn suddenly finds herself cast out by family and community, left to fend for herself as a fallen woman.\n",
      "Like so many similar women of the day, she takes work caring for the elderly as a nurse and final companion, living in her own hometown as a stranger and passing her relations in the street like a ghost.\n",
      "Hers is a life of three discrete identities: daughter, wife and pariah.\n",
      "And, while the townspeople thirst for details of the gory adultery that brought down three families, Evelyn’s private drama is one of constructing a coherent identity for herself amidst the ruins of her past lives.\n",
      "These are the “Three Lives of a Woman” alluded to in Mayhem’s title, but it is a third woman who conveys Evelyn’s story to us, namely Harris’ untraditional and self-reflective female narrator.\n",
      "It is through her interjections that we are able to peek into Harris’ own research process, her personal connection to Central Texas, and the sometimes opaque motivations of Evelyn Kunkle herself.\n",
      "In this way, the many-layered female identities make for an interesting read of the complicated and troubling subject of sexual assault as it affects personal identity.\n",
      "In short, Harris’s book is a delicacy for the reader with a taste for old Southern manners, pastoral landscapes and colloquial language.\n",
      "Amy Ritthaler Gilmour is a San Antonio writer and critic. Reach her at amyrgilmour@gmail.com.\n",
      "------------\n",
      "image 1 1 1 elegiac fiction set central texas 1 1 gallery tradition wendell berry elegiac fiction elizabeth harris mayhem evoke bygone era 20th century farming family intertwine land past novel show reverence american south people labor unlike berry port william kentucky harris prince carl county unmistakably central texas complete cattle cotton pink granite courthouse tight knit german community rural texas backdrop bear witness evelyn kunkle gant life mayhem subtitle suggest information mayhem life woman elizabeth harris gival press $ 20 evelyn early upbringing respected german farming family transition smoothly life young bride work land husband les gant suit couple equip deal evelyn sexual assault ne’er neighbor shocking castration les incarceration evelyn social exile forever disrupt order town landscape year care young sibling helpmate husband evelyn suddenly find cast family community leave fend fall woman like similar woman day take work care elderly nurse final companion live hometown stranger pass relation street like ghost life discrete identity daughter wife pariah townspeople thirst detail gory adultery bring family evelyn private drama construct coherent identity amidst ruin past life life woman allude mayhem title woman convey evelyn story harris untraditional self reflective female narrator interjection able peek harris research process personal connection central texas opaque motivation evelyn kunkle way layered female identity interesting read complicated troubling subject sexual assault affect personal identity short harris book delicacy reader taste old southern manner pastoral landscape colloquial language amy ritthaler gilmour san antonio writer critic reach amyrgilmour@gmail.com\n",
      "------------\n",
      "0\n",
      "------------\n",
      "webhose.io\n",
      "------------\n",
      "nan\n"
     ]
    }
   ],
   "source": [
    "print(df.text.values[wrong_pred[2]])\n",
    "print('------------')\n",
    "print(df.text_lem.values[wrong_pred[2]])\n",
    "print('------------')\n",
    "print(df.label[wrong_pred[2]])\n",
    "print('------------')\n",
    "print(df.source[wrong_pred[2]])\n",
    "print('------------')\n",
    "print(df.url[wrong_pred[2]])"
   ]
  },
  {
   "cell_type": "code",
   "execution_count": 177,
   "metadata": {},
   "outputs": [],
   "source": [
    "test = tfidf_fit.transform([df.text_lem.values[wrong_pred[2]]])"
   ]
  },
  {
   "cell_type": "code",
   "execution_count": 178,
   "metadata": {},
   "outputs": [
    {
     "data": {
      "text/plain": [
       "array([1])"
      ]
     },
     "execution_count": 178,
     "metadata": {},
     "output_type": "execute_result"
    }
   ],
   "source": [
    "vc.predict(test)"
   ]
  },
  {
   "cell_type": "code",
   "execution_count": null,
   "metadata": {},
   "outputs": [],
   "source": []
  }
 ],
 "metadata": {
  "kernelspec": {
   "display_name": "Python [conda env:nf] *",
   "language": "python",
   "name": "conda-env-nf-py"
  },
  "language_info": {
   "codemirror_mode": {
    "name": "ipython",
    "version": 3
   },
   "file_extension": ".py",
   "mimetype": "text/x-python",
   "name": "python",
   "nbconvert_exporter": "python",
   "pygments_lexer": "ipython3",
   "version": "3.6.10"
  }
 },
 "nbformat": 4,
 "nbformat_minor": 4
}

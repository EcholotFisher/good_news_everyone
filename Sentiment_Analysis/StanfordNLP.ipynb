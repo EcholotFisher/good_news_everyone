{
 "cells": [
  {
   "cell_type": "code",
   "execution_count": 4,
   "metadata": {},
   "outputs": [
    {
     "name": "stdout",
     "output_type": "stream",
     "text": [
      "Looking in links: https://download.pytorch.org/whl/torch_stable.html\n",
      "Requirement already satisfied: pip in c:\\users\\chris\\anaconda3\\envs\\nf\\lib\\site-packages (20.2.2)\n",
      "Requirement already satisfied: install in c:\\users\\chris\\anaconda3\\envs\\nf\\lib\\site-packages (1.3.4)\n",
      "Requirement already satisfied: torch===1.4.0 in c:\\users\\chris\\anaconda3\\envs\\nf\\lib\\site-packages (1.4.0)\n",
      "Requirement already satisfied: torchvision===0.5.0 in c:\\users\\chris\\anaconda3\\envs\\nf\\lib\\site-packages (0.5.0)\n",
      "Requirement already satisfied: six in c:\\users\\chris\\anaconda3\\envs\\nf\\lib\\site-packages (from torchvision===0.5.0) (1.15.0)\n",
      "Requirement already satisfied: pillow>=4.1.1 in c:\\users\\chris\\anaconda3\\envs\\nf\\lib\\site-packages (from torchvision===0.5.0) (7.2.0)\n",
      "Requirement already satisfied: numpy in c:\\users\\chris\\anaconda3\\envs\\nf\\lib\\site-packages (from torchvision===0.5.0) (1.16.6)\n",
      "Requirement already satisfied: stanford-corenlp in c:\\users\\chris\\anaconda3\\envs\\nf\\lib\\site-packages (3.9.2)\n",
      "Requirement already satisfied: six>=1.9 in c:\\users\\chris\\anaconda3\\envs\\nf\\lib\\site-packages (from stanford-corenlp) (1.15.0)\n",
      "Requirement already satisfied: requests>=2.10.0 in c:\\users\\chris\\anaconda3\\envs\\nf\\lib\\site-packages (from stanford-corenlp) (2.24.0)\n",
      "Requirement already satisfied: corenlp-protobuf>=3.8.0 in c:\\users\\chris\\anaconda3\\envs\\nf\\lib\\site-packages (from stanford-corenlp) (3.8.0)\n",
      "Requirement already satisfied: certifi>=2017.4.17 in c:\\users\\chris\\anaconda3\\envs\\nf\\lib\\site-packages (from requests>=2.10.0->stanford-corenlp) (2020.6.20)\n",
      "Requirement already satisfied: chardet<4,>=3.0.2 in c:\\users\\chris\\anaconda3\\envs\\nf\\lib\\site-packages (from requests>=2.10.0->stanford-corenlp) (3.0.4)\n",
      "Requirement already satisfied: urllib3!=1.25.0,!=1.25.1,<1.26,>=1.21.1 in c:\\users\\chris\\anaconda3\\envs\\nf\\lib\\site-packages (from requests>=2.10.0->stanford-corenlp) (1.25.10)\n",
      "Requirement already satisfied: idna<3,>=2.5 in c:\\users\\chris\\anaconda3\\envs\\nf\\lib\\site-packages (from requests>=2.10.0->stanford-corenlp) (2.10)\n",
      "Requirement already satisfied: protobuf in c:\\users\\chris\\anaconda3\\envs\\nf\\lib\\site-packages (from corenlp-protobuf>=3.8.0->stanford-corenlp) (3.13.0)\n",
      "Requirement already satisfied: setuptools in c:\\users\\chris\\anaconda3\\envs\\nf\\lib\\site-packages (from protobuf->corenlp-protobuf>=3.8.0->stanford-corenlp) (49.6.0.post20200814)\n",
      "Requirement already satisfied: stanfordnlp in c:\\users\\chris\\anaconda3\\envs\\nf\\lib\\site-packages (0.2.0)\n",
      "Requirement already satisfied: protobuf in c:\\users\\chris\\anaconda3\\envs\\nf\\lib\\site-packages (from stanfordnlp) (3.13.0)\n",
      "Requirement already satisfied: torch>=1.0.0 in c:\\users\\chris\\anaconda3\\envs\\nf\\lib\\site-packages (from stanfordnlp) (1.4.0)\n",
      "Requirement already satisfied: requests in c:\\users\\chris\\anaconda3\\envs\\nf\\lib\\site-packages (from stanfordnlp) (2.24.0)\n",
      "Requirement already satisfied: tqdm in c:\\users\\chris\\anaconda3\\envs\\nf\\lib\\site-packages (from stanfordnlp) (4.48.2)\n",
      "Requirement already satisfied: numpy in c:\\users\\chris\\anaconda3\\envs\\nf\\lib\\site-packages (from stanfordnlp) (1.16.6)\n",
      "Requirement already satisfied: six>=1.9 in c:\\users\\chris\\anaconda3\\envs\\nf\\lib\\site-packages (from protobuf->stanfordnlp) (1.15.0)\n",
      "Requirement already satisfied: setuptools in c:\\users\\chris\\anaconda3\\envs\\nf\\lib\\site-packages (from protobuf->stanfordnlp) (49.6.0.post20200814)\n",
      "Requirement already satisfied: urllib3!=1.25.0,!=1.25.1,<1.26,>=1.21.1 in c:\\users\\chris\\anaconda3\\envs\\nf\\lib\\site-packages (from requests->stanfordnlp) (1.25.10)\n",
      "Requirement already satisfied: certifi>=2017.4.17 in c:\\users\\chris\\anaconda3\\envs\\nf\\lib\\site-packages (from requests->stanfordnlp) (2020.6.20)\n",
      "Requirement already satisfied: chardet<4,>=3.0.2 in c:\\users\\chris\\anaconda3\\envs\\nf\\lib\\site-packages (from requests->stanfordnlp) (3.0.4)\n",
      "Requirement already satisfied: idna<3,>=2.5 in c:\\users\\chris\\anaconda3\\envs\\nf\\lib\\site-packages (from requests->stanfordnlp) (2.10)\n",
      "Collecting pycorenlp\n",
      "  Using cached pycorenlp-0.3.0.tar.gz (1.3 kB)\n",
      "Requirement already satisfied: requests in c:\\users\\chris\\anaconda3\\envs\\nf\\lib\\site-packages (from pycorenlp) (2.24.0)\n",
      "Requirement already satisfied: certifi>=2017.4.17 in c:\\users\\chris\\anaconda3\\envs\\nf\\lib\\site-packages (from requests->pycorenlp) (2020.6.20)\n",
      "Requirement already satisfied: urllib3!=1.25.0,!=1.25.1,<1.26,>=1.21.1 in c:\\users\\chris\\anaconda3\\envs\\nf\\lib\\site-packages (from requests->pycorenlp) (1.25.10)\n",
      "Requirement already satisfied: idna<3,>=2.5 in c:\\users\\chris\\anaconda3\\envs\\nf\\lib\\site-packages (from requests->pycorenlp) (2.10)\n",
      "Requirement already satisfied: chardet<4,>=3.0.2 in c:\\users\\chris\\anaconda3\\envs\\nf\\lib\\site-packages (from requests->pycorenlp) (3.0.4)\n",
      "Building wheels for collected packages: pycorenlp\n",
      "  Building wheel for pycorenlp (setup.py): started\n",
      "  Building wheel for pycorenlp (setup.py): finished with status 'done'\n",
      "  Created wheel for pycorenlp: filename=pycorenlp-0.3.0-py3-none-any.whl size=2148 sha256=ff72494009cefe8fdbfbdccac2ed1ffe35175a9fcf274dfb48a9d0ab8e82c1bc\n",
      "  Stored in directory: c:\\users\\chris\\appdata\\local\\pip\\cache\\wheels\\8c\\a5\\ce\\53aa45ba76486084b0c9b871314477accdcc7a670ac27d646a\n",
      "Successfully built pycorenlp\n",
      "Installing collected packages: pycorenlp\n",
      "Successfully installed pycorenlp-0.3.0\n"
     ]
    }
   ],
   "source": [
    "# Download java if needed\n",
    "# Download https://stanfordnlp.github.io/CoreNLP/download.html#getting-a-copy\n",
    "# Go to extracted folder in terminal\n",
    "# java -mx6g -cp \"*\" edu.stanford.nlp.pipeline.StanfordCoreNLPServer -timeout 5000\n",
    "\n",
    "import sys\n",
    "!{sys.executable} -m pip install pip install torch===1.4.0 torchvision===0.5.0 -f https://download.pytorch.org/whl/torch_stable.html\n",
    "!{sys.executable} -m pip install stanford-corenlp\n",
    "!{sys.executable} -m pip install stanfordnlp\n",
    "!{sys.executable} -m pip install pycorenlp"
   ]
  },
  {
   "cell_type": "code",
   "execution_count": 29,
   "metadata": {},
   "outputs": [
    {
     "name": "stdout",
     "output_type": "stream",
     "text": [
      "When a house goes up for sale , it 's not normal practice for the seller to try and scare the pants off prospective buyers … But that 's what happened as part of a brilliant Paranormal Activity prank , which saw a host of potential buyers scared witless as they viewed an open house . : Negative\n",
      "Unbeknown to them , the house was in fact the very same one that was used to film the first Paranormal Activity movie , and they were all in for a nasty shock . : Negative\n",
      "The poor souls knew something was up when they were subjected to a swinging chandelier , a sparking microwave and a falling painting , but nothing could have prepared them for what took place upstairs . : Negative\n",
      "While viewing the bathroom , the mirror suddenly cracked and all hell broke loose in the bedroom . : Negative\n",
      "The clip has been released ahead of Paranormal Activity : The Ghost Dimension , and if that does n't get you in the mood for the film , nothing will . : Negative\n",
      "Producer Jason Blum previously announced that The Ghost Dimension will be the last in the Paranormal Activity series . : Positive\n",
      "Paranormal Activity : The Ghost Dimension is released in UK cinemas on October 21 , and in the US on October 23 . : Neutral\n"
     ]
    }
   ],
   "source": [
    "from pycorenlp import StanfordCoreNLP\n",
    "nlp = StanfordCoreNLP('http://localhost:9000')\n",
    "text = '''\n",
    "When a house goes up for sale, it's not normal practice for the seller to try and scare the pants off prospective buyers…\n",
    "But that's what happened as part of a brilliant Paranormal Activity prank, which saw a host of potential buyers scared witless as they viewed an open house.\n",
    "Unbeknown to them, the house was in fact the very same one that was used to film the first Paranormal Activity movie, and they were all in for a nasty shock.\n",
    "The poor souls knew something was up when they were subjected to a swinging chandelier, a sparking microwave and a falling painting, but nothing could have prepared them for what took place upstairs.\n",
    "While viewing the bathroom, the mirror suddenly cracked and all hell broke loose in the bedroom.\n",
    "The clip has been released ahead of Paranormal Activity: The Ghost Dimension, and if that doesn't get you in the mood for the film, nothing will.\n",
    "Producer Jason Blum previously announced that The Ghost Dimension will be the last in the Paranormal Activity series.\n",
    "Paranormal Activity: The Ghost Dimension is released in UK cinemas on October 21, and in the US on October 23.\n",
    "'''\n",
    "results = nlp.annotate(text,properties={\n",
    "        'annotators':'sentiment, ner, pos',\n",
    "        'outputFormat': 'json',\n",
    "        'timeout': 100000,\n",
    "        })\n",
    "\n",
    "for s in results[\"sentences\"]:\n",
    "        print(\"{} : {}\".format(\" \".join(t[\"word\"] for t in s[\"tokens\"]),s[\"sentiment\"]))"
   ]
  },
  {
   "cell_type": "code",
   "execution_count": null,
   "metadata": {},
   "outputs": [],
   "source": []
  }
 ],
 "metadata": {
  "kernelspec": {
   "display_name": "Python [conda env:nf] *",
   "language": "python",
   "name": "conda-env-nf-py"
  },
  "language_info": {
   "codemirror_mode": {
    "name": "ipython",
    "version": 3
   },
   "file_extension": ".py",
   "mimetype": "text/x-python",
   "name": "python",
   "nbconvert_exporter": "python",
   "pygments_lexer": "ipython3",
   "version": "3.6.12"
  }
 },
 "nbformat": 4,
 "nbformat_minor": 4
}

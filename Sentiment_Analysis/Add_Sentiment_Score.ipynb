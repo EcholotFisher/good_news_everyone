{
 "cells": [
  {
   "cell_type": "code",
   "execution_count": 1,
   "metadata": {},
   "outputs": [],
   "source": [
    "from Functions.datasets import load_stratified_dataset\n",
    "import pandas as pd\n",
    "import nltk\n",
    "from pycorenlp import StanfordCoreNLP\n",
    "nlpStanford = StanfordCoreNLP('http://localhost:9000')"
   ]
  },
  {
   "cell_type": "code",
   "execution_count": 2,
   "metadata": {},
   "outputs": [],
   "source": [
    "df_orig = load_stratified_dataset('Datasets/dataset.csv', 'category' ,1)"
   ]
  },
  {
   "cell_type": "code",
   "execution_count": 3,
   "metadata": {},
   "outputs": [
    {
     "data": {
      "text/html": [
       "<div>\n",
       "<style scoped>\n",
       "    .dataframe tbody tr th:only-of-type {\n",
       "        vertical-align: middle;\n",
       "    }\n",
       "\n",
       "    .dataframe tbody tr th {\n",
       "        vertical-align: top;\n",
       "    }\n",
       "\n",
       "    .dataframe thead th {\n",
       "        text-align: right;\n",
       "    }\n",
       "</style>\n",
       "<table border=\"1\" class=\"dataframe\">\n",
       "  <thead>\n",
       "    <tr style=\"text-align: right;\">\n",
       "      <th></th>\n",
       "      <th>organizations</th>\n",
       "      <th>title</th>\n",
       "      <th>locations</th>\n",
       "      <th>text</th>\n",
       "      <th>published</th>\n",
       "      <th>category</th>\n",
       "      <th>site</th>\n",
       "      <th>country</th>\n",
       "      <th>text_length</th>\n",
       "    </tr>\n",
       "  </thead>\n",
       "  <tbody>\n",
       "    <tr>\n",
       "      <th>0</th>\n",
       "      <td>[]</td>\n",
       "      <td>Undateable Will Pull Double Duty and Tape Live...</td>\n",
       "      <td>[]</td>\n",
       "      <td>Undateable Will Pull Double Duty and Tape Live...</td>\n",
       "      <td>2015-10-24T07:22:00.000+03:00</td>\n",
       "      <td>rawdata\\entertainment</td>\n",
       "      <td>oriongazette.com</td>\n",
       "      <td>US</td>\n",
       "      <td>1676</td>\n",
       "    </tr>\n",
       "    <tr>\n",
       "      <th>1</th>\n",
       "      <td>[]</td>\n",
       "      <td>RentPaidOnline® Releases an API Integration wi...</td>\n",
       "      <td>[]</td>\n",
       "      <td>RentPaidOnline® is excited to announce it has ...</td>\n",
       "      <td>2015-10-16T03:00:00.000+03:00</td>\n",
       "      <td>rawdata\\financial</td>\n",
       "      <td>prbuzz.com</td>\n",
       "      <td>US</td>\n",
       "      <td>1744</td>\n",
       "    </tr>\n",
       "    <tr>\n",
       "      <th>2</th>\n",
       "      <td>[]</td>\n",
       "      <td>Govt should honour memory of Charanpreet Dhali...</td>\n",
       "      <td>[]</td>\n",
       "      <td>Fuseworks Media Friday, 23 October, 2015 - 04:...</td>\n",
       "      <td>2015-10-22T18:32:00.000+03:00</td>\n",
       "      <td>rawdata\\politics</td>\n",
       "      <td>voxy.co.nz</td>\n",
       "      <td>US</td>\n",
       "      <td>2229</td>\n",
       "    </tr>\n",
       "    <tr>\n",
       "      <th>3</th>\n",
       "      <td>[]</td>\n",
       "      <td>3 killed when car hits crowd at Okla. State pa...</td>\n",
       "      <td>['Oklahoma State', 'Okla']</td>\n",
       "      <td>3 killed at Oklahoma State's homecoming parade...</td>\n",
       "      <td>2015-10-25T00:28:00.000+03:00</td>\n",
       "      <td>rawdata\\sports</td>\n",
       "      <td>kesq.com</td>\n",
       "      <td>US</td>\n",
       "      <td>4059</td>\n",
       "    </tr>\n",
       "    <tr>\n",
       "      <th>4</th>\n",
       "      <td>['Coral Damage Technology Industry', 'Infosys'...</td>\n",
       "      <td>Fan improves new Star Wars poster by adding mo...</td>\n",
       "      <td>['India']</td>\n",
       "      <td>Noah Consulting being acquired by Infosys in $...</td>\n",
       "      <td>2015-10-20T09:09:00.000+03:00</td>\n",
       "      <td>rawdata\\technology</td>\n",
       "      <td>industriesnews.net</td>\n",
       "      <td>US</td>\n",
       "      <td>4372</td>\n",
       "    </tr>\n",
       "  </tbody>\n",
       "</table>\n",
       "</div>"
      ],
      "text/plain": [
       "                                       organizations  \\\n",
       "0                                                 []   \n",
       "1                                                 []   \n",
       "2                                                 []   \n",
       "3                                                 []   \n",
       "4  ['Coral Damage Technology Industry', 'Infosys'...   \n",
       "\n",
       "                                               title  \\\n",
       "0  Undateable Will Pull Double Duty and Tape Live...   \n",
       "1  RentPaidOnline® Releases an API Integration wi...   \n",
       "2  Govt should honour memory of Charanpreet Dhali...   \n",
       "3  3 killed when car hits crowd at Okla. State pa...   \n",
       "4  Fan improves new Star Wars poster by adding mo...   \n",
       "\n",
       "                    locations  \\\n",
       "0                          []   \n",
       "1                          []   \n",
       "2                          []   \n",
       "3  ['Oklahoma State', 'Okla']   \n",
       "4                   ['India']   \n",
       "\n",
       "                                                text  \\\n",
       "0  Undateable Will Pull Double Duty and Tape Live...   \n",
       "1  RentPaidOnline® is excited to announce it has ...   \n",
       "2  Fuseworks Media Friday, 23 October, 2015 - 04:...   \n",
       "3  3 killed at Oklahoma State's homecoming parade...   \n",
       "4  Noah Consulting being acquired by Infosys in $...   \n",
       "\n",
       "                       published               category                site  \\\n",
       "0  2015-10-24T07:22:00.000+03:00  rawdata\\entertainment    oriongazette.com   \n",
       "1  2015-10-16T03:00:00.000+03:00      rawdata\\financial          prbuzz.com   \n",
       "2  2015-10-22T18:32:00.000+03:00       rawdata\\politics          voxy.co.nz   \n",
       "3  2015-10-25T00:28:00.000+03:00         rawdata\\sports            kesq.com   \n",
       "4  2015-10-20T09:09:00.000+03:00     rawdata\\technology  industriesnews.net   \n",
       "\n",
       "  country  text_length  \n",
       "0      US         1676  \n",
       "1      US         1744  \n",
       "2      US         2229  \n",
       "3      US         4059  \n",
       "4      US         4372  "
      ]
     },
     "execution_count": 3,
     "metadata": {},
     "output_type": "execute_result"
    }
   ],
   "source": [
    "df_orig.head()"
   ]
  },
  {
   "cell_type": "code",
   "execution_count": 4,
   "metadata": {},
   "outputs": [],
   "source": [
    "df = df_orig.copy()"
   ]
  },
  {
   "cell_type": "code",
   "execution_count": 5,
   "metadata": {},
   "outputs": [],
   "source": [
    "# Drop unused columns\n",
    "df.drop(['organizations', 'title', 'locations', 'published', 'category', 'site', 'country', 'text_length'], axis=1, inplace=True)"
   ]
  },
  {
   "cell_type": "code",
   "execution_count": 6,
   "metadata": {},
   "outputs": [],
   "source": [
    "df_tok = df.copy()"
   ]
  },
  {
   "cell_type": "code",
   "execution_count": 7,
   "metadata": {},
   "outputs": [
    {
     "data": {
      "text/plain": [
       "(7, 1)"
      ]
     },
     "execution_count": 7,
     "metadata": {},
     "output_type": "execute_result"
    }
   ],
   "source": [
    "pd.set_option('display.max_colwidth', -1)\n",
    "df.shape"
   ]
  },
  {
   "cell_type": "code",
   "execution_count": 8,
   "metadata": {},
   "outputs": [],
   "source": [
    "# Tokenize text\n",
    "from Functions.function import tokenize\n",
    "for i in range(df_tok.shape[0]):\n",
    "    df_tok.text[i] = tokenize(df_tok.text[i])"
   ]
  },
  {
   "cell_type": "code",
   "execution_count": 9,
   "metadata": {},
   "outputs": [],
   "source": [
    "# Join list of strings to one string\n",
    "df_tok.text = df_tok.text.str.join(' ')"
   ]
  },
  {
   "cell_type": "code",
   "execution_count": 10,
   "metadata": {},
   "outputs": [],
   "source": [
    "# Sentiment Analysis untokenized\n",
    "\n",
    "# Import modules\n",
    "from nltk.sentiment.vader import SentimentIntensityAnalyzer\n",
    "from textblob import TextBlob\n",
    "\n",
    "# Vader\n",
    "sid = SentimentIntensityAnalyzer()\n",
    "df[['neg', 'neu', 'pos', 'Vader_Score']] = df['text'].apply(sid.polarity_scores).apply(pd.Series)\n",
    "df.drop(['neg', 'neu', 'pos'], axis=1, inplace=True)\n",
    "\n",
    "# TextBlob\n",
    "df[['TextBlob_Score', 'subjectivity']] = df['text'].apply(lambda x:TextBlob(x).sentiment).apply(pd.Series)\n",
    "df.drop('subjectivity', axis=1, inplace=True)"
   ]
  },
  {
   "cell_type": "code",
   "execution_count": 11,
   "metadata": {},
   "outputs": [],
   "source": [
    "# Sentiment Analysis tokenized\n",
    "\n",
    "# Vader\n",
    "df_tok[['neg', 'neu', 'pos', 'comp']] = df_tok['text'].apply(sid.polarity_scores).apply(pd.Series)\n",
    "df_tok.drop(['neg', 'neu', 'pos'], axis=1, inplace=True)\n",
    "\n",
    "# TextBlob\n",
    "df_tok[['TextBlob_Score', 'subjectivity']] = df_tok['text'].apply(lambda x:TextBlob(x).sentiment).apply(pd.Series)\n",
    "df_tok.drop('subjectivity', axis=1, inplace=True)"
   ]
  },
  {
   "cell_type": "code",
   "execution_count": 12,
   "metadata": {},
   "outputs": [],
   "source": [
    "# Sentiment Analysis with StanfordNLP\n",
    "\n",
    "#from Functions.function import Sentiment_StanfordNLP\n",
    "#Stanford_Score = []\n",
    "#for i in range(df.shape[0]):\n",
    "#    Stanford_Score.append(Sentiment_StanfordNLP(df.text[i]))\n",
    "#df['Stanford_Score'] = pd.DataFrame(Stanford_Score)"
   ]
  },
  {
   "cell_type": "code",
   "execution_count": 14,
   "metadata": {},
   "outputs": [],
   "source": [
    "from Functions.function import Sentiment_StanfordNLP\n",
    "\n",
    "Sentiment_Score = []\n",
    "for i in range(df.shape[0]):\n",
    "    Sentiment_Score.append(Sentiment_StanfordNLP(df.text.values[i]))\n",
    "\n",
    "df['Stanford_Score'] = pd.DataFrame(Sentiment_Score)"
   ]
  },
  {
   "cell_type": "code",
   "execution_count": null,
   "metadata": {},
   "outputs": [],
   "source": []
  }
 ],
 "metadata": {
  "kernelspec": {
   "display_name": "Python [conda env:nf] *",
   "language": "python",
   "name": "conda-env-nf-py"
  },
  "language_info": {
   "codemirror_mode": {
    "name": "ipython",
    "version": 3
   },
   "file_extension": ".py",
   "mimetype": "text/x-python",
   "name": "python",
   "nbconvert_exporter": "python",
   "pygments_lexer": "ipython3",
   "version": "3.6.12"
  }
 },
 "nbformat": 4,
 "nbformat_minor": 4
}

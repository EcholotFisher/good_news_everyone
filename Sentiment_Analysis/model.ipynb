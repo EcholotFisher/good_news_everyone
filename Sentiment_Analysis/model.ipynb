{
 "cells": [
  {
   "cell_type": "markdown",
   "metadata": {},
   "source": [
    "## Imports"
   ]
  },
  {
   "cell_type": "code",
   "execution_count": 3,
   "metadata": {},
   "outputs": [],
   "source": [
    "import numpy as np\n",
    "import pandas as pd\n",
    "import matplotlib.pyplot as plt\n",
    "import sys\n",
    "# Add functions path\n",
    "sys.path.append('../Functions')"
   ]
  },
  {
   "cell_type": "markdown",
   "metadata": {},
   "source": [
    "## Load Dataset"
   ]
  },
  {
   "cell_type": "code",
   "execution_count": 67,
   "metadata": {},
   "outputs": [],
   "source": [
    "from datasets import load_stratified_dataset\n",
    "df = load_stratified_dataset(path='../Datasets/full_good_bad_dataset.csv', labels='label', samples_per_label=2800)"
   ]
  },
  {
   "cell_type": "markdown",
   "metadata": {},
   "source": [
    "### Dataframe for results\n",
    "Create a dataframe, that contains all model results!"
   ]
  },
  {
   "cell_type": "code",
   "execution_count": 68,
   "metadata": {},
   "outputs": [],
   "source": [
    "model_results = pd.DataFrame({'Preprocessing': ['Word Bagging', 'Word Embedding']})"
   ]
  },
  {
   "cell_type": "markdown",
   "metadata": {},
   "source": [
    "## Prepare Dataset"
   ]
  },
  {
   "cell_type": "code",
   "execution_count": 69,
   "metadata": {},
   "outputs": [
    {
     "data": {
      "text/plain": [
       "1    2800\n",
       "0    2800\n",
       "Name: label, dtype: int64"
      ]
     },
     "execution_count": 69,
     "metadata": {},
     "output_type": "execute_result"
    }
   ],
   "source": [
    "df.label.value_counts()"
   ]
  },
  {
   "cell_type": "code",
   "execution_count": 70,
   "metadata": {},
   "outputs": [
    {
     "data": {
      "text/plain": [
       "0"
      ]
     },
     "execution_count": 70,
     "metadata": {},
     "output_type": "execute_result"
    }
   ],
   "source": [
    "df.text.isnull().sum()"
   ]
  },
  {
   "cell_type": "code",
   "execution_count": 71,
   "metadata": {},
   "outputs": [
    {
     "name": "stdout",
     "output_type": "stream",
     "text": [
      "5600 samples represented by 37934 features\n"
     ]
    }
   ],
   "source": [
    "# TfidfVectorizer generates bag of words\n",
    "from sklearn.feature_extraction.text import TfidfVectorizer\n",
    "\n",
    "# sublinear_tf: use logarithmic form for frequency\n",
    "# min_df: minimum numbers of documents a word must be present to keep it\n",
    "# ngram_range: number of ngrams to use\n",
    "# stopwords: remove all common pronouns in given language\n",
    "\n",
    "tfidf = TfidfVectorizer(sublinear_tf=True, min_df=5, norm='l2', encoding='latin-1',\n",
    "                        ngram_range=(1, 2), stop_words='english')\n",
    "\n",
    "features = tfidf.fit_transform(df.text).toarray()\n",
    "\n",
    "labels = df.label\n",
    "\n",
    "print('{} samples represented by {} features'.format(features.shape[0], features.shape[1]))"
   ]
  },
  {
   "cell_type": "code",
   "execution_count": 72,
   "metadata": {},
   "outputs": [],
   "source": [
    "from sklearn.model_selection import train_test_split\n",
    "\n",
    "X_train, X_test, y_train, y_test = train_test_split(df['text'], df['label'], random_state = 42)\n",
    "\n",
    "X_train_tfidf = tfidf.fit_transform(X_train)\n",
    "X_test_tfidf = tfidf.transform(X_test)"
   ]
  },
  {
   "cell_type": "code",
   "execution_count": 73,
   "metadata": {},
   "outputs": [
    {
     "name": "stdout",
     "output_type": "stream",
     "text": [
      "Accuracy for test set : 83.143%\n",
      "Accuracy for train set: 90.238%\n"
     ]
    }
   ],
   "source": [
    "from sklearn.naive_bayes import MultinomialNB\n",
    "\n",
    "clf = MultinomialNB().fit(X_train_tfidf, y_train)\n",
    "result = clf.score(X_test_tfidf, y_test)\n",
    "model_results['NB'] = [result.round(3), None]\n",
    "print(f\"Accuracy for test set : {clf.score(X_test_tfidf, y_test) * 100:.3f}%\", )\n",
    "print(f\"Accuracy for train set: {clf.score(X_train_tfidf, y_train) * 100:.3f}%\", )"
   ]
  },
  {
   "cell_type": "code",
   "execution_count": 74,
   "metadata": {},
   "outputs": [
    {
     "name": "stdout",
     "output_type": "stream",
     "text": [
      "Accuracy for test set : 86.500%\n",
      "Accuracy for train set: 99.190%\n"
     ]
    }
   ],
   "source": [
    "from sklearn.svm import SVC\n",
    "\n",
    "svc = SVC().fit(X_train_tfidf, y_train)\n",
    "result = svc.score(X_test_tfidf, y_test)\n",
    "model_results['SVC'] = [result, None]\n",
    "print(f\"Accuracy for test set : {svc.score(X_test_tfidf, y_test) * 100:.3f}%\", )\n",
    "print(f\"Accuracy for train set: {svc.score(X_train_tfidf, y_train) * 100:.3f}%\", )"
   ]
  },
  {
   "cell_type": "code",
   "execution_count": 75,
   "metadata": {},
   "outputs": [
    {
     "name": "stdout",
     "output_type": "stream",
     "text": [
      "Accuracy for test set : 81.429%\n",
      "Accuracy for train set: 88.690%\n"
     ]
    }
   ],
   "source": [
    "from xgboost import XGBClassifier\n",
    "\n",
    "xgb = XGBClassifier().fit(X_train_tfidf, y_train)\n",
    "result = xgb.score(X_test_tfidf, y_test)\n",
    "model_results['XGB'] = [result, None]\n",
    "print(f\"Accuracy for test set : {xgb.score(X_test_tfidf, y_test) * 100:.3f}%\", )\n",
    "print(f\"Accuracy for train set: {xgb.score(X_train_tfidf, y_train) * 100:.3f}%\", )"
   ]
  },
  {
   "cell_type": "code",
   "execution_count": null,
   "metadata": {},
   "outputs": [],
   "source": []
  },
  {
   "cell_type": "code",
   "execution_count": null,
   "metadata": {},
   "outputs": [],
   "source": []
  },
  {
   "cell_type": "code",
   "execution_count": null,
   "metadata": {},
   "outputs": [],
   "source": []
  },
  {
   "cell_type": "code",
   "execution_count": null,
   "metadata": {},
   "outputs": [],
   "source": []
  },
  {
   "cell_type": "code",
   "execution_count": null,
   "metadata": {},
   "outputs": [],
   "source": []
  },
  {
   "cell_type": "code",
   "execution_count": null,
   "metadata": {},
   "outputs": [],
   "source": []
  },
  {
   "cell_type": "code",
   "execution_count": null,
   "metadata": {},
   "outputs": [],
   "source": []
  },
  {
   "cell_type": "code",
   "execution_count": 76,
   "metadata": {},
   "outputs": [
    {
     "name": "stdout",
     "output_type": "stream",
     "text": [
      "Accuracy for test set : 87.357%\n",
      "Accuracy for train set: 99.690%\n"
     ]
    }
   ],
   "source": [
    "from sklearn.svm import LinearSVC\n",
    "\n",
    "svc = LinearSVC(random_state=1, dual=False, max_iter=10000)\n",
    "svc.fit(X_train_tfidf, y_train)\n",
    "result = svc.score(X_test_tfidf, y_test)\n",
    "model_results['SVCLinear'] = [result, None]\n",
    "print(f\"Accuracy for test set : {svc.score(X_test_tfidf, y_test) * 100:.3f}%\", )\n",
    "print(f\"Accuracy for train set: {svc.score(X_train_tfidf, y_train) * 100:.3f}%\", )"
   ]
  },
  {
   "cell_type": "code",
   "execution_count": 25,
   "metadata": {},
   "outputs": [
    {
     "name": "stdout",
     "output_type": "stream",
     "text": [
      "Accuracy for test set : 83.200%\n",
      "Accuracy for train set: 94.733%\n"
     ]
    }
   ],
   "source": [
    "from sklearn.linear_model import LogisticRegression\n",
    "from sklearn.preprocessing import PolynomialFeatures\n",
    "\n",
    "lr = LogisticRegression(C=0.8)\n",
    "#poly = PolynomialFeatures(1)\n",
    "#X_train_poly = poly.fit_transform(X_train_tfidf)\n",
    "#X_test_poly = poly.transform(X_test_tfidf)\n",
    "X_train_poly = X_train_tfidf\n",
    "X_test_poly = X_test_tfidf\n",
    "lr.fit(X_train_poly, y_train)\n",
    "result = lr.score(X_test_tfidf, y_test)\n",
    "model_results['LogisticRegr'] = [result, None]\n",
    "print(f\"Accuracy for test set : {lr.score(X_test_poly, y_test) * 100:.3f}%\", )\n",
    "print(f\"Accuracy for train set: {lr.score(X_train_poly, y_train) * 100:.3f}%\", )"
   ]
  },
  {
   "cell_type": "markdown",
   "metadata": {},
   "source": [
    "## Word Embeddings"
   ]
  },
  {
   "cell_type": "code",
   "execution_count": 32,
   "metadata": {},
   "outputs": [],
   "source": [
    "import spacy\n",
    "from time import time"
   ]
  },
  {
   "cell_type": "markdown",
   "metadata": {},
   "source": [
    "## Word Embeddings (Word Vectors)"
   ]
  },
  {
   "cell_type": "code",
   "execution_count": 34,
   "metadata": {},
   "outputs": [],
   "source": [
    "# Load loarge model\n",
    "nlp = spacy.load('en_core_web_sm')\n",
    "\n",
    "# Disabling other pipes, no need for them, takes too much time\n",
    "with nlp.disable_pipes():\n",
    "    vectors = np.array([nlp(text).vector for text in df.text])"
   ]
  },
  {
   "cell_type": "code",
   "execution_count": 35,
   "metadata": {},
   "outputs": [
    {
     "data": {
      "text/plain": [
       "(2000, 96)"
      ]
     },
     "execution_count": 35,
     "metadata": {},
     "output_type": "execute_result"
    }
   ],
   "source": [
    "vectors.shape"
   ]
  },
  {
   "cell_type": "code",
   "execution_count": 37,
   "metadata": {},
   "outputs": [],
   "source": [
    "X_train, X_test, y_train, y_test = train_test_split(vectors, df['label'], random_state = 42)"
   ]
  },
  {
   "cell_type": "code",
   "execution_count": 38,
   "metadata": {},
   "outputs": [
    {
     "name": "stdout",
     "output_type": "stream",
     "text": [
      "Accuracy for test set : 68.400%\n",
      "Accuracy for train set: 74.800%\n"
     ]
    }
   ],
   "source": [
    "svc = SVC().fit(X_train, y_train)\n",
    "result = svc.score(X_test, y_test)\n",
    "model_results.loc[1, 'SVC'] = result\n",
    "print(f\"Accuracy for test set : {svc.score(X_test, y_test) * 100:.3f}%\", )\n",
    "print(f\"Accuracy for train set: {svc.score(X_train, y_train) * 100:.3f}%\", )"
   ]
  },
  {
   "cell_type": "code",
   "execution_count": 39,
   "metadata": {},
   "outputs": [
    {
     "name": "stdout",
     "output_type": "stream",
     "text": [
      "Accuracy for test set : 69.600%\n",
      "Accuracy for train set: 93.267%\n"
     ]
    }
   ],
   "source": [
    "xgb = XGBClassifier().fit(X_train, y_train)\n",
    "result = xgb.score(X_test, y_test)\n",
    "model_results.loc[1, 'XGB'] = result\n",
    "print(f\"Accuracy for test set : {xgb.score(X_test, y_test) * 100:.3f}%\", )\n",
    "print(f\"Accuracy for train set: {xgb.score(X_train, y_train) * 100:.3f}%\", )"
   ]
  },
  {
   "cell_type": "code",
   "execution_count": 40,
   "metadata": {},
   "outputs": [
    {
     "name": "stdout",
     "output_type": "stream",
     "text": [
      "Accuracy for test set : 70.200%\n",
      "Accuracy for train set: 75.867%\n"
     ]
    }
   ],
   "source": [
    "svc = LinearSVC(random_state=1, dual=False, max_iter=10000)\n",
    "svc.fit(X_train, y_train)\n",
    "result = svc.score(X_test, y_test)\n",
    "model_results.loc[1, 'SVCLinear'] = result\n",
    "print(f\"Accuracy for test set : {svc.score(X_test, y_test) * 100:.3f}%\", )\n",
    "print(f\"Accuracy for train set: {svc.score(X_train, y_train) * 100:.3f}%\", )"
   ]
  },
  {
   "cell_type": "code",
   "execution_count": 77,
   "metadata": {},
   "outputs": [
    {
     "data": {
      "text/html": [
       "<div>\n",
       "<style scoped>\n",
       "    .dataframe tbody tr th:only-of-type {\n",
       "        vertical-align: middle;\n",
       "    }\n",
       "\n",
       "    .dataframe tbody tr th {\n",
       "        vertical-align: top;\n",
       "    }\n",
       "\n",
       "    .dataframe thead th {\n",
       "        text-align: right;\n",
       "    }\n",
       "</style>\n",
       "<table border=\"1\" class=\"dataframe\">\n",
       "  <thead>\n",
       "    <tr style=\"text-align: right;\">\n",
       "      <th></th>\n",
       "      <th>Preprocessing</th>\n",
       "      <th>NB</th>\n",
       "      <th>SVC</th>\n",
       "      <th>XGB</th>\n",
       "      <th>SVCLinear</th>\n",
       "    </tr>\n",
       "  </thead>\n",
       "  <tbody>\n",
       "    <tr>\n",
       "      <th>0</th>\n",
       "      <td>Word Bagging</td>\n",
       "      <td>0.831</td>\n",
       "      <td>0.865</td>\n",
       "      <td>0.814</td>\n",
       "      <td>0.874</td>\n",
       "    </tr>\n",
       "    <tr>\n",
       "      <th>1</th>\n",
       "      <td>Word Embedding</td>\n",
       "      <td>NaN</td>\n",
       "      <td>NaN</td>\n",
       "      <td>NaN</td>\n",
       "      <td>NaN</td>\n",
       "    </tr>\n",
       "  </tbody>\n",
       "</table>\n",
       "</div>"
      ],
      "text/plain": [
       "    Preprocessing     NB    SVC    XGB  SVCLinear\n",
       "0    Word Bagging  0.831  0.865  0.814      0.874\n",
       "1  Word Embedding    NaN    NaN    NaN        NaN"
      ]
     },
     "execution_count": 77,
     "metadata": {},
     "output_type": "execute_result"
    }
   ],
   "source": [
    "model_results.round(3)"
   ]
  },
  {
   "cell_type": "markdown",
   "metadata": {},
   "source": [
    "### SVC different categories"
   ]
  },
  {
   "cell_type": "code",
   "execution_count": 20,
   "metadata": {},
   "outputs": [],
   "source": [
    "# Load training set\n",
    "df = load_stratified_dataset(path='../Datasets/dataset_categories/dataset.csv', labels='category', samples_per_label=800)\n",
    "# Shuffle dataset\n",
    "df = df.sample(frac=1).reset_index(drop=True)\n",
    "mid = int(df.shape[0]/2)\n",
    "X_train, y_train = df[:mid].text, df[:mid].category\n",
    "\n",
    "# Load test set for every category\n",
    "df = df[mid:]\n",
    "test_set = {}\n",
    "for i in df.category.unique():\n",
    "    test_set[i] = df[df['category'] == i].text.values"
   ]
  },
  {
   "cell_type": "code",
   "execution_count": 21,
   "metadata": {},
   "outputs": [
    {
     "name": "stdout",
     "output_type": "stream",
     "text": [
      "Score for category politics_big :   64.3 %\n",
      "Score for category world_big    :   67.6 %\n",
      "Score for category financial_big:   68.9 %\n",
      "Score for category sports_big   :   72.9 %\n",
      "Score for category entertainment_big:   73.1 %\n",
      "Score for category technology_big:   77.3 %\n",
      "Score for category travel_big   :   67.9 %\n"
     ]
    }
   ],
   "source": [
    "# Fit model\n",
    "svc = SVC()\n",
    "X_train_tfidf = tfidf.fit_transform(X_train)\n",
    "svc.fit(X_train_tfidf, y_train)\n",
    "\n",
    "predictions = []\n",
    "# Get accuracies for categories\n",
    "for key, value in test_set.items():\n",
    "    X_test_tfidf = tfidf.transform(value)\n",
    "    y_test = np.full(value.shape[0], key)\n",
    "    print('Score for category {: <13}:   {:.1f} %'.format(key, svc.score(X_test_tfidf, y_test)*100))\n",
    "    # Get Predictions\n",
    "    cat, val = np.unique(svc.predict(X_test_tfidf), return_counts=True)\n",
    "    #pred = sorted(list(zip(cat, (val/y_test.shape[0]*100).round(1))) , key=lambda x: x[1], reverse=True)\n",
    "    predictions.append((cat, (val/y_test.shape[0]*100).round(1)))"
   ]
  },
  {
   "cell_type": "code",
   "execution_count": 22,
   "metadata": {},
   "outputs": [
    {
     "data": {
      "image/png": "[encoded data removed]",
      "text/plain": [
       "<Figure size 1296x720 with 9 Axes>"
      ]
     },
     "metadata": {
      "needs_background": "light"
     },
     "output_type": "display_data"
    }
   ],
   "source": [
    "fig, ax = plt.subplots(3,3,figsize=(18,10))\n",
    "simple_h_bar(predictions[0][0], predictions[0][1], ax=ax[0][0], title=predictions[0][0][np.argmax(predictions[0][1])])\n",
    "simple_h_bar(predictions[1][0], predictions[1][1], ax=ax[0][1], title=predictions[1][0][np.argmax(predictions[1][1])])\n",
    "simple_h_bar(predictions[2][0], predictions[2][1], ax=ax[0][2], title=predictions[2][0][np.argmax(predictions[2][1])])\n",
    "simple_h_bar(predictions[3][0], predictions[3][1], ax=ax[1][0], title=predictions[3][0][np.argmax(predictions[3][1])])\n",
    "simple_h_bar(predictions[4][0], predictions[4][1], ax=ax[1][1], title=predictions[4][0][np.argmax(predictions[4][1])])\n",
    "simple_h_bar(predictions[5][0], predictions[5][1], ax=ax[1][2], title=predictions[5][0][np.argmax(predictions[5][1])])\n",
    "simple_h_bar(predictions[6][0], predictions[6][1], ax=ax[2][0], title=predictions[6][0][np.argmax(predictions[6][1])])"
   ]
  },
  {
   "cell_type": "markdown",
   "metadata": {},
   "source": [
    "### Accuracy in dependence of training size"
   ]
  },
  {
   "cell_type": "code",
   "execution_count": 42,
   "metadata": {},
   "outputs": [
    {
     "name": "stdout",
     "output_type": "stream",
     "text": [
      "Calculation with 10 samples finished in 4.3s\n",
      "Calculation with 100 samples finished in 22.4s\n",
      "Calculation with 300 samples finished in 65.3s\n",
      "Calculation with 450 samples finished in 97.4s\n"
     ]
    }
   ],
   "source": [
    "tfidf = TfidfVectorizer(sublinear_tf=True, min_df=5, norm='l2', encoding='latin-1',\n",
    "                        ngram_range=(1, 2), stop_words='english')\n",
    "\n",
    "svc = SVC()\n",
    "\n",
    "# Load loarge model\n",
    "nlp = spacy.load('en_core_web_sm')\n",
    "\n",
    "samples = []\n",
    "word_bagging = []\n",
    "word_embedding = []\n",
    "for num_samples in [10, 100, 300, 450]:\n",
    "    start_time = time()\n",
    "    \n",
    "    samples.append(num_samples)\n",
    "    \n",
    "    df = load_stratified_dataset(path='../Datasets/full_good_bad_dataset.csv', labels='label', samples_per_label=num_samples)\n",
    "\n",
    "    X_train, X_test, y_train, y_test = train_test_split(df['text'], df['label'], random_state = 42)\n",
    "\n",
    "    X_train_tfidf = tfidf.fit_transform(X_train)\n",
    "    X_test_tfidf = tfidf.transform(X_test)\n",
    "\n",
    "    svc.fit(X_train_tfidf, y_train)\n",
    "    result = svc.score(X_test_tfidf, y_test)\n",
    "    word_bagging.append(result)\n",
    "\n",
    "    # Disabling other pipes, no need for them, takes too much time\n",
    "    with nlp.disable_pipes():\n",
    "        vectors = np.array([nlp(text).vector for text in df.text])\n",
    "\n",
    "    X_train, X_test, y_train, y_test = train_test_split(vectors, df['label'], random_state = 42)\n",
    "\n",
    "    svc.fit(X_train, y_train)\n",
    "    result = svc.score(X_test, y_test)\n",
    "    word_embedding.append(result)\n",
    "    \n",
    "    print('Calculation with {} samples finished in {:.1f}s'.format(num_samples, time()-start_time))"
   ]
  },
  {
   "cell_type": "code",
   "execution_count": 43,
   "metadata": {},
   "outputs": [
    {
     "data": {
      "image/png": "[encoded data removed]",
      "text/plain": [
       "<Figure size 432x288 with 1 Axes>"
      ]
     },
     "metadata": {
      "needs_background": "light"
     },
     "output_type": "display_data"
    }
   ],
   "source": [
    "plt.plot(samples, word_bagging, label='word bagging')\n",
    "plt.plot(samples, word_embedding, label='word embedding')\n",
    "plt.legend();"
   ]
  },
  {
   "cell_type": "code",
   "execution_count": 44,
   "metadata": {},
   "outputs": [],
   "source": [
    "X_train, X_test, y_train, y_test = train_test_split(df['text'], df['label'], random_state = 42)\n",
    "\n",
    "X_train_tfidf = tfidf.fit_transform(X_train)\n",
    "X_test_tfidf = tfidf.transform(X_test)"
   ]
  },
  {
   "cell_type": "code",
   "execution_count": 45,
   "metadata": {},
   "outputs": [
    {
     "data": {
      "text/plain": [
       "(0.76, 0.9955555555555555)"
      ]
     },
     "execution_count": 45,
     "metadata": {},
     "output_type": "execute_result"
    }
   ],
   "source": [
    "svc = SVC(C=0.8)\n",
    "svc.fit(X_train_tfidf, y_train)\n",
    "svc.score(X_test_tfidf, y_test), svc.score(X_train_tfidf, y_train)\n"
   ]
  },
  {
   "cell_type": "code",
   "execution_count": 46,
   "metadata": {},
   "outputs": [],
   "source": [
    "test = []\n",
    "train = []\n",
    "c_val = []\n",
    "for c in np.logspace(-1,1,10):\n",
    "    svc = SVC(C=c, kernel='linear')\n",
    "    svc.fit(X_train_tfidf, y_train)\n",
    "    test_, train_ = svc.score(X_test_tfidf, y_test), svc.score(X_train_tfidf, y_train)\n",
    "    test.append(test_)\n",
    "    train.append(train_)\n",
    "    c_val.append(c)"
   ]
  },
  {
   "cell_type": "code",
   "execution_count": 47,
   "metadata": {},
   "outputs": [
    {
     "data": {
      "image/png": "[encoded data removed]",
      "text/plain": [
       "<Figure size 432x288 with 1 Axes>"
      ]
     },
     "metadata": {
      "needs_background": "light"
     },
     "output_type": "display_data"
    }
   ],
   "source": [
    "plt.plot(c_val, train, label='train')\n",
    "plt.plot(c_val, test, label='test')\n",
    "plt.legend();"
   ]
  },
  {
   "cell_type": "code",
   "execution_count": 48,
   "metadata": {},
   "outputs": [],
   "source": [
    "test = []\n",
    "train = []\n",
    "c_val = []\n",
    "for c in np.logspace(-1,1,10):\n",
    "    lr = LogisticRegression(C=c, max_iter=100000)\n",
    "    lr.fit(X_train_tfidf, y_train)\n",
    "    test_, train_ = lr.score(X_test_tfidf, y_test), lr.score(X_train_tfidf, y_train)\n",
    "    test.append(test_)\n",
    "    train.append(train_)\n",
    "    c_val.append(c)"
   ]
  },
  {
   "cell_type": "code",
   "execution_count": 49,
   "metadata": {},
   "outputs": [
    {
     "data": {
      "image/png": "[encoded data removed]",
      "text/plain": [
       "<Figure size 432x288 with 1 Axes>"
      ]
     },
     "metadata": {
      "needs_background": "light"
     },
     "output_type": "display_data"
    }
   ],
   "source": [
    "plt.plot(c_val, train, label='train')\n",
    "plt.plot(c_val, test, label='test')\n",
    "plt.legend();"
   ]
  }
 ],
 "metadata": {
  "kernelspec": {
   "display_name": "Python 3",
   "language": "python",
   "name": "python3"
  },
  "language_info": {
   "codemirror_mode": {
    "name": "ipython",
    "version": 3
   },
   "file_extension": ".py",
   "mimetype": "text/x-python",
   "name": "python",
   "nbconvert_exporter": "python",
   "pygments_lexer": "ipython3",
   "version": "3.6.12"
  }
 },
 "nbformat": 4,
 "nbformat_minor": 4
}

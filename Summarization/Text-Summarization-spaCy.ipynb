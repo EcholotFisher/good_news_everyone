{
 "cells": [
  {
   "cell_type": "markdown",
   "metadata": {},
   "source": [
    "# Intro "
   ]
  },
  {
   "cell_type": "markdown",
   "metadata": {},
   "source": [
    "In this notebook we try to use first models to summarize text extractively. These will then serve as baseline models for the future neural networks. Our goal is to create summaries for news articles. "
   ]
  },
  {
   "cell_type": "markdown",
   "metadata": {},
   "source": [
    "**Ressources & References:**\n",
    "* [Extract Keywords Using spaCy in Python](https://medium.com/better-programming/extract-keywords-using-spacy-in-python-4a8415478fbf)\n",
    "* [Extractive Summarization Using spaCy in Python](https://medium.com/better-programming/extractive-text-summarization-using-spacy-in-python-88ab96d1fd97)\n",
    "* [Text Summarization In SpaCy](https://github.com/Jcharis/Natural-Language-Processing-Tutorials/blob/master/NLP_with_SpaCy/Text%20Summarization%20In%20SpaCy.ipynb)\n",
    "* [Text Summarization In Python With SpaCy Library](https://www.presentslide.in/2019/08/text-summarization-python-spacy-library.html?utm_campaign=News&utm_medium=Community&utm_source=DataCamp.com)\n",
    "* [Understand Text Summarization and create your own summarizer in python](https://towardsdatascience.com/understand-text-summarization-and-create-your-own-summarizer-in-python-b26a9f09fc70)"
   ]
  },
  {
   "cell_type": "markdown",
   "metadata": {},
   "source": [
    "# Imports & Installs"
   ]
  },
  {
   "cell_type": "code",
   "execution_count": null,
   "metadata": {},
   "outputs": [],
   "source": [
    "#!pip install spacy\n",
    "#!python -m spacy download en_core_web_sm\n",
    "#!python -m spacy download en_core_web_lg"
   ]
  },
  {
   "cell_type": "code",
   "execution_count": null,
   "metadata": {},
   "outputs": [],
   "source": [
    "# Check if spaCy works properly \n",
    "!python -m spacy validate"
   ]
  },
  {
   "cell_type": "code",
   "execution_count": 1,
   "metadata": {},
   "outputs": [],
   "source": [
    "import pandas as pd \n",
    "import numpy as np\n",
    "import spacy\n",
    "from collections import Counter\n",
    "from string import punctuation\n",
    "import math\n",
    "import en_core_web_lg\n",
    "\n",
    "from sum_functions import * "
   ]
  },
  {
   "cell_type": "code",
   "execution_count": 2,
   "metadata": {},
   "outputs": [],
   "source": [
    "nlp = en_core_web_lg.load()"
   ]
  },
  {
   "cell_type": "markdown",
   "metadata": {},
   "source": [
    "# Summarization "
   ]
  },
  {
   "cell_type": "markdown",
   "metadata": {},
   "source": [
    "**Approach:** We look at which words occur most often in an article. We weight our keywords accordingly and calculate the importance of each sentence. So it is [TF-IDF (term frequency-inverse document frequency)](https://monkeylearn.com/blog/what-is-tf-idf/) - *a statistical measure that evaluates how relevant a word is to a document in a collection of documents*. The sentence with the most important words will have the most importance. At the end we get the most important X sentences as a summary or bullet points. "
   ]
  },
  {
   "cell_type": "code",
   "execution_count": 3,
   "metadata": {},
   "outputs": [],
   "source": [
    "# read the testfile\n",
    "text = read_article(\"article_text.txt\")"
   ]
  },
  {
   "cell_type": "code",
   "execution_count": 4,
   "metadata": {},
   "outputs": [
    {
     "name": "stdout",
     "output_type": "stream",
     "text": [
      "Reading time for the entire article: 3 mins (aprox)\n",
      "# of sentences (pre):  27\n",
      "# of sentences (post): 3\n",
      "\n",
      "\n",
      "# mountain # wildlife # lions # freeway # project \n",
      "\n",
      "------------------------------------------------------------------------------------------------------------------------\n",
      "-  For mountain lions living in los angeles—and yes, mountain lions do manage to survive in the second-largest city in the u.s.—the 101 freeway is a major barrier to their daily routines. \n",
      "\n",
      "-  “we know from science what’s going on there, and it’s a little deeper than just that the animals are getting hit by cars,” says beth pratt of the national wildlife federation, one of several partner organizations working on the project. \n",
      "\n",
      "-  The situation is most acute for mountain lions, who risk extinction in the area within decades, but other wildlife, from lizards to birds, are also showing a decline in genetic diversity.\n",
      " \n",
      "\n"
     ]
    }
   ],
   "source": [
    "get_summary(text)"
   ]
  },
  {
   "cell_type": "code",
   "execution_count": 5,
   "metadata": {},
   "outputs": [
    {
     "name": "stdout",
     "output_type": "stream",
     "text": [
      "Words that appear more than two times:\n",
      "------------------------------------------------------------------------------------------------------------------------\n",
      "wildlife 7\n",
      "mountain 6\n",
      "lions 5\n",
      "freeway 5\n",
      "\n",
      " 5\n",
      "says 5\n",
      "project 4\n",
      "animals 4\n",
      "area 4\n",
      "crossing 3\n",
      "pratt 3\n",
      "urban 3\n"
     ]
    }
   ],
   "source": [
    "word_frequency(text)"
   ]
  }
 ],
 "metadata": {
  "kernelspec": {
   "display_name": "Python 3",
   "language": "python",
   "name": "python3"
  },
  "language_info": {
   "codemirror_mode": {
    "name": "ipython",
    "version": 3
   },
   "file_extension": ".py",
   "mimetype": "text/x-python",
   "name": "python",
   "nbconvert_exporter": "python",
   "pygments_lexer": "ipython3",
   "version": "3.8.3"
  }
 },
 "nbformat": 4,
 "nbformat_minor": 4
}

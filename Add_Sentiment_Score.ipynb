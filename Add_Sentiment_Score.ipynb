{
 "cells": [
  {
   "cell_type": "code",
   "execution_count": 1,
   "metadata": {},
   "outputs": [],
   "source": [
    "from Functions.datasets import load_stratified_dataset\n",
    "import pandas as pd\n",
    "import nltk"
   ]
  },
  {
   "cell_type": "code",
   "execution_count": 2,
   "metadata": {},
   "outputs": [],
   "source": [
    "df_orig = load_stratified_dataset('Datasets/dataset.csv', 'category' ,100)"
   ]
  },
  {
   "cell_type": "code",
   "execution_count": 3,
   "metadata": {},
   "outputs": [
    {
     "data": {
      "text/html": [
       "<div>\n",
       "<style scoped>\n",
       "    .dataframe tbody tr th:only-of-type {\n",
       "        vertical-align: middle;\n",
       "    }\n",
       "\n",
       "    .dataframe tbody tr th {\n",
       "        vertical-align: top;\n",
       "    }\n",
       "\n",
       "    .dataframe thead th {\n",
       "        text-align: right;\n",
       "    }\n",
       "</style>\n",
       "<table border=\"1\" class=\"dataframe\">\n",
       "  <thead>\n",
       "    <tr style=\"text-align: right;\">\n",
       "      <th></th>\n",
       "      <th>organizations</th>\n",
       "      <th>title</th>\n",
       "      <th>locations</th>\n",
       "      <th>text</th>\n",
       "      <th>published</th>\n",
       "      <th>category</th>\n",
       "      <th>site</th>\n",
       "      <th>country</th>\n",
       "      <th>text_length</th>\n",
       "    </tr>\n",
       "  </thead>\n",
       "  <tbody>\n",
       "    <tr>\n",
       "      <th>0</th>\n",
       "      <td>['GE']</td>\n",
       "      <td>New report shows GE animal suffering</td>\n",
       "      <td>[]</td>\n",
       "      <td>New report shows GE animal suffering Friday, 2...</td>\n",
       "      <td>2015-10-23T01:43:00.000+03:00</td>\n",
       "      <td>politics</td>\n",
       "      <td>scoop.co.nz</td>\n",
       "      <td>US</td>\n",
       "      <td>1702</td>\n",
       "    </tr>\n",
       "    <tr>\n",
       "      <th>1</th>\n",
       "      <td>[]</td>\n",
       "      <td>Putin marches, Obama watches</td>\n",
       "      <td>[]</td>\n",
       "      <td>Syrian President Bashar al-Assad and Russian P...</td>\n",
       "      <td>2015-10-22T03:00:00.000+03:00</td>\n",
       "      <td>politics</td>\n",
       "      <td>washingtonpost.com</td>\n",
       "      <td>US</td>\n",
       "      <td>2494</td>\n",
       "    </tr>\n",
       "    <tr>\n",
       "      <th>2</th>\n",
       "      <td>[]</td>\n",
       "      <td>Aust dollar lower in late trade</td>\n",
       "      <td>[]</td>\n",
       "      <td>The Australian dollar is slightly weaker due t...</td>\n",
       "      <td>2015-10-20T01:56:00.000+03:00</td>\n",
       "      <td>politics</td>\n",
       "      <td>businessspectator.com.au</td>\n",
       "      <td>US</td>\n",
       "      <td>1455</td>\n",
       "    </tr>\n",
       "    <tr>\n",
       "      <th>3</th>\n",
       "      <td>['NBC News', 'Fox News', 'World Trade Center',...</td>\n",
       "      <td>Trump &amp; Bush Continue Battle Over 9/11 and Geo...</td>\n",
       "      <td>['Simi Valley', 'Calif', 'Florida']</td>\n",
       "      <td>Privacy Policy | More Newsletters AP Republica...</td>\n",
       "      <td>2015-10-19T06:46:00.000+03:00</td>\n",
       "      <td>politics</td>\n",
       "      <td>nbcwashington.com</td>\n",
       "      <td>US</td>\n",
       "      <td>976</td>\n",
       "    </tr>\n",
       "    <tr>\n",
       "      <th>4</th>\n",
       "      <td>['AP']</td>\n",
       "      <td>LePage says southern Maine wants to keep north...</td>\n",
       "      <td>['LEWISTON', 'Lewiston', 'Cape Elizabeth', 'Ma...</td>\n",
       "      <td>LePage says southern Maine wants to keep north...</td>\n",
       "      <td>2015-10-14T20:40:00.000+03:00</td>\n",
       "      <td>politics</td>\n",
       "      <td>seacoastonline.com</td>\n",
       "      <td>US</td>\n",
       "      <td>1046</td>\n",
       "    </tr>\n",
       "  </tbody>\n",
       "</table>\n",
       "</div>"
      ],
      "text/plain": [
       "                                       organizations  \\\n",
       "0                                             ['GE']   \n",
       "1                                                 []   \n",
       "2                                                 []   \n",
       "3  ['NBC News', 'Fox News', 'World Trade Center',...   \n",
       "4                                             ['AP']   \n",
       "\n",
       "                                               title  \\\n",
       "0               New report shows GE animal suffering   \n",
       "1                       Putin marches, Obama watches   \n",
       "2                    Aust dollar lower in late trade   \n",
       "3  Trump & Bush Continue Battle Over 9/11 and Geo...   \n",
       "4  LePage says southern Maine wants to keep north...   \n",
       "\n",
       "                                           locations  \\\n",
       "0                                                 []   \n",
       "1                                                 []   \n",
       "2                                                 []   \n",
       "3                ['Simi Valley', 'Calif', 'Florida']   \n",
       "4  ['LEWISTON', 'Lewiston', 'Cape Elizabeth', 'Ma...   \n",
       "\n",
       "                                                text  \\\n",
       "0  New report shows GE animal suffering Friday, 2...   \n",
       "1  Syrian President Bashar al-Assad and Russian P...   \n",
       "2  The Australian dollar is slightly weaker due t...   \n",
       "3  Privacy Policy | More Newsletters AP Republica...   \n",
       "4  LePage says southern Maine wants to keep north...   \n",
       "\n",
       "                       published  category                      site country  \\\n",
       "0  2015-10-23T01:43:00.000+03:00  politics               scoop.co.nz      US   \n",
       "1  2015-10-22T03:00:00.000+03:00  politics        washingtonpost.com      US   \n",
       "2  2015-10-20T01:56:00.000+03:00  politics  businessspectator.com.au      US   \n",
       "3  2015-10-19T06:46:00.000+03:00  politics         nbcwashington.com      US   \n",
       "4  2015-10-14T20:40:00.000+03:00  politics        seacoastonline.com      US   \n",
       "\n",
       "   text_length  \n",
       "0         1702  \n",
       "1         2494  \n",
       "2         1455  \n",
       "3          976  \n",
       "4         1046  "
      ]
     },
     "execution_count": 3,
     "metadata": {},
     "output_type": "execute_result"
    }
   ],
   "source": [
    "df_orig.head()"
   ]
  },
  {
   "cell_type": "code",
   "execution_count": 4,
   "metadata": {},
   "outputs": [],
   "source": [
    "df = df_orig.copy()"
   ]
  },
  {
   "cell_type": "code",
   "execution_count": 5,
   "metadata": {},
   "outputs": [],
   "source": [
    "# Drop unused columns\n",
    "df.drop(['organizations', 'title', 'locations', 'published', 'category', 'site', 'country', 'text_length'], axis=1, inplace=True)"
   ]
  },
  {
   "cell_type": "code",
   "execution_count": 6,
   "metadata": {},
   "outputs": [],
   "source": [
    "df_tok = df.copy()"
   ]
  },
  {
   "cell_type": "code",
   "execution_count": 7,
   "metadata": {},
   "outputs": [
    {
     "data": {
      "text/plain": [
       "(700, 1)"
      ]
     },
     "execution_count": 7,
     "metadata": {},
     "output_type": "execute_result"
    }
   ],
   "source": [
    "pd.set_option('display.max_colwidth', -1)\n",
    "df.shape"
   ]
  },
  {
   "cell_type": "code",
   "execution_count": 8,
   "metadata": {},
   "outputs": [],
   "source": [
    "# Sentiment Analysis\n",
    "\n",
    "# Import modules\n",
    "from nltk.sentiment.vader import SentimentIntensityAnalyzer\n",
    "from textblob import TextBlob\n",
    "\n",
    "# Vader\n",
    "sid = SentimentIntensityAnalyzer()\n",
    "df[['neg', 'neu', 'pos', 'comp']] = df['text'].apply(sid.polarity_scores).apply(pd.Series)\n",
    "\n",
    "# TextBlob\n",
    "df[['polarity', 'subjectivity']] = df['text'].apply(lambda x:TextBlob(x).sentiment).apply(pd.Series)"
   ]
  },
  {
   "cell_type": "code",
   "execution_count": 9,
   "metadata": {},
   "outputs": [
    {
     "data": {
      "text/html": [
       "<div>\n",
       "<style scoped>\n",
       "    .dataframe tbody tr th:only-of-type {\n",
       "        vertical-align: middle;\n",
       "    }\n",
       "\n",
       "    .dataframe tbody tr th {\n",
       "        vertical-align: top;\n",
       "    }\n",
       "\n",
       "    .dataframe thead th {\n",
       "        text-align: right;\n",
       "    }\n",
       "</style>\n",
       "<table border=\"1\" class=\"dataframe\">\n",
       "  <thead>\n",
       "    <tr style=\"text-align: right;\">\n",
       "      <th></th>\n",
       "      <th>text</th>\n",
       "      <th>neg</th>\n",
       "      <th>neu</th>\n",
       "      <th>pos</th>\n",
       "      <th>comp</th>\n",
       "      <th>polarity</th>\n",
       "      <th>subjectivity</th>\n",
       "    </tr>\n",
       "  </thead>\n",
       "  <tbody>\n",
       "    <tr>\n",
       "      <th>0</th>\n",
       "      <td>New report shows GE animal suffering Friday, 23 October 2015, 11:43 am Press Release: SAFE \\nNew report shows GE animal suffering \\nA report released today gives a disturbing insight into the hidden world of genetic manipulation of New Zealand farm animals. \\nThe report, ‘GE Animals in New Zealand’, written by Claire Bleakley from GE Free NZ, covers fifteen years of animal research and details how transgenic animals suffer chronic illness, reproductive losses, sudden unexplained deaths and severe deformity. \\n“This report explains how attempts to turn cows into bioreactors (animals that produce specific proteins through transgenic modification) have failed and shows the huge toll this research has taken on the animals used,” says Hans Kriek, Executive Director of SAFE. “It is appalling that animals have been made to suffer for these useless experiments and SAFE believes an inquiry needs to be held into the approval process for this research.” \\nThe genetic engineering of animals has been shrouded in secrecy. Documents and photos that could shed a light on these practices are routinely denied to the public. “This secrecy adds to our concerns that what has happened to these animals would not stand up to public scrutiny,” says Mr Kriek. \\nThe limited information available to the author of the report indicates widespread animal suffering, from calves born without bladders, liver failure, still births, limb deformities, abnormally large ovaries and a number of other health problems. \\nSAFE is calling on the Government to halt the genetic engineering of animals and order the release of all documentation of past research so that the true extent of animal suffering can be evaluated. \\nENDS</td>\n",
       "      <td>0.155</td>\n",
       "      <td>0.749</td>\n",
       "      <td>0.096</td>\n",
       "      <td>-0.9494</td>\n",
       "      <td>0.067142</td>\n",
       "      <td>0.430581</td>\n",
       "    </tr>\n",
       "    <tr>\n",
       "      <th>1</th>\n",
       "      <td>Syrian President Bashar al-Assad and Russian President Vladimir Putin met in Moscow on Oct. 21. Russia has supported the Syrian government throughout that nation's civil war. (Kremlin) By Charles Krauthammer Opinion writer October 22 at 8:27 PM Follow @krauthammer Guess who just popped up in the Kremlin? Bashar al-Assad, Syrian dictator and destroyer, now Vladimir Putin’s newest pet. After four years holed up in Damascus, Assad was summoned to Russia to bend a knee to Putin, show the world that today Middle East questions get settled not in Washington but in Moscow, and officially bless the Russian-led four-nation takeover of Syria now underway.\\nDoes the bewildered Obama administration finally understand what Russia is up to?\\nCharles Krauthammer writes a weekly political column that runs on Fridays. View Archive Facebook RSS President Obama says Russia is doomed to fail in the Syrian quagmire. But Russia is not trying to reconquer the country for Assad. It is consolidating a rump Syrian state in the roughly 20 percent of the country he now controls, the Alawite areas stretching north and west from Damascus through Latakia and encompassing the Russian naval base at Tartus.\\nIt’s a partition. It will leave the Islamic State in control in the interior north and east. Why is this doomed to failure?\\nPutin’s larger strategy is also obvious. He is not reconstructing the old Soviet empire. That’s too large a task. But he is rebuilding and reasserting Russia’s ability to project power beyond its borders. Annexing Crimea restores to the motherland full control of the warm-water Black Sea port that Russia has coveted since Peter the Great. Shoring up a rump Alawite state secures Russia’s naval and air bases in the eastern Mediterranean. Add to that Russia’s launching of advanced cruise missiles from warships in the Caspian Sea to strike Syrian rebels 900 miles away and you have the most impressive display of Russian military reach since the Cold War.\\nFor Obama, of course, these things don’t matter. “In today’s world,” he told the U.N. last month, “the measure of strength is no longer defined by the control of territory.” That he clearly believes this fantasy was demonstrated by his total abandonment of Iraq, forfeiting U.S. bases from which we could have projected power in the region (most notably preventing, through control of Iraqi airspace, the Iranian rearming and reinforcement of Assad’s weakening regime).\\nWhile Obama counts on the arc of the moral universe</td>\n",
       "      <td>0.108</td>\n",
       "      <td>0.811</td>\n",
       "      <td>0.081</td>\n",
       "      <td>-0.9246</td>\n",
       "      <td>0.067177</td>\n",
       "      <td>0.432568</td>\n",
       "    </tr>\n",
       "    <tr>\n",
       "      <th>2</th>\n",
       "      <td>The Australian dollar is slightly weaker due to mixed economic data from China.\\nAt 1700 AEDT on Monday, the currency was trading at 72.73 US cents, down from 72.90 cents on Friday.\\nChina's economic growth slowed to 6.9 per cent in the third quarter of 2015, which was the worst rate of deceleration in more than six years, but still marginally above market expectations.\\nNational Australia Bank global co-head of FX strategy Ray Attrill said the number initially gave the Australian dollar a boost.\\n\"It had allayed some fears about an even sharper deceleration in Chinese growth and that carried the Aussie higher,\" he said.\\nHowever, mixed signals from other Chinese data released on Monday then pulled the currency back.\\nRetail sales rose 10.9 per cent in September, marginally stronger than the previous month's gain.\\nBut industrial production, a measure of output at factories, workshops and mines, rose 5.7 per cent year-on-year in September, a sharp drop on the 6.1 per cent increase recorded in August.\\nAt 1700 AEDT, the Australian dollar was at 86.77 Japanese yen, down from Friday's close of 86.86 yen, and at 63.98 euro cents, down from 64.05 euro cents.\\nMeanwhile, the Australian bond market was flat.\\nAt 1630 AEDT, the December 2015 10-year bond futures contract was trading at 97.375 (implying a yield of 2.625 per cent), unchanged from Friday.\\nThe December 2015 three-year bond futures contract was at 98.210 (1.790 per cent), also unchanged.</td>\n",
       "      <td>0.042</td>\n",
       "      <td>0.877</td>\n",
       "      <td>0.081</td>\n",
       "      <td>0.8752</td>\n",
       "      <td>0.005000</td>\n",
       "      <td>0.257500</td>\n",
       "    </tr>\n",
       "    <tr>\n",
       "      <th>3</th>\n",
       "      <td>Privacy Policy | More Newsletters AP Republican presidential candidate Donald Trump, left, speaks as former Florida Gov. Jeb Bush reacts during the CNN Republican presidential debate at the Ronald Reagan Presidential Library and Museum, Wednesday, Sept. 16, 2015, in Simi Valley, Calif. Two Republican candidates took their battle over comments about the 43rd president and 9/11 to the Sunday morning shows, NBC News reported. Donald Trump told Fox News he took issue with Jeb Bush's claims that \"my brother kept us safe.\" \"Jeb said we were safe with my brother, we were safe,\" Trump explained. \"Well, the World Trade Center just fell down. Now, am I trying to blame him? I'm not blaming anybody.” Jeb Bush continued to defend his brother on CNN Sunday morning. Meet the Candidates: Who's Running in 2016 \"Look, my brother responded to a crisis, and he did it as you would hope a president would do — united the country, he organized the country and he kept us safe,\" he said.</td>\n",
       "      <td>0.052</td>\n",
       "      <td>0.883</td>\n",
       "      <td>0.064</td>\n",
       "      <td>0.2796</td>\n",
       "      <td>0.249383</td>\n",
       "      <td>0.320988</td>\n",
       "    </tr>\n",
       "    <tr>\n",
       "      <th>4</th>\n",
       "      <td>LePage says southern Maine wants to keep northern Maine down Comment Posted Oct. 14, 2015 at 12:40 PM Posted Oct. 14, 2015 at 12:40 PM » Social News LEWISTON, Maine (AP) — Maine Gov. Paul LePage is fueling the notion that there are two Maines — the wealthy south, and the less-prosperous north. The Republican governor told about 100 people in Lewiston that lawmakers from southern Maine dominate the legislative process with the intent of keeping prosperity for themselves. The Sun Journal (http://bit.ly/1OBP2dK ) reported that the governor said, \"People in the south part of Maine will not allow people in northern Maine to earn a good living.\" He added, \"I know it sounds hard and cruel, but it's a fact.\" He referred specifically to failed efforts to ease restrictions on mineral mining in northern Maine. In July, LePage scolded a Cape Elizabeth resident in a handwritten note, saying she lives in a region where people \"exploit those who are not so fortunate.\" seacoastonline.com Posted Oct. 14, 2015 at 12:40 PM » Comment or view comments</td>\n",
       "      <td>0.069</td>\n",
       "      <td>0.891</td>\n",
       "      <td>0.039</td>\n",
       "      <td>-0.5078</td>\n",
       "      <td>-0.010354</td>\n",
       "      <td>0.417929</td>\n",
       "    </tr>\n",
       "  </tbody>\n",
       "</table>\n",
       "</div>"
      ],
      "text/plain": [
       "                                                                                                                                                                                                                                                                                                                                                                                                                                                                                                                                                                                                                                                                                                                                                                                                                                                                                                                                                                                                                                                                                                                                                                                                                                                                                                                                                                                                                                                                                                                                                                                                                                                                                                                                                                                                                                                                                                                                                                                                                                                                                                                                                                                                                                                                                                                                                                                                                                                                                                                                                                                                   text  \\\n",
       "0  New report shows GE animal suffering Friday, 23 October 2015, 11:43 am Press Release: SAFE \\nNew report shows GE animal suffering \\nA report released today gives a disturbing insight into the hidden world of genetic manipulation of New Zealand farm animals. \\nThe report, ‘GE Animals in New Zealand’, written by Claire Bleakley from GE Free NZ, covers fifteen years of animal research and details how transgenic animals suffer chronic illness, reproductive losses, sudden unexplained deaths and severe deformity. \\n“This report explains how attempts to turn cows into bioreactors (animals that produce specific proteins through transgenic modification) have failed and shows the huge toll this research has taken on the animals used,” says Hans Kriek, Executive Director of SAFE. “It is appalling that animals have been made to suffer for these useless experiments and SAFE believes an inquiry needs to be held into the approval process for this research.” \\nThe genetic engineering of animals has been shrouded in secrecy. Documents and photos that could shed a light on these practices are routinely denied to the public. “This secrecy adds to our concerns that what has happened to these animals would not stand up to public scrutiny,” says Mr Kriek. \\nThe limited information available to the author of the report indicates widespread animal suffering, from calves born without bladders, liver failure, still births, limb deformities, abnormally large ovaries and a number of other health problems. \\nSAFE is calling on the Government to halt the genetic engineering of animals and order the release of all documentation of past research so that the true extent of animal suffering can be evaluated. \\nENDS                                                                                                                                                                                                                                                                                                                                                                                                                                                                                                                                                                                                                                                                                                                                                                                                                         \n",
       "1  Syrian President Bashar al-Assad and Russian President Vladimir Putin met in Moscow on Oct. 21. Russia has supported the Syrian government throughout that nation's civil war. (Kremlin) By Charles Krauthammer Opinion writer October 22 at 8:27 PM Follow @krauthammer Guess who just popped up in the Kremlin? Bashar al-Assad, Syrian dictator and destroyer, now Vladimir Putin’s newest pet. After four years holed up in Damascus, Assad was summoned to Russia to bend a knee to Putin, show the world that today Middle East questions get settled not in Washington but in Moscow, and officially bless the Russian-led four-nation takeover of Syria now underway.\\nDoes the bewildered Obama administration finally understand what Russia is up to?\\nCharles Krauthammer writes a weekly political column that runs on Fridays. View Archive Facebook RSS President Obama says Russia is doomed to fail in the Syrian quagmire. But Russia is not trying to reconquer the country for Assad. It is consolidating a rump Syrian state in the roughly 20 percent of the country he now controls, the Alawite areas stretching north and west from Damascus through Latakia and encompassing the Russian naval base at Tartus.\\nIt’s a partition. It will leave the Islamic State in control in the interior north and east. Why is this doomed to failure?\\nPutin’s larger strategy is also obvious. He is not reconstructing the old Soviet empire. That’s too large a task. But he is rebuilding and reasserting Russia’s ability to project power beyond its borders. Annexing Crimea restores to the motherland full control of the warm-water Black Sea port that Russia has coveted since Peter the Great. Shoring up a rump Alawite state secures Russia’s naval and air bases in the eastern Mediterranean. Add to that Russia’s launching of advanced cruise missiles from warships in the Caspian Sea to strike Syrian rebels 900 miles away and you have the most impressive display of Russian military reach since the Cold War.\\nFor Obama, of course, these things don’t matter. “In today’s world,” he told the U.N. last month, “the measure of strength is no longer defined by the control of territory.” That he clearly believes this fantasy was demonstrated by his total abandonment of Iraq, forfeiting U.S. bases from which we could have projected power in the region (most notably preventing, through control of Iraqi airspace, the Iranian rearming and reinforcement of Assad’s weakening regime).\\nWhile Obama counts on the arc of the moral universe   \n",
       "2  The Australian dollar is slightly weaker due to mixed economic data from China.\\nAt 1700 AEDT on Monday, the currency was trading at 72.73 US cents, down from 72.90 cents on Friday.\\nChina's economic growth slowed to 6.9 per cent in the third quarter of 2015, which was the worst rate of deceleration in more than six years, but still marginally above market expectations.\\nNational Australia Bank global co-head of FX strategy Ray Attrill said the number initially gave the Australian dollar a boost.\\n\"It had allayed some fears about an even sharper deceleration in Chinese growth and that carried the Aussie higher,\" he said.\\nHowever, mixed signals from other Chinese data released on Monday then pulled the currency back.\\nRetail sales rose 10.9 per cent in September, marginally stronger than the previous month's gain.\\nBut industrial production, a measure of output at factories, workshops and mines, rose 5.7 per cent year-on-year in September, a sharp drop on the 6.1 per cent increase recorded in August.\\nAt 1700 AEDT, the Australian dollar was at 86.77 Japanese yen, down from Friday's close of 86.86 yen, and at 63.98 euro cents, down from 64.05 euro cents.\\nMeanwhile, the Australian bond market was flat.\\nAt 1630 AEDT, the December 2015 10-year bond futures contract was trading at 97.375 (implying a yield of 2.625 per cent), unchanged from Friday.\\nThe December 2015 three-year bond futures contract was at 98.210 (1.790 per cent), also unchanged.                                                                                                                                                                                                                                                                                                                                                                                                                                                                                                                                                                                                                                                                                                                                                                                                                                                                                                                                                                                                                                                                             \n",
       "3  Privacy Policy | More Newsletters AP Republican presidential candidate Donald Trump, left, speaks as former Florida Gov. Jeb Bush reacts during the CNN Republican presidential debate at the Ronald Reagan Presidential Library and Museum, Wednesday, Sept. 16, 2015, in Simi Valley, Calif. Two Republican candidates took their battle over comments about the 43rd president and 9/11 to the Sunday morning shows, NBC News reported. Donald Trump told Fox News he took issue with Jeb Bush's claims that \"my brother kept us safe.\" \"Jeb said we were safe with my brother, we were safe,\" Trump explained. \"Well, the World Trade Center just fell down. Now, am I trying to blame him? I'm not blaming anybody.” Jeb Bush continued to defend his brother on CNN Sunday morning. Meet the Candidates: Who's Running in 2016 \"Look, my brother responded to a crisis, and he did it as you would hope a president would do — united the country, he organized the country and he kept us safe,\" he said.                                                                                                                                                                                                                                                                                                                                                                                                                                                                                                                                                                                                                                                                                                                                                                                                                                                                                                                                                                                                                                                                                                                                                                                                                                                                                                                                                                                                                                                                                                                                                                                       \n",
       "4  LePage says southern Maine wants to keep northern Maine down Comment Posted Oct. 14, 2015 at 12:40 PM Posted Oct. 14, 2015 at 12:40 PM » Social News LEWISTON, Maine (AP) — Maine Gov. Paul LePage is fueling the notion that there are two Maines — the wealthy south, and the less-prosperous north. The Republican governor told about 100 people in Lewiston that lawmakers from southern Maine dominate the legislative process with the intent of keeping prosperity for themselves. The Sun Journal (http://bit.ly/1OBP2dK ) reported that the governor said, \"People in the south part of Maine will not allow people in northern Maine to earn a good living.\" He added, \"I know it sounds hard and cruel, but it's a fact.\" He referred specifically to failed efforts to ease restrictions on mineral mining in northern Maine. In July, LePage scolded a Cape Elizabeth resident in a handwritten note, saying she lives in a region where people \"exploit those who are not so fortunate.\" seacoastonline.com Posted Oct. 14, 2015 at 12:40 PM » Comment or view comments                                                                                                                                                                                                                                                                                                                                                                                                                                                                                                                                                                                                                                                                                                                                                                                                                                                                                                                                                                                                                                                                                                                                                                                                                                                                                                                                                                                                                                                                                                                 \n",
       "\n",
       "     neg    neu    pos    comp  polarity  subjectivity  \n",
       "0  0.155  0.749  0.096 -0.9494  0.067142  0.430581      \n",
       "1  0.108  0.811  0.081 -0.9246  0.067177  0.432568      \n",
       "2  0.042  0.877  0.081  0.8752  0.005000  0.257500      \n",
       "3  0.052  0.883  0.064  0.2796  0.249383  0.320988      \n",
       "4  0.069  0.891  0.039 -0.5078 -0.010354  0.417929      "
      ]
     },
     "execution_count": 9,
     "metadata": {},
     "output_type": "execute_result"
    }
   ],
   "source": [
    "df.head()"
   ]
  },
  {
   "cell_type": "code",
   "execution_count": 10,
   "metadata": {},
   "outputs": [],
   "source": [
    "# Tokenize text\n",
    "from Functions.function import tokenize\n",
    "for i in range(df_tok.shape[0]):\n",
    "    df_tok.text[i] = tokenize(df_tok.text[i])"
   ]
  },
  {
   "cell_type": "code",
   "execution_count": 11,
   "metadata": {},
   "outputs": [],
   "source": [
    "# Join list of strings to one string\n",
    "df_tok.text = df_tok.text.str.join(' ')"
   ]
  },
  {
   "cell_type": "code",
   "execution_count": 12,
   "metadata": {},
   "outputs": [],
   "source": [
    "# Sentiment Analysis \n",
    "# Vader\n",
    "df_tok[['neg', 'neu', 'pos', 'comp']] = df_tok['text'].apply(sid.polarity_scores).apply(pd.Series)\n",
    "\n",
    "# TextBlob\n",
    "df_tok[['polarity', 'subjectivity']] = df_tok['text'].apply(lambda x:TextBlob(x).sentiment).apply(pd.Series)"
   ]
  },
  {
   "cell_type": "code",
   "execution_count": 13,
   "metadata": {},
   "outputs": [],
   "source": [
    "#from nltk.corpus import sentiwordnet as swn\n",
    "#nltk.download('sentiwordnet')\n",
    "#nltk.download('wordnet')"
   ]
  },
  {
   "cell_type": "code",
   "execution_count": 14,
   "metadata": {},
   "outputs": [
    {
     "data": {
      "text/html": [
       "<div>\n",
       "<style scoped>\n",
       "    .dataframe tbody tr th:only-of-type {\n",
       "        vertical-align: middle;\n",
       "    }\n",
       "\n",
       "    .dataframe tbody tr th {\n",
       "        vertical-align: top;\n",
       "    }\n",
       "\n",
       "    .dataframe thead th {\n",
       "        text-align: right;\n",
       "    }\n",
       "</style>\n",
       "<table border=\"1\" class=\"dataframe\">\n",
       "  <thead>\n",
       "    <tr style=\"text-align: right;\">\n",
       "      <th></th>\n",
       "      <th>text</th>\n",
       "      <th>neg</th>\n",
       "      <th>neu</th>\n",
       "      <th>pos</th>\n",
       "      <th>comp</th>\n",
       "      <th>polarity</th>\n",
       "      <th>subjectivity</th>\n",
       "    </tr>\n",
       "  </thead>\n",
       "  <tbody>\n",
       "    <tr>\n",
       "      <th>0</th>\n",
       "      <td>new report shows ge animal suffering friday 23 october 2015 11:43 press release safe new report shows ge animal suffering report released today gives disturbing insight hidden world genetic manipulation new zealand farm animals report ge animals new zealand written claire bleakley ge free nz covers years animal research details transgenic animals suffer chronic illness reproductive losses sudden unexplained deaths severe deformity report explains attempts turn cows bioreactors animals produce specific proteins transgenic modification failed shows huge toll research taken animals says hans kriek executive director safe appalling animals suffer useless experiments safe believes inquiry needs held approval process research genetic engineering animals shrouded secrecy documents photos shed light practices routinely denied public secrecy adds concerns happened animals stand public scrutiny says mr kriek limited information available author report indicates widespread animal suffering calves born bladders liver failure births limb deformities abnormally large ovaries number health problems safe calling government halt genetic engineering animals order release documentation past research true extent animal suffering evaluated ends</td>\n",
       "      <td>0.244</td>\n",
       "      <td>0.643</td>\n",
       "      <td>0.114</td>\n",
       "      <td>-0.9796</td>\n",
       "      <td>0.074258</td>\n",
       "      <td>0.432640</td>\n",
       "    </tr>\n",
       "    <tr>\n",
       "      <th>1</th>\n",
       "      <td>syrian president bashar al assad russian president vladimir putin met moscow october 21 russia supported syrian government nation civil war kremlin charles krauthammer opinion writer october 22 8:27 pm follow @krauthammer guess popped kremlin bashar al assad syrian dictator destroyer vladimir putin newest pet years holed damascus assad summoned russia bend knee putin world today middle east questions settled washington moscow officially bless russian led nation takeover syria underway bewildered obama administration finally understand russia charles krauthammer writes weekly political column runs fridays view archive facebook rss president obama says russia doomed fail syrian quagmire russia trying reconquer country assad consolidating rump syrian state roughly 20 percent country controls alawite areas stretching north west damascus latakia encompassing russian naval base tartus partition leave islamic state control interior north east doomed failure putin larger strategy obvious reconstructing old soviet empire large task rebuilding reasserting russia ability project power borders annexing crimea restores motherland control warm water black sea port russia coveted peter great shoring rump alawite state secures russia naval air bases eastern mediterranean add russia launching advanced cruise missiles warships caspian sea strike syrian rebels 900 miles away impressive display russian military reach cold war obama course things matter today world told u.n. month measure strength longer defined control territory clearly believes fantasy demonstrated total abandonment iraq forfeiting u.s. bases projected power region notably preventing control iraqi airspace iranian rearming reinforcement assad weakening regime obama counts arc moral universe</td>\n",
       "      <td>0.138</td>\n",
       "      <td>0.752</td>\n",
       "      <td>0.111</td>\n",
       "      <td>-0.8591</td>\n",
       "      <td>0.043498</td>\n",
       "      <td>0.426740</td>\n",
       "    </tr>\n",
       "    <tr>\n",
       "      <th>2</th>\n",
       "      <td>australian dollar slightly weaker mixed economic data china 1700 aedt monday currency trading 72.73 cents 72.90 cents friday china economic growth slowed 6.9 cent quarter 2015 worst rate deceleration years marginally market expectations national australia bank global co head fx strategy ray attrill said number initially gave australian dollar boost allayed fears sharper deceleration chinese growth carried aussie higher said mixed signals chinese data released monday pulled currency retail sales rose 10.9 cent september marginally stronger previous month gain industrial production measure output factories workshops mines rose 5.7 cent year year september sharp drop 6.1 cent increase recorded august 1700 aedt australian dollar 86.77 japanese yen friday close 86.86 yen 63.98 euro cents 64.05 euro cents australian bond market flat 1630 aedt december 2015 10-year bond futures contract trading 97.375 implying yield 2.625 cent unchanged friday december 2015 year bond futures contract 98.210 1.790 cent unchanged</td>\n",
       "      <td>0.071</td>\n",
       "      <td>0.824</td>\n",
       "      <td>0.105</td>\n",
       "      <td>0.5574</td>\n",
       "      <td>0.017460</td>\n",
       "      <td>0.262302</td>\n",
       "    </tr>\n",
       "    <tr>\n",
       "      <th>3</th>\n",
       "      <td>privacy policy | newsletters ap republican presidential candidate donald trump left speaks florida gov. jeb bush reacts cnn republican presidential debate ronald reagan presidential library museum wednesday september 16 2015 simi valley california republican candidates took battle comments 43rd president 9/11 sunday morning shows nbc news reported donald trump told fox news took issue jeb bush claims brother kept safe jeb said safe brother safe trump explained world trade center fell trying blame blaming anybody jeb bush continued defend brother cnn sunday morning meet candidates running 2016 look brother responded crisis hope president united country organized country kept safe said</td>\n",
       "      <td>0.104</td>\n",
       "      <td>0.750</td>\n",
       "      <td>0.146</td>\n",
       "      <td>0.6124</td>\n",
       "      <td>0.316667</td>\n",
       "      <td>0.350000</td>\n",
       "    </tr>\n",
       "    <tr>\n",
       "      <th>4</th>\n",
       "      <td>lepage says southern maine wants northern maine comment posted october 14 2015 12:40 pm posted october 14 2015 12:40 pm social news lewiston maine ap maine gov. paul lepage fueling notion maines wealthy south prosperous north republican governor told 100 people lewiston lawmakers southern maine dominate legislative process intent keeping prosperity sun journal http://bit.ly/1obp2dk reported governor said people south maine allow people northern maine earn good living added know sounds hard cruel fact referred specifically failed efforts ease restrictions mineral mining northern maine july lepage scolded cape elizabeth resident handwritten note saying lives region people exploit fortunate seacoastonline.com posted october 14 2015 12:40 pm comment view comments</td>\n",
       "      <td>0.093</td>\n",
       "      <td>0.779</td>\n",
       "      <td>0.128</td>\n",
       "      <td>0.6597</td>\n",
       "      <td>0.004167</td>\n",
       "      <td>0.430833</td>\n",
       "    </tr>\n",
       "  </tbody>\n",
       "</table>\n",
       "</div>"
      ],
      "text/plain": [
       "                                                                                                                                                                                                                                                                                                                                                                                                                                                                                                                                                                                                                                                                                                                                                                                                                                                                                                                                                                                                                                                                                                                                                                                                                                                                                                                                                                                                                                                                                                                                                                                                                                                                                                                                                                                                                                       text  \\\n",
       "0  new report shows ge animal suffering friday 23 october 2015 11:43 press release safe new report shows ge animal suffering report released today gives disturbing insight hidden world genetic manipulation new zealand farm animals report ge animals new zealand written claire bleakley ge free nz covers years animal research details transgenic animals suffer chronic illness reproductive losses sudden unexplained deaths severe deformity report explains attempts turn cows bioreactors animals produce specific proteins transgenic modification failed shows huge toll research taken animals says hans kriek executive director safe appalling animals suffer useless experiments safe believes inquiry needs held approval process research genetic engineering animals shrouded secrecy documents photos shed light practices routinely denied public secrecy adds concerns happened animals stand public scrutiny says mr kriek limited information available author report indicates widespread animal suffering calves born bladders liver failure births limb deformities abnormally large ovaries number health problems safe calling government halt genetic engineering animals order release documentation past research true extent animal suffering evaluated ends                                                                                                                                                                                                                                                                                                                                                                                                                                                                                                                                                \n",
       "1  syrian president bashar al assad russian president vladimir putin met moscow october 21 russia supported syrian government nation civil war kremlin charles krauthammer opinion writer october 22 8:27 pm follow @krauthammer guess popped kremlin bashar al assad syrian dictator destroyer vladimir putin newest pet years holed damascus assad summoned russia bend knee putin world today middle east questions settled washington moscow officially bless russian led nation takeover syria underway bewildered obama administration finally understand russia charles krauthammer writes weekly political column runs fridays view archive facebook rss president obama says russia doomed fail syrian quagmire russia trying reconquer country assad consolidating rump syrian state roughly 20 percent country controls alawite areas stretching north west damascus latakia encompassing russian naval base tartus partition leave islamic state control interior north east doomed failure putin larger strategy obvious reconstructing old soviet empire large task rebuilding reasserting russia ability project power borders annexing crimea restores motherland control warm water black sea port russia coveted peter great shoring rump alawite state secures russia naval air bases eastern mediterranean add russia launching advanced cruise missiles warships caspian sea strike syrian rebels 900 miles away impressive display russian military reach cold war obama course things matter today world told u.n. month measure strength longer defined control territory clearly believes fantasy demonstrated total abandonment iraq forfeiting u.s. bases projected power region notably preventing control iraqi airspace iranian rearming reinforcement assad weakening regime obama counts arc moral universe   \n",
       "2  australian dollar slightly weaker mixed economic data china 1700 aedt monday currency trading 72.73 cents 72.90 cents friday china economic growth slowed 6.9 cent quarter 2015 worst rate deceleration years marginally market expectations national australia bank global co head fx strategy ray attrill said number initially gave australian dollar boost allayed fears sharper deceleration chinese growth carried aussie higher said mixed signals chinese data released monday pulled currency retail sales rose 10.9 cent september marginally stronger previous month gain industrial production measure output factories workshops mines rose 5.7 cent year year september sharp drop 6.1 cent increase recorded august 1700 aedt australian dollar 86.77 japanese yen friday close 86.86 yen 63.98 euro cents 64.05 euro cents australian bond market flat 1630 aedt december 2015 10-year bond futures contract trading 97.375 implying yield 2.625 cent unchanged friday december 2015 year bond futures contract 98.210 1.790 cent unchanged                                                                                                                                                                                                                                                                                                                                                                                                                                                                                                                                                                                                                                                                                                                                                                                \n",
       "3  privacy policy | newsletters ap republican presidential candidate donald trump left speaks florida gov. jeb bush reacts cnn republican presidential debate ronald reagan presidential library museum wednesday september 16 2015 simi valley california republican candidates took battle comments 43rd president 9/11 sunday morning shows nbc news reported donald trump told fox news took issue jeb bush claims brother kept safe jeb said safe brother safe trump explained world trade center fell trying blame blaming anybody jeb bush continued defend brother cnn sunday morning meet candidates running 2016 look brother responded crisis hope president united country organized country kept safe said                                                                                                                                                                                                                                                                                                                                                                                                                                                                                                                                                                                                                                                                                                                                                                                                                                                                                                                                                                                                                                                                                                                       \n",
       "4  lepage says southern maine wants northern maine comment posted october 14 2015 12:40 pm posted october 14 2015 12:40 pm social news lewiston maine ap maine gov. paul lepage fueling notion maines wealthy south prosperous north republican governor told 100 people lewiston lawmakers southern maine dominate legislative process intent keeping prosperity sun journal http://bit.ly/1obp2dk reported governor said people south maine allow people northern maine earn good living added know sounds hard cruel fact referred specifically failed efforts ease restrictions mineral mining northern maine july lepage scolded cape elizabeth resident handwritten note saying lives region people exploit fortunate seacoastonline.com posted october 14 2015 12:40 pm comment view comments                                                                                                                                                                                                                                                                                                                                                                                                                                                                                                                                                                                                                                                                                                                                                                                                                                                                                                                                                                                                                                          \n",
       "\n",
       "     neg    neu    pos    comp  polarity  subjectivity  \n",
       "0  0.244  0.643  0.114 -0.9796  0.074258  0.432640      \n",
       "1  0.138  0.752  0.111 -0.8591  0.043498  0.426740      \n",
       "2  0.071  0.824  0.105  0.5574  0.017460  0.262302      \n",
       "3  0.104  0.750  0.146  0.6124  0.316667  0.350000      \n",
       "4  0.093  0.779  0.128  0.6597  0.004167  0.430833      "
      ]
     },
     "execution_count": 14,
     "metadata": {},
     "output_type": "execute_result"
    }
   ],
   "source": [
    "df_tok.head()"
   ]
  },
  {
   "cell_type": "code",
   "execution_count": 20,
   "metadata": {},
   "outputs": [],
   "source": [
    "df_tok['category'] = df_orig['category']"
   ]
  },
  {
   "cell_type": "code",
   "execution_count": 40,
   "metadata": {},
   "outputs": [],
   "source": [
    "df.query('polarity > 0 and subjectivity < 0.3 and comp > 0');"
   ]
  },
  {
   "cell_type": "code",
   "execution_count": 41,
   "metadata": {},
   "outputs": [
    {
     "ename": "ModuleNotFoundError",
     "evalue": "No module named 'pycorenlp'",
     "output_type": "error",
     "traceback": [
      "\u001b[1;31m---------------------------------------------------------------------------\u001b[0m",
      "\u001b[1;31mModuleNotFoundError\u001b[0m                       Traceback (most recent call last)",
      "\u001b[1;32m<ipython-input-41-acda58cdff85>\u001b[0m in \u001b[0;36m<module>\u001b[1;34m\u001b[0m\n\u001b[1;32m----> 1\u001b[1;33m \u001b[1;32mfrom\u001b[0m \u001b[0mpycorenlp\u001b[0m \u001b[1;32mimport\u001b[0m \u001b[0mStanfordCoreNLP\u001b[0m\u001b[1;33m\u001b[0m\u001b[1;33m\u001b[0m\u001b[0m\n\u001b[0m\u001b[0;32m      2\u001b[0m \u001b[0mnlp\u001b[0m \u001b[1;33m=\u001b[0m \u001b[0mStanfordCoreNLP\u001b[0m\u001b[1;33m(\u001b[0m\u001b[1;34m'http://localhost:9000'\u001b[0m\u001b[1;33m)\u001b[0m\u001b[1;33m\u001b[0m\u001b[1;33m\u001b[0m\u001b[0m\n\u001b[0;32m      3\u001b[0m \u001b[0mtext\u001b[0m \u001b[1;33m=\u001b[0m \u001b[1;34m\"The intent behind the movie was great, but it could have been better\"\u001b[0m\u001b[1;33m\u001b[0m\u001b[1;33m\u001b[0m\u001b[0m\n\u001b[0;32m      4\u001b[0m results = nlp.annotate(text,properties={\n\u001b[0;32m      5\u001b[0m         \u001b[1;34m'annotators'\u001b[0m\u001b[1;33m:\u001b[0m\u001b[1;34m'sentiment, ner, pos'\u001b[0m\u001b[1;33m,\u001b[0m\u001b[1;33m\u001b[0m\u001b[1;33m\u001b[0m\u001b[0m\n",
      "\u001b[1;31mModuleNotFoundError\u001b[0m: No module named 'pycorenlp'"
     ]
    }
   ],
   "source": [
    "from pycorenlp import StanfordCoreNLP\n",
    "nlp = StanfordCoreNLP('http://localhost:9000')\n",
    "text = \"The intent behind the movie was great, but it could have been better\"\n",
    "results = nlp.annotate(text,properties={\n",
    "        'annotators':'sentiment, ner, pos',\n",
    "        'outputFormat': 'json',\n",
    "        'timeout': 50000,\n",
    "        })\n",
    "for s in results[\"sentences\"]:\n",
    "    print(\"{} : {}\".format(\" \".join(t[\"word\"] for t in s[\"tokens\"]),s[\"sentiment\"]))"
   ]
  },
  {
   "cell_type": "code",
   "execution_count": null,
   "metadata": {},
   "outputs": [],
   "source": []
  }
 ],
 "metadata": {
  "kernelspec": {
   "display_name": "Python [conda env:nf] *",
   "language": "python",
   "name": "conda-env-nf-py"
  },
  "language_info": {
   "codemirror_mode": {
    "name": "ipython",
    "version": 3
   },
   "file_extension": ".py",
   "mimetype": "text/x-python",
   "name": "python",
   "nbconvert_exporter": "python",
   "pygments_lexer": "ipython3",
   "version": "3.6.12"
  }
 },
 "nbformat": 4,
 "nbformat_minor": 4
}

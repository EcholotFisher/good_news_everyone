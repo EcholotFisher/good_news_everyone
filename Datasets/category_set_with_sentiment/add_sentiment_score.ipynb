{
 "cells": [
  {
   "cell_type": "code",
   "execution_count": 1,
   "metadata": {},
   "outputs": [],
   "source": [
    "# Set path for function import\n",
    "import sys\n",
    "sys.path.append('../../Functions')"
   ]
  },
  {
   "cell_type": "code",
   "execution_count": 2,
   "metadata": {},
   "outputs": [],
   "source": [
    "# Load the data \n",
    "import pandas as pd\n",
    "from datasets import load_stratified_dataset\n",
    "df_orig = load_stratified_dataset('../dataset_categories/dataset.csv', 'category' ,1, random_seed=47)"
   ]
  },
  {
   "cell_type": "code",
   "execution_count": 3,
   "metadata": {},
   "outputs": [
    {
     "data": {
      "text/html": [
       "<div>\n",
       "<style scoped>\n",
       "    .dataframe tbody tr th:only-of-type {\n",
       "        vertical-align: middle;\n",
       "    }\n",
       "\n",
       "    .dataframe tbody tr th {\n",
       "        vertical-align: top;\n",
       "    }\n",
       "\n",
       "    .dataframe thead th {\n",
       "        text-align: right;\n",
       "    }\n",
       "</style>\n",
       "<table border=\"1\" class=\"dataframe\">\n",
       "  <thead>\n",
       "    <tr style=\"text-align: right;\">\n",
       "      <th></th>\n",
       "      <th>organizations</th>\n",
       "      <th>title</th>\n",
       "      <th>locations</th>\n",
       "      <th>text</th>\n",
       "      <th>published</th>\n",
       "      <th>category</th>\n",
       "      <th>site</th>\n",
       "      <th>country</th>\n",
       "      <th>text_length</th>\n",
       "    </tr>\n",
       "  </thead>\n",
       "  <tbody>\n",
       "    <tr>\n",
       "      <th>0</th>\n",
       "      <td>[]</td>\n",
       "      <td>17 killed in China restaurant blast</td>\n",
       "      <td>[]</td>\n",
       "      <td>17 killed in China restaurant blast By Indo-As...</td>\n",
       "      <td>2015-10-11T13:09:00.000+03:00</td>\n",
       "      <td>raw_data\\entertainment</td>\n",
       "      <td>india.com</td>\n",
       "      <td>US</td>\n",
       "      <td>1139</td>\n",
       "    </tr>\n",
       "    <tr>\n",
       "      <th>1</th>\n",
       "      <td>[]</td>\n",
       "      <td>Indian hospitals warned against turning away d...</td>\n",
       "      <td>[]</td>\n",
       "      <td>NEW DELHI - (AP) -- Government officials threa...</td>\n",
       "      <td>2015-09-16T13:13:00.000+03:00</td>\n",
       "      <td>raw_data\\world</td>\n",
       "      <td>newsday.com</td>\n",
       "      <td>US</td>\n",
       "      <td>1582</td>\n",
       "    </tr>\n",
       "    <tr>\n",
       "      <th>2</th>\n",
       "      <td>[]</td>\n",
       "      <td>Rio to host BMX Olympic test event</td>\n",
       "      <td>[]</td>\n",
       "      <td>0 0 0 0 0 Rio De Janeiro, Oct 3 (IANS) The wor...</td>\n",
       "      <td>2015-10-03T03:56:00.000+03:00</td>\n",
       "      <td>raw_data\\sports</td>\n",
       "      <td>canindia.com</td>\n",
       "      <td>US</td>\n",
       "      <td>1275</td>\n",
       "    </tr>\n",
       "    <tr>\n",
       "      <th>3</th>\n",
       "      <td>[]</td>\n",
       "      <td>Grammar Schools</td>\n",
       "      <td>[]</td>\n",
       "      <td>[news] 09:01 I would be classed as middle clas...</td>\n",
       "      <td>2015-10-15T15:35:00.000+03:00</td>\n",
       "      <td>raw_data\\politics</td>\n",
       "      <td>pistonheads.com</td>\n",
       "      <td>IE</td>\n",
       "      <td>1682</td>\n",
       "    </tr>\n",
       "    <tr>\n",
       "      <th>4</th>\n",
       "      <td>[]</td>\n",
       "      <td>Latest News : Automotive Testing Technology In...</td>\n",
       "      <td>[]</td>\n",
       "      <td>SHOW LIVE: Data acquisition with TEDS support ...</td>\n",
       "      <td>2015-10-20T03:00:00.000+03:00</td>\n",
       "      <td>raw_data\\technology</td>\n",
       "      <td>automotivetestingtechnologyinternational.com</td>\n",
       "      <td>GB</td>\n",
       "      <td>1493</td>\n",
       "    </tr>\n",
       "  </tbody>\n",
       "</table>\n",
       "</div>"
      ],
      "text/plain": [
       "  organizations                                              title locations  \\\n",
       "0            []                17 killed in China restaurant blast        []   \n",
       "1            []  Indian hospitals warned against turning away d...        []   \n",
       "2            []                 Rio to host BMX Olympic test event        []   \n",
       "3            []                                    Grammar Schools        []   \n",
       "4            []  Latest News : Automotive Testing Technology In...        []   \n",
       "\n",
       "                                                text  \\\n",
       "0  17 killed in China restaurant blast By Indo-As...   \n",
       "1  NEW DELHI - (AP) -- Government officials threa...   \n",
       "2  0 0 0 0 0 Rio De Janeiro, Oct 3 (IANS) The wor...   \n",
       "3  [news] 09:01 I would be classed as middle clas...   \n",
       "4  SHOW LIVE: Data acquisition with TEDS support ...   \n",
       "\n",
       "                       published                category  \\\n",
       "0  2015-10-11T13:09:00.000+03:00  raw_data\\entertainment   \n",
       "1  2015-09-16T13:13:00.000+03:00          raw_data\\world   \n",
       "2  2015-10-03T03:56:00.000+03:00         raw_data\\sports   \n",
       "3  2015-10-15T15:35:00.000+03:00       raw_data\\politics   \n",
       "4  2015-10-20T03:00:00.000+03:00     raw_data\\technology   \n",
       "\n",
       "                                           site country  text_length  \n",
       "0                                     india.com      US         1139  \n",
       "1                                   newsday.com      US         1582  \n",
       "2                                  canindia.com      US         1275  \n",
       "3                               pistonheads.com      IE         1682  \n",
       "4  automotivetestingtechnologyinternational.com      GB         1493  "
      ]
     },
     "execution_count": 3,
     "metadata": {},
     "output_type": "execute_result"
    }
   ],
   "source": [
    "df_orig.head()"
   ]
  },
  {
   "cell_type": "code",
   "execution_count": 4,
   "metadata": {},
   "outputs": [],
   "source": [
    "# Copy the dataframe\n",
    "df = df_orig.copy()"
   ]
  },
  {
   "cell_type": "code",
   "execution_count": 5,
   "metadata": {},
   "outputs": [],
   "source": [
    "# Drop unused columns\n",
    "df.drop(['organizations', 'locations', 'published', 'category', 'site', 'country', 'text_length'], axis=1, inplace=True)"
   ]
  },
  {
   "cell_type": "code",
   "execution_count": 6,
   "metadata": {},
   "outputs": [],
   "source": [
    "#df_tok = df.copy()\n",
    "#df_tok_sent = df.copy()\n",
    "\n",
    "# Tokenize text\n",
    "#from Functions.function import tokenize_word\n",
    "#for i in range(df_tok.shape[0]):\n",
    "#    df_tok.text[i] = tokenize_word(df_tok.text[i])\n",
    "\n",
    "#from Functions.function import tokenize_sentence\n",
    "#for i in range(df_tok.shape[0]):\n",
    "#    df_tok_sent.text[i] = tokenize_sentence(df_tok_sent.text[i])\n",
    "\n",
    "# Join list of strings to one string\n",
    "#df_tok.text = df_tok.text.str.join(' ')\n",
    "#df_tok_sent.text = df_tok_sent.text.str.join(' ')"
   ]
  },
  {
   "cell_type": "code",
   "execution_count": 7,
   "metadata": {},
   "outputs": [],
   "source": [
    "# Sentiment Analysis with TextBlob and Vader\n",
    "\n",
    "# Import libraries\n",
    "import nltk\n",
    "from nltk.sentiment.vader import SentimentIntensityAnalyzer\n",
    "from textblob import TextBlob\n",
    "\n",
    "# Vader\n",
    "sid = SentimentIntensityAnalyzer()\n",
    "df[['neg', 'neu', 'pos', 'Vader_Score']] = df['text'].apply(sid.polarity_scores).apply(pd.Series)\n",
    "df.drop(['neg', 'neu', 'pos'], axis=1, inplace=True)\n",
    "\n",
    "# TextBlob\n",
    "df[['TextBlob_Score', 'subjectivity']] = df['text'].apply(lambda x:TextBlob(x).sentiment).apply(pd.Series)\n",
    "df.drop('subjectivity', axis=1, inplace=True)"
   ]
  },
  {
   "cell_type": "code",
   "execution_count": 8,
   "metadata": {},
   "outputs": [
    {
     "name": "stdout",
     "output_type": "stream",
     "text": [
      "6\r"
     ]
    }
   ],
   "source": [
    "# Sentiment Analysis with StanfordNLP\n",
    "\n",
    "from stanford_sentiment import Sentiment_StanfordNLP\n",
    "Stanford_Score = []\n",
    "for i in range(df.shape[0]):\n",
    "    print(i, end='\\r')\n",
    "    try:\n",
    "        Stanford_Score.append(Sentiment_StanfordNLP(df.text[i]))\n",
    "    except:\n",
    "        Stanford_Score.append(None)\n",
    "df['Stanford_Score'] = pd.DataFrame(Stanford_Score)"
   ]
  },
  {
   "cell_type": "code",
   "execution_count": 9,
   "metadata": {},
   "outputs": [],
   "source": [
    "# Export\n",
    "#df.to_csv('dataset_with_sentiment.csv')"
   ]
  }
 ],
 "metadata": {
  "kernelspec": {
   "display_name": "Python [conda env:nf] *",
   "language": "python",
   "name": "conda-env-nf-py"
  },
  "language_info": {
   "codemirror_mode": {
    "name": "ipython",
    "version": 3
   },
   "file_extension": ".py",
   "mimetype": "text/x-python",
   "name": "python",
   "nbconvert_exporter": "python",
   "pygments_lexer": "ipython3",
   "version": "3.6.12"
  }
 },
 "nbformat": 4,
 "nbformat_minor": 4
}

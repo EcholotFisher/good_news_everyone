{
 "cells": [
  {
   "cell_type": "code",
   "execution_count": 95,
   "metadata": {},
   "outputs": [],
   "source": [
    "import pandas as pd\n",
    "import numpy as np\n",
    "\n",
    "# Import data\n",
    "df = pd.read_csv('dataset_with_sentiment.csv')\n",
    "\n",
    "# Add the source and redundant column\n",
    "df['source'] = 'webhose.io'\n",
    "df.drop('Unnamed: 0', axis=1, inplace=True)\n",
    "\n",
    "# Drop all nans (#24)\n",
    "df = df.dropna()\n",
    "\n",
    "# Sort good and not_good\n",
    "df_good = df.query('Stanford_Score > 0.2 and TextBlob_Score > 0.1 and Vader_Score > 0.1').reset_index(drop=True)\n",
    "df_not_good = df.query('Stanford_Score < 0.2 and TextBlob_Score < 0.1 and Vader_Score < 0.1').reset_index(drop=True)\n",
    "\n",
    "# Label\n",
    "df_good['label'] = 1\n",
    "df_not_good['label'] = 0\n",
    "\n",
    "# Join as clean set\n",
    "df_clean = pd.concat([df_good,df_not_good]).reset_index(drop=True)\n",
    "df_clean.drop(['Vader_Score', 'TextBlob_Score', 'Stanford_Score'], axis=1, inplace=True)\n",
    "\n",
    "# Add url column\n",
    "df_clean['url'] = None\n",
    "\n",
    "# Export\n",
    "df_clean.to_csv('dataset_with_sentiment_clean.csv', index=False)"
   ]
  }
 ],
 "metadata": {
  "kernelspec": {
   "display_name": "Python [conda env:nf] *",
   "language": "python",
   "name": "conda-env-nf-py"
  },
  "language_info": {
   "codemirror_mode": {
    "name": "ipython",
    "version": 3
   },
   "file_extension": ".py",
   "mimetype": "text/x-python",
   "name": "python",
   "nbconvert_exporter": "python",
   "pygments_lexer": "ipython3",
   "version": "3.6.12"
  }
 },
 "nbformat": 4,
 "nbformat_minor": 4
}

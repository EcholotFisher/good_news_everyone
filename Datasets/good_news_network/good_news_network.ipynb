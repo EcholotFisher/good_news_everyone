{
 "cells": [
  {
   "cell_type": "markdown",
   "metadata": {},
   "source": [
    "# Dataset from Goodnewsnetwork\n",
    "Load dataset from good news network (www.goodnewsnetwork.org)."
   ]
  },
  {
   "cell_type": "code",
   "execution_count": 1,
   "metadata": {},
   "outputs": [],
   "source": [
    "import requests\n",
    "\n",
    "from bs4 import BeautifulSoup, SoupStrainer\n",
    "from urlextract import URLExtract as urlextract\n",
    "extractor = urlextract()"
   ]
  },
  {
   "cell_type": "code",
   "execution_count": 2,
   "metadata": {},
   "outputs": [],
   "source": [
    "# Get content from Url\n",
    "def get_content(url):\n",
    "    print(count[0], end='\\r')\n",
    "    count[0] += 1\n",
    "    try:\n",
    "        response = requests.get(url)\n",
    "        soup = BeautifulSoup(response.text, \"html.parser\")\n",
    "        # Get title, text\n",
    "        title = soup.title.string\n",
    "        text = [i.text for i in soup.findAll('p')] #' '.join()\n",
    "        content.append((title, text, url))\n",
    "    except:\n",
    "        print(url + '\\n could not be loaded')"
   ]
  },
  {
   "cell_type": "code",
   "execution_count": 3,
   "metadata": {},
   "outputs": [
    {
     "name": "stdout",
     "output_type": "stream",
     "text": [
      "https://www.goodnewsnetwork.org/wp-content/uploads/2020/09/Iberian-Lynx-grass-CC-Program-Ex-situ-Conservation-324x235.jpeg\n",
      " could not be loaded\n",
      "https://www.goodnewsnetwork.org/wp-content/uploads/2020/09/David-Klein-released-PR-Newswire-324x235.jpeg\n",
      " could not be loaded\n",
      "https://www.goodnewsnetwork.org/wp-content/uploads/2020/01/Screenshot-55-324x235.png\n",
      " could not be loaded\n",
      "1936\r"
     ]
    }
   ],
   "source": [
    "# Loop over pages\n",
    "count = [0, 0]\n",
    "content = []\n",
    "pages = 100\n",
    "for page in range(1, pages):\n",
    "    url = 'https://www.goodnewsnetwork.org/category/news/page/{}/'.format(page)\n",
    "    # Get links from page\n",
    "    response = requests.get(url)\n",
    "    soup = BeautifulSoup(response.text, \"html.parser\")\n",
    "    related = soup.findAll(True, {'class': 'td-module-thumb'})\n",
    "    related = [str(i) for i in related if 'height=\"235\"' in str(i)]\n",
    "    urls = set(extractor.find_urls(' '.join(related)))\n",
    "    urls = [i for i in urls if '.jpg' not in i]\n",
    "    # Get content from links\n",
    "    for u in urls:\n",
    "        get_content(u)\n",
    "    "
   ]
  },
  {
   "cell_type": "code",
   "execution_count": 4,
   "metadata": {},
   "outputs": [],
   "source": [
    "# Turn content to Dataframe\n",
    "import pandas as pd\n",
    "\n",
    "titles = []\n",
    "contents = []\n",
    "urls = []\n",
    "for title, text, url in content:\n",
    "    titles.append(title)\n",
    "    contents.append(text)\n",
    "    urls.append(url)\n",
    "    \n",
    "df = pd.DataFrame({'title': titles, 'text': contents, 'url': urls})"
   ]
  },
  {
   "cell_type": "code",
   "execution_count": 5,
   "metadata": {},
   "outputs": [],
   "source": [
    "# Save dataframes\n",
    "df.to_csv('good_news_network.csv', index=False)"
   ]
  },
  {
   "cell_type": "code",
   "execution_count": 6,
   "metadata": {},
   "outputs": [
    {
     "data": {
      "text/html": [
       "<div>\n",
       "<style scoped>\n",
       "    .dataframe tbody tr th:only-of-type {\n",
       "        vertical-align: middle;\n",
       "    }\n",
       "\n",
       "    .dataframe tbody tr th {\n",
       "        vertical-align: top;\n",
       "    }\n",
       "\n",
       "    .dataframe thead th {\n",
       "        text-align: right;\n",
       "    }\n",
       "</style>\n",
       "<table border=\"1\" class=\"dataframe\">\n",
       "  <thead>\n",
       "    <tr style=\"text-align: right;\">\n",
       "      <th></th>\n",
       "      <th>title</th>\n",
       "      <th>text</th>\n",
       "      <th>url</th>\n",
       "    </tr>\n",
       "  </thead>\n",
       "  <tbody>\n",
       "    <tr>\n",
       "      <th>0</th>\n",
       "      <td>Preemie Born the Size of a Superman Doll Now P...</td>\n",
       "      <td>[A premature baby the size of a Superman actio...</td>\n",
       "      <td>https://www.goodnewsnetwork.org/preemie-takes-...</td>\n",
       "    </tr>\n",
       "    <tr>\n",
       "      <th>1</th>\n",
       "      <td>Mom Shares an 'Optical IIlusion' Photo of Her ...</td>\n",
       "      <td>[A trick of the light can make a really big im...</td>\n",
       "      <td>https://www.goodnewsnetwork.org/optical-illusi...</td>\n",
       "    </tr>\n",
       "    <tr>\n",
       "      <th>2</th>\n",
       "      <td>70-Year-Old Veteran Battling Cancer Hailed as ...</td>\n",
       "      <td>[A 70-year-old Air Force veteran from Salem, I...</td>\n",
       "      <td>https://www.goodnewsnetwork.org/70-year-old-ve...</td>\n",
       "    </tr>\n",
       "    <tr>\n",
       "      <th>3</th>\n",
       "      <td>Kevin Hart Steps in Where Jerry Lewis Left Off...</td>\n",
       "      <td>[Taking over from Jerry Lewis who reigned as t...</td>\n",
       "      <td>https://www.goodnewsnetwork.org/kevin-hart-ina...</td>\n",
       "    </tr>\n",
       "    <tr>\n",
       "      <th>4</th>\n",
       "      <td>World’s Biggest Wildlife Crossing Will Protect...</td>\n",
       "      <td>[Running through the second-largest city in th...</td>\n",
       "      <td>https://www.goodnewsnetwork.org/101-wildlife-m...</td>\n",
       "    </tr>\n",
       "    <tr>\n",
       "      <th>...</th>\n",
       "      <td>...</td>\n",
       "      <td>...</td>\n",
       "      <td>...</td>\n",
       "    </tr>\n",
       "    <tr>\n",
       "      <th>1929</th>\n",
       "      <td>New Research Says That ‘Tickling’ Ear Therapy ...</td>\n",
       "      <td>[A new study says that “tickling” the ear with...</td>\n",
       "      <td>https://www.goodnewsnetwork.org/tickle-therapy...</td>\n",
       "    </tr>\n",
       "    <tr>\n",
       "      <th>1930</th>\n",
       "      <td>Increasing Tree Cover on City Streets May Be L...</td>\n",
       "      <td>[This exciting new Australian study has found ...</td>\n",
       "      <td>https://www.goodnewsnetwork.org/increasing-cit...</td>\n",
       "    </tr>\n",
       "    <tr>\n",
       "      <th>1931</th>\n",
       "      <td>Listen to Actor Danny Trejo Describe How He He...</td>\n",
       "      <td>[Iconic Hollywood actor Danny Trejo has just p...</td>\n",
       "      <td>https://www.goodnewsnetwork.org/danny-trejo-re...</td>\n",
       "    </tr>\n",
       "    <tr>\n",
       "      <th>1932</th>\n",
       "      <td>Man Crafts Special Gift for Young Neighbor Wit...</td>\n",
       "      <td>[Many patriotic Americans can appreciate the s...</td>\n",
       "      <td>https://www.goodnewsnetwork.org/man-crafts-gif...</td>\n",
       "    </tr>\n",
       "    <tr>\n",
       "      <th>1933</th>\n",
       "      <td>Supertramp Singer ‘Gives a Little Bit’ Invitin...</td>\n",
       "      <td>[On World Autism Awareness Day, the legendary ...</td>\n",
       "      <td>https://www.goodnewsnetwork.org/supertramp-sin...</td>\n",
       "    </tr>\n",
       "  </tbody>\n",
       "</table>\n",
       "<p>1934 rows × 3 columns</p>\n",
       "</div>"
      ],
      "text/plain": [
       "                                                  title  \\\n",
       "0     Preemie Born the Size of a Superman Doll Now P...   \n",
       "1     Mom Shares an 'Optical IIlusion' Photo of Her ...   \n",
       "2     70-Year-Old Veteran Battling Cancer Hailed as ...   \n",
       "3     Kevin Hart Steps in Where Jerry Lewis Left Off...   \n",
       "4     World’s Biggest Wildlife Crossing Will Protect...   \n",
       "...                                                 ...   \n",
       "1929  New Research Says That ‘Tickling’ Ear Therapy ...   \n",
       "1930  Increasing Tree Cover on City Streets May Be L...   \n",
       "1931  Listen to Actor Danny Trejo Describe How He He...   \n",
       "1932  Man Crafts Special Gift for Young Neighbor Wit...   \n",
       "1933  Supertramp Singer ‘Gives a Little Bit’ Invitin...   \n",
       "\n",
       "                                                   text  \\\n",
       "0     [A premature baby the size of a Superman actio...   \n",
       "1     [A trick of the light can make a really big im...   \n",
       "2     [A 70-year-old Air Force veteran from Salem, I...   \n",
       "3     [Taking over from Jerry Lewis who reigned as t...   \n",
       "4     [Running through the second-largest city in th...   \n",
       "...                                                 ...   \n",
       "1929  [A new study says that “tickling” the ear with...   \n",
       "1930  [This exciting new Australian study has found ...   \n",
       "1931  [Iconic Hollywood actor Danny Trejo has just p...   \n",
       "1932  [Many patriotic Americans can appreciate the s...   \n",
       "1933  [On World Autism Awareness Day, the legendary ...   \n",
       "\n",
       "                                                    url  \n",
       "0     https://www.goodnewsnetwork.org/preemie-takes-...  \n",
       "1     https://www.goodnewsnetwork.org/optical-illusi...  \n",
       "2     https://www.goodnewsnetwork.org/70-year-old-ve...  \n",
       "3     https://www.goodnewsnetwork.org/kevin-hart-ina...  \n",
       "4     https://www.goodnewsnetwork.org/101-wildlife-m...  \n",
       "...                                                 ...  \n",
       "1929  https://www.goodnewsnetwork.org/tickle-therapy...  \n",
       "1930  https://www.goodnewsnetwork.org/increasing-cit...  \n",
       "1931  https://www.goodnewsnetwork.org/danny-trejo-re...  \n",
       "1932  https://www.goodnewsnetwork.org/man-crafts-gif...  \n",
       "1933  https://www.goodnewsnetwork.org/supertramp-sin...  \n",
       "\n",
       "[1934 rows x 3 columns]"
      ]
     },
     "execution_count": 6,
     "metadata": {},
     "output_type": "execute_result"
    }
   ],
   "source": [
    "df.head()"
   ]
  },
  {
   "cell_type": "code",
   "execution_count": null,
   "metadata": {},
   "outputs": [],
   "source": []
  }
 ],
 "metadata": {
  "kernelspec": {
   "display_name": "Python 3",
   "language": "python",
   "name": "python3"
  },
  "language_info": {
   "codemirror_mode": {
    "name": "ipython",
    "version": 3
   },
   "file_extension": ".py",
   "mimetype": "text/x-python",
   "name": "python",
   "nbconvert_exporter": "python",
   "pygments_lexer": "ipython3",
   "version": "3.6.10"
  }
 },
 "nbformat": 4,
 "nbformat_minor": 4
}

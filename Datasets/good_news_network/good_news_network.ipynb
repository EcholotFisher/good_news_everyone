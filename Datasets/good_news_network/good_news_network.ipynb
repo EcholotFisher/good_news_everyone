{
 "cells": [
  {
   "cell_type": "markdown",
   "metadata": {},
   "source": [
    "# Dataset from Goodnewsnetwork\n",
    "Load dataset from good news network (www.goodnewsnetwork.org)."
   ]
  },
  {
   "cell_type": "code",
   "execution_count": 1,
   "metadata": {},
   "outputs": [],
   "source": [
    "import requests\n",
    "\n",
    "from bs4 import BeautifulSoup, SoupStrainer\n",
    "from urlextract import URLExtract as urlextract\n",
    "extractor = urlextract()"
   ]
  },
  {
   "cell_type": "code",
   "execution_count": 2,
   "metadata": {},
   "outputs": [],
   "source": [
    "# Get content from Url\n",
    "def get_content(url):\n",
    "    print(count[0], end='\\r')\n",
    "    count[0] += 1\n",
    "    try:\n",
    "        response = requests.get(url)\n",
    "        soup = BeautifulSoup(response.text, \"html.parser\")\n",
    "        # Get title, text\n",
    "        title = soup.title.string\n",
    "        text = ' '.join([i.text for i in soup.findAll('p')]) \n",
    "        content.append((title, text, url))\n",
    "    except:\n",
    "        print(url + '\\n could not be loaded')"
   ]
  },
  {
   "cell_type": "code",
   "execution_count": 3,
   "metadata": {},
   "outputs": [
    {
     "name": "stdout",
     "output_type": "stream",
     "text": [
      "https://www.goodnewsnetwork.org/wp-content/uploads/2020/09/Iberian-Lynx-grass-CC-Program-Ex-situ-Conservation-324x235.jpeg\n",
      " could not be loaded\n",
      "https://www.goodnewsnetwork.org/wp-content/uploads/2020/09/David-Klein-released-PR-Newswire-324x235.jpeg\n",
      " could not be loaded\n",
      "https://www.goodnewsnetwork.org/wp-content/uploads/2020/01/Screenshot-55-324x235.png\n",
      " could not be loaded\n",
      "1936\r"
     ]
    }
   ],
   "source": [
    "# Loop over pages\n",
    "count = [0, 0]\n",
    "content = []\n",
    "pages = 100\n",
    "for page in range(1, pages):\n",
    "    url = 'https://www.goodnewsnetwork.org/category/news/page/{}/'.format(page)\n",
    "    # Get links from page\n",
    "    response = requests.get(url)\n",
    "    soup = BeautifulSoup(response.text, \"html.parser\")\n",
    "    related = soup.findAll(True, {'class': 'td-module-thumb'})\n",
    "    related = [str(i) for i in related if 'height=\"235\"' in str(i)]\n",
    "    urls = set(extractor.find_urls(' '.join(related)))\n",
    "    urls = [i for i in urls if '.jpg' not in i]\n",
    "    # Get content from links\n",
    "    for u in urls:\n",
    "        get_content(u)\n",
    "    "
   ]
  },
  {
   "cell_type": "code",
   "execution_count": 4,
   "metadata": {},
   "outputs": [],
   "source": [
    "# Turn content to Dataframe\n",
    "import pandas as pd\n",
    "\n",
    "titles = []\n",
    "contents = []\n",
    "urls = []\n",
    "for title, text, url in content:\n",
    "    titles.append(title)\n",
    "    contents.append(text)\n",
    "    urls.append(url)\n",
    "    \n",
    "df = pd.DataFrame({'title': titles, 'text': contents, 'url': urls})"
   ]
  },
  {
   "cell_type": "code",
   "execution_count": 5,
   "metadata": {},
   "outputs": [],
   "source": [
    "# Save dataframes\n",
    "df.to_csv('good_news_network.csv', index=False)"
   ]
  },
  {
   "cell_type": "code",
   "execution_count": 6,
   "metadata": {},
   "outputs": [
    {
     "data": {
      "text/html": [
       "<div>\n",
       "<style scoped>\n",
       "    .dataframe tbody tr th:only-of-type {\n",
       "        vertical-align: middle;\n",
       "    }\n",
       "\n",
       "    .dataframe tbody tr th {\n",
       "        vertical-align: top;\n",
       "    }\n",
       "\n",
       "    .dataframe thead th {\n",
       "        text-align: right;\n",
       "    }\n",
       "</style>\n",
       "<table border=\"1\" class=\"dataframe\">\n",
       "  <thead>\n",
       "    <tr style=\"text-align: right;\">\n",
       "      <th></th>\n",
       "      <th>title</th>\n",
       "      <th>text</th>\n",
       "      <th>url</th>\n",
       "    </tr>\n",
       "  </thead>\n",
       "  <tbody>\n",
       "    <tr>\n",
       "      <th>0</th>\n",
       "      <td>Preemie Born the Size of a Superman Doll Now P...</td>\n",
       "      <td>A premature baby the size of a Superman action...</td>\n",
       "      <td>https://www.goodnewsnetwork.org/preemie-takes-...</td>\n",
       "    </tr>\n",
       "    <tr>\n",
       "      <th>1</th>\n",
       "      <td>Scientists Finally Research the Question of Wh...</td>\n",
       "      <td>It may not be the question for the ages, but i...</td>\n",
       "      <td>https://www.goodnewsnetwork.org/study-do-coupl...</td>\n",
       "    </tr>\n",
       "    <tr>\n",
       "      <th>2</th>\n",
       "      <td>For the First Time in its 51-Year History, Cra...</td>\n",
       "      <td>What’s more fun than a barrel of monkeys? A pi...</td>\n",
       "      <td>https://www.goodnewsnetwork.org/cracker-barrel...</td>\n",
       "    </tr>\n",
       "    <tr>\n",
       "      <th>3</th>\n",
       "      <td>Top Technologies That Older Americans Have Tri...</td>\n",
       "      <td>As the COVID-19 outbreaks continue to transfor...</td>\n",
       "      <td>https://www.goodnewsnetwork.org/onepoll-on-tec...</td>\n",
       "    </tr>\n",
       "    <tr>\n",
       "      <th>4</th>\n",
       "      <td>World’s Biggest Wildlife Crossing Will Protect...</td>\n",
       "      <td>Running through the second-largest city in the...</td>\n",
       "      <td>https://www.goodnewsnetwork.org/101-wildlife-m...</td>\n",
       "    </tr>\n",
       "    <tr>\n",
       "      <th>...</th>\n",
       "      <td>...</td>\n",
       "      <td>...</td>\n",
       "      <td>...</td>\n",
       "    </tr>\n",
       "    <tr>\n",
       "      <th>1929</th>\n",
       "      <td>Company Uses NASA Tech to Make Healthy Food ‘O...</td>\n",
       "      <td>A Finnish company is saying that they have man...</td>\n",
       "      <td>https://www.goodnewsnetwork.org/company-makes-...</td>\n",
       "    </tr>\n",
       "    <tr>\n",
       "      <th>1930</th>\n",
       "      <td>Increasing Tree Cover on City Streets May Be L...</td>\n",
       "      <td>This exciting new Australian study has found t...</td>\n",
       "      <td>https://www.goodnewsnetwork.org/increasing-cit...</td>\n",
       "    </tr>\n",
       "    <tr>\n",
       "      <th>1931</th>\n",
       "      <td>Supertramp Singer ‘Gives a Little Bit’ Invitin...</td>\n",
       "      <td>On World Autism Awareness Day, the legendary v...</td>\n",
       "      <td>https://www.goodnewsnetwork.org/supertramp-sin...</td>\n",
       "    </tr>\n",
       "    <tr>\n",
       "      <th>1932</th>\n",
       "      <td>Researchers Discover Proteins That Could Soon ...</td>\n",
       "      <td>Researchers at Johns Hopkins Medicine may have...</td>\n",
       "      <td>https://www.goodnewsnetwork.org/proteins-could...</td>\n",
       "    </tr>\n",
       "    <tr>\n",
       "      <th>1933</th>\n",
       "      <td>We May Soon Be Able to Use Ultra-Thin Slice of...</td>\n",
       "      <td>As a means of providing clean drinking water t...</td>\n",
       "      <td>https://www.goodnewsnetwork.org/thin-slice-of-...</td>\n",
       "    </tr>\n",
       "  </tbody>\n",
       "</table>\n",
       "<p>1934 rows × 3 columns</p>\n",
       "</div>"
      ],
      "text/plain": [
       "                                                  title  \\\n",
       "0     Preemie Born the Size of a Superman Doll Now P...   \n",
       "1     Scientists Finally Research the Question of Wh...   \n",
       "2     For the First Time in its 51-Year History, Cra...   \n",
       "3     Top Technologies That Older Americans Have Tri...   \n",
       "4     World’s Biggest Wildlife Crossing Will Protect...   \n",
       "...                                                 ...   \n",
       "1929  Company Uses NASA Tech to Make Healthy Food ‘O...   \n",
       "1930  Increasing Tree Cover on City Streets May Be L...   \n",
       "1931  Supertramp Singer ‘Gives a Little Bit’ Invitin...   \n",
       "1932  Researchers Discover Proteins That Could Soon ...   \n",
       "1933  We May Soon Be Able to Use Ultra-Thin Slice of...   \n",
       "\n",
       "                                                   text  \\\n",
       "0     A premature baby the size of a Superman action...   \n",
       "1     It may not be the question for the ages, but i...   \n",
       "2     What’s more fun than a barrel of monkeys? A pi...   \n",
       "3     As the COVID-19 outbreaks continue to transfor...   \n",
       "4     Running through the second-largest city in the...   \n",
       "...                                                 ...   \n",
       "1929  A Finnish company is saying that they have man...   \n",
       "1930  This exciting new Australian study has found t...   \n",
       "1931  On World Autism Awareness Day, the legendary v...   \n",
       "1932  Researchers at Johns Hopkins Medicine may have...   \n",
       "1933  As a means of providing clean drinking water t...   \n",
       "\n",
       "                                                    url  \n",
       "0     https://www.goodnewsnetwork.org/preemie-takes-...  \n",
       "1     https://www.goodnewsnetwork.org/study-do-coupl...  \n",
       "2     https://www.goodnewsnetwork.org/cracker-barrel...  \n",
       "3     https://www.goodnewsnetwork.org/onepoll-on-tec...  \n",
       "4     https://www.goodnewsnetwork.org/101-wildlife-m...  \n",
       "...                                                 ...  \n",
       "1929  https://www.goodnewsnetwork.org/company-makes-...  \n",
       "1930  https://www.goodnewsnetwork.org/increasing-cit...  \n",
       "1931  https://www.goodnewsnetwork.org/supertramp-sin...  \n",
       "1932  https://www.goodnewsnetwork.org/proteins-could...  \n",
       "1933  https://www.goodnewsnetwork.org/thin-slice-of-...  \n",
       "\n",
       "[1934 rows x 3 columns]"
      ]
     },
     "execution_count": 6,
     "metadata": {},
     "output_type": "execute_result"
    }
   ],
   "source": [
    "df"
   ]
  },
  {
   "cell_type": "code",
   "execution_count": null,
   "metadata": {},
   "outputs": [],
   "source": []
  }
 ],
 "metadata": {
  "kernelspec": {
   "display_name": "Python 3",
   "language": "python",
   "name": "python3"
  },
  "language_info": {
   "codemirror_mode": {
    "name": "ipython",
    "version": 3
   },
   "file_extension": ".py",
   "mimetype": "text/x-python",
   "name": "python",
   "nbconvert_exporter": "python",
   "pygments_lexer": "ipython3",
   "version": "3.6.10"
  }
 },
 "nbformat": 4,
 "nbformat_minor": 4
}

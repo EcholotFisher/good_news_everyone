{
 "cells": [
  {
   "cell_type": "code",
   "execution_count": 4,
   "metadata": {},
   "outputs": [],
   "source": [
    "import pandas as pd\n",
    "\n",
    "df = pd.read_csv('good_news_network.csv')\n",
    "\n",
    "# Remove String-Wrapper from lists\n",
    "df.text = df.text.map(lambda x: eval(x))\n",
    "\n",
    "# This Website has an annoying way of implementing other articles and buzzwords\n",
    "words = ['RELATED', 'ADORABLE', 'POPULAR', 'RELATED', 'WATCH', 'SHARE', 'MORE', 'CHECK OUT', 'GIVE', 'LOOK', 'DELIVER', 'Want A Morning Jolt of Good News',\n",
    "        'of Good News', 'You must be logged', 'Want A Morning Jolt', 'HELP', 'Share This Story on Social Media', 'By Sharing This', 'On Social Media']\n",
    "\n",
    "# Loop over the datafram multiple time so everything gets popped\n",
    "for loop in range(0,3):\n",
    "    for i in df.text.values:\n",
    "        for idx, sent in enumerate(i):\n",
    "            if any(word in sent for word in words):\n",
    "                i.pop(idx)\n",
    "\n",
    "# Join all Strings\n",
    "df.text = df.text.str.join(' ')\n",
    "\n",
    "# Export\n",
    "df['source'] = 'good_news_network'\n",
    "df['label'] = 1\n",
    "df.to_csv('good_news_network_clean.csv', index=False)"
   ]
  },
  {
   "cell_type": "code",
   "execution_count": null,
   "metadata": {},
   "outputs": [],
   "source": []
  }
 ],
 "metadata": {
  "kernelspec": {
   "display_name": "Python [conda env:nf] *",
   "language": "python",
   "name": "conda-env-nf-py"
  },
  "language_info": {
   "codemirror_mode": {
    "name": "ipython",
    "version": 3
   },
   "file_extension": ".py",
   "mimetype": "text/x-python",
   "name": "python",
   "nbconvert_exporter": "python",
   "pygments_lexer": "ipython3",
   "version": "3.6.12"
  }
 },
 "nbformat": 4,
 "nbformat_minor": 4
}

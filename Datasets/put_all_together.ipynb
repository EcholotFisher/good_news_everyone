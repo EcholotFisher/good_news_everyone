{
 "cells": [
  {
   "cell_type": "code",
   "execution_count": 9,
   "metadata": {},
   "outputs": [],
   "source": [
    "import pandas as pd\n",
    "import numpy as np\n",
    "import seaborn as sns"
   ]
  },
  {
   "cell_type": "code",
   "execution_count": 2,
   "metadata": {},
   "outputs": [],
   "source": [
    "df_1 = pd.read_csv('positive_news/positive_news_clean.csv')\n",
    "df_2 = pd.read_csv('good_news_network/good_news_network_clean.csv')\n",
    "df_3 = pd.read_csv('the_journal/the_journal_clean.csv')\n",
    "df_4 = pd.read_csv('category_set_with_sentiment/dataset_with_sentiment_clean.csv')\n",
    "df_5 = pd.read_csv('dataset_reddit/reddit_combined_cleaned.csv')"
   ]
  },
  {
   "cell_type": "code",
   "execution_count": 14,
   "metadata": {},
   "outputs": [
    {
     "data": {
      "text/plain": [
       "title     Minimum wage workers cannot afford rent in any U.S. state                                                                                                                                                                                                                                                                                                                                                                                                                                                                                                                                                                                                                                                                                                                                                                                                                                                                                                                                                                                                                                                                                                                                                                                                                                                                                                                                                                                       \n",
       "url       https://www.cnbc.com/2020/07/14/minimum-wage-workers-cannot-afford-rent-in-any-us-state.html                                                                                                                                                                                                                                                                                                                                                                                                                                                                                                                                                                                                                                                                                                                                                                                                                                                                                                                                                                                                                                                                                                                                                                                                                                                                                                                                                    \n",
       "text      Full-time minimum wage workers cannot afford a two-bedroom rental anywhere in the U.S. and cannot afford a one-bedroom rental in 95% of U.S. counties, according to the National Low Income Housing Coalition's annual \"Out of Reach\" report. In fact, the average minimum wage worker in the U.S. would need to work almost 97 hours per week to afford a fair market rate two-bedroom and 79 hours per week to afford a one-bedroom, NLIHC calculates. That's well over two full-time jobs just to be able to afford a two-bedroom rental.\\n\\nNational Low Income Housing Coalition\\n\\nThe report, released Tuesday, defines \"affordable\" as spending no more than 30% of monthly income on rent, in line with what most budgeting experts recommend. Nationally, NLIHC puts the \"housing wage\" for 2020 — or what a full-time worker must make in order to afford a fair market rental without spending more than 30% of his or her income — at $23.96 per hour for a two-bedroom rental and $19.56 per hour for a one-bedroom. That means even the average hourly worker who earns $18.22 per hour cannot afford rent, the report says. Many workers deemed essential during the coronavirus pandemic earn even less. \"Grocery store cashiers earn a median wage of $11.61 per hour, while building cleaning workers and home health and personal care aides earn $12.94,\" per NLIHC.\\n\\nThere was a housing crisis even before the pandemic\n",
       "source    CollapseNews                                                                                                                                                                                                                                                                                                                                                                                                                                                                                                                                                                                                                                                                                                                                                                                                                                                                                                                                                                                                                                                                                                                                                                                                                                                                                                                                                                                                                                    \n",
       "label     0                                                                                                                                                                                                                                                                                                                                                                                                                                                                                                                                                                                                                                                                                                                                                                                                                                                                                                                                                                                                                                                                                                                                                                                                                                                                                                                                                                                                                                               \n",
       "Name: 5, dtype: object"
      ]
     },
     "execution_count": 14,
     "metadata": {},
     "output_type": "execute_result"
    }
   ],
   "source": [
    "pd.set_option('display.max_colwidth', -1)\n",
    "df_5.iloc[5]"
   ]
  },
  {
   "cell_type": "code",
   "execution_count": 30,
   "metadata": {},
   "outputs": [],
   "source": [
    "df = pd.concat([df_1, df_2, df_3, df_4, df_5], sort=True).reset_index(drop=True)"
   ]
  },
  {
   "cell_type": "code",
   "execution_count": null,
   "metadata": {},
   "outputs": [],
   "source": [
    "df.to_csv('')"
   ]
  }
 ],
 "metadata": {
  "kernelspec": {
   "display_name": "Python [conda env:nf] *",
   "language": "python",
   "name": "conda-env-nf-py"
  },
  "language_info": {
   "codemirror_mode": {
    "name": "ipython",
    "version": 3
   },
   "file_extension": ".py",
   "mimetype": "text/x-python",
   "name": "python",
   "nbconvert_exporter": "python",
   "pygments_lexer": "ipython3",
   "version": "3.6.12"
  }
 },
 "nbformat": 4,
 "nbformat_minor": 4
}

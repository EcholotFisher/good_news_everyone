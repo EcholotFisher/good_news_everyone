{
 "cells": [
  {
   "cell_type": "markdown",
   "metadata": {},
   "source": [
    "# Dataset from the journal\n",
    "Load dataset from the journal (www.thejournal.ie/good-news/news)."
   ]
  },
  {
   "cell_type": "code",
   "execution_count": 1,
   "metadata": {},
   "outputs": [],
   "source": [
    "import requests\n",
    "\n",
    "from bs4 import BeautifulSoup, SoupStrainer\n",
    "from urlextract import URLExtract as urlextract\n",
    "extractor = urlextract()\n",
    "from newspaper import Article"
   ]
  },
  {
   "cell_type": "code",
   "execution_count": 2,
   "metadata": {},
   "outputs": [],
   "source": [
    "# Get content from url\n",
    "def get_content(url):\n",
    "    print(count[0], end='\\r')\n",
    "    count[0] += 1\n",
    "    try:\n",
    "        #conn = urllib.request.urlopen(link)\n",
    "        n_article = Article(url=url, fetch_images=False, request_timeout=10, number_threads=15)\n",
    "        n_article.download()\n",
    "        n_article.parse()\n",
    "        text = n_article.text\n",
    "        title = n_article.title\n",
    "        content.append((title, text, url))\n",
    "    except: \n",
    "        print(url + '\\nCould not be loaded!')"
   ]
  },
  {
   "cell_type": "code",
   "execution_count": 3,
   "metadata": {},
   "outputs": [
    {
     "name": "stdout",
     "output_type": "stream",
     "text": [
      "306\r"
     ]
    }
   ],
   "source": [
    "# Loop over pages\n",
    "count = [0, 0]\n",
    "content = []\n",
    "pages = 9\n",
    "for page in range(1, pages):\n",
    "    \n",
    "    url = 'https://www.thejournal.ie/good-news/news/page/{}/'.format(page)\n",
    "    # Get links from page\n",
    "    response = requests.get(url)\n",
    "    soup = BeautifulSoup(response.text, \"html.parser\")\n",
    "    related = soup.findAll(True, {'class': 'post'})\n",
    "    related = [str(i) for i in related if 'height=\"150px\"' in str(i)]\n",
    "    related = [i.split('<h4>')[1].split('</h4>')[0] for i in related]\n",
    "    urls = set(extractor.find_urls(' '.join(related)))\n",
    "    \n",
    "    # Get content from links\n",
    "    for u in urls:\n",
    "        get_content(u)\n",
    "    "
   ]
  },
  {
   "cell_type": "code",
   "execution_count": 4,
   "metadata": {},
   "outputs": [],
   "source": [
    "# Turn content into dataframe\n",
    "import pandas as pd\n",
    "\n",
    "titles = []\n",
    "contents = []\n",
    "urls = []\n",
    "for title, text, url in content:\n",
    "    titles.append(title)\n",
    "    contents.append(text)\n",
    "    urls.append(url)\n",
    "    \n",
    "df = pd.DataFrame({'title': titles, 'text': contents, 'url': urls})"
   ]
  },
  {
   "cell_type": "code",
   "execution_count": 5,
   "metadata": {},
   "outputs": [],
   "source": [
    "# Save dataframes\n",
    "df.to_csv('the_journal.csv', index=False)"
   ]
  },
  {
   "cell_type": "code",
   "execution_count": 6,
   "metadata": {},
   "outputs": [
    {
     "name": "stderr",
     "output_type": "stream",
     "text": [
      "/Users/fabi/opt/anaconda3/envs/nf/lib/python3.6/site-packages/ipykernel_launcher.py:1: FutureWarning: Passing a negative integer is deprecated in version 1.0 and will not be supported in future version. Instead, use None to not limit the column width.\n",
      "  \"\"\"Entry point for launching an IPython kernel.\n"
     ]
    },
    {
     "data": {
      "text/html": [
       "<div>\n",
       "<style scoped>\n",
       "    .dataframe tbody tr th:only-of-type {\n",
       "        vertical-align: middle;\n",
       "    }\n",
       "\n",
       "    .dataframe tbody tr th {\n",
       "        vertical-align: top;\n",
       "    }\n",
       "\n",
       "    .dataframe thead th {\n",
       "        text-align: right;\n",
       "    }\n",
       "</style>\n",
       "<table border=\"1\" class=\"dataframe\">\n",
       "  <thead>\n",
       "    <tr style=\"text-align: right;\">\n",
       "      <th></th>\n",
       "      <th>title</th>\n",
       "      <th>text</th>\n",
       "      <th>url</th>\n",
       "    </tr>\n",
       "  </thead>\n",
       "  <tbody>\n",
       "    <tr>\n",
       "      <th>0</th>\n",
       "      <td>Ajax youngster out of coma over a year after suffering heart attack</td>\n",
       "      <td>THE BROTHER OF former Ajax youngster Abdelhak Nouri has offered a positive update on the condition of the 21-year-old following his on-field collapse back in July 2017.\\n\\nThe midfielder, who was a product of the famed academy system in Amsterdam, suffered a heart attack during a friendly clash with Werder Bremen.\\n\\nHe has been left with severe and permanent brain damage, with doctors having to put him into an induced coma as they sought to stabilise his condition.\\n\\nNouri is now awake again, with his family encouraged by the progress he is making through a “very difficult” time.\\n\\nAbderrahim Nouri told NOS: “His neurological situation is better than a few months ago.\\n\\n“Physically it’s very difficult, though. His physical condition is in decline because he doesn’t move. He’s lying in bed most of the time and he can’t move his body on his own. Only his head.\\n\\n“Sometimes we get him out of bed to let him sit in his wheelchair. Earlier, that was really hard. At the beginning that was going really well, but later it became more difficult, with lots of ups and downs.\\n\\nHis immune system is weakened and it fluctuates a lot. I don’t want to go into details, but he has had a hard time. That’s normal for someone who has had brain damage. Those were very tough times.”\\n\\nAbderrahim also reported that his brother is displaying greater awareness of those around him, allowing basic communication to be carried out.\\n\\nBe part\\n\\nof the team Access exclusive podcasts, interviews and analysis with a monthly or annual membership. Become a Member\\n\\nA banner of Nouri displayed at the Amsterdam Arena last season. Source: Mike Egerton\\n\\nHe added: “At the beginning we couldn’t communicative with him, when he was in coma, with his eyes closed.\\n\\n“But later he became more awake. So now there’s a way to communicate with him. If you ask him anything and you say ‘open your mouth’ or ‘move your eyebrow’, then he can do that.”\\n\\nThe42 is on Instagram! Tap the button below on your phone to follow us!</td>\n",
       "      <td>https://www.the42.ie/abdelhak-nouri-ajax-coma-positive-update-4192948-Aug2018/</td>\n",
       "    </tr>\n",
       "    <tr>\n",
       "      <th>1</th>\n",
       "      <td>Watch: Worcester lock Fatialofa in 'miracle' recovery from spine injury</td>\n",
       "      <td>WORCESTER WARRIORS LOCK Michael Fatialofa is back walking unaided just weeks after he suffered a serious spine injury in what his wife described on Saturday as a “miracle”.\\n\\nThe 27-year-old New Zealander underwent spinal surgery in late January after being left paralysed from the neck down following his side’s Premiership rugby union match with Saracens early that month.\\n\\nThe operation took place after he was diagnosed with a spinal contusion, a serious condition which causes compression on the spine.\\n\\n“You’re witnessing a miracle that even medical professionals can’t explain,” wrote Fatialofa’s wife Tatiana with a video of him walking on Instagram.\\n\\n“They are so shook by his progress given his critical level of injury.\\n\\n“He was literally paralysed from the neck down just 10 weeks ago and currently spinal cord injuries do not have a clinical cure.”\\n\\nHowever, the coronavirus outbreak will place restrictions on her being able to visit him as the British government has recommended social distancing and ordered pubs, restaurants and other places where the public congregate to close.\\n\\n“We’ve been advised by the hospital that visiting probably will be reduced to only one hour soon and while I understand completely it’s still so hard on the heart,” she said.\\n\\nFatialofa — who was a pivotal member of the Hurricanes side that won the 2016 Super Rugby title — has been affected in another way by the coronavirus as Worcester’s home game against Harlequins on April 11 was due to act as a fundraiser, but it will not go ahead with the Premiership currently suspended until April 14.\\n\\nBe part\\n\\nof the team Access exclusive podcasts, interviews and analysis with a monthly or annual membership. Become a Member\\n\\n© – AFP, 2020\\n\\n\\n\\nThe42 is on Instagram! Tap the button below on your phone to follow us!</td>\n",
       "      <td>https://www.the42.ie/fatialofa-injury-5053690-Mar2020/</td>\n",
       "    </tr>\n",
       "    <tr>\n",
       "      <th>2</th>\n",
       "      <td>O'Mahony pleased by Kidney and Kiss to London Irish reports</td>\n",
       "      <td>MUNSTER AND IRELAND back row Peter O’Mahony has welcomed reports that Declan Kidney is set for a return to rugby as London Irish coach with Les Kiss by his side.\\n\\nThe Telegraph reports that the duo, who helped Ireland to the Grand Slam in 2009, will reunite at the Exiles from next season.\\n\\nHaving worked under both, O’Mahony is well versed to share his opinion on the move, one which he feels is a positive one.\\n\\n“Deccy gave me my first couple of caps and I know he’s been eager to get back into rugby,” the Munster skipper said.\\n\\n“He’s been in college in UCC, he’s been looking after the players down there. But I met him a few weeks ago and I know he’s been eager to get back in, and it’s good to see him and Les get back stuck in.\\n\\nPeter O'Mahony. Source: Billy Stickland/INPHO\\n\\n“I have a huge amount of respect for the pair of them and it’s good to see them getting back in. Not that Les has been out for long but I knew he was going to get picked up quick, he’s an incredible coach.”\\n\\nTwo-time Heineken Cup winning coach Kidney left the Ireland job in 2013 and has not worked in rugby since, while Kiss departed his role as Ulster head coach last month.\\n\\nThe42 is on Instagram! Tap the button below on your phone to follow us!</td>\n",
       "      <td>https://www.the42.ie/pom-les-kiss-declan-kidney-london-irish-reports-3894003-Mar2018/</td>\n",
       "    </tr>\n",
       "    <tr>\n",
       "      <th>3</th>\n",
       "      <td>Ex-Ireland and Liverpool defender Lawrenson gets the all-clear after cancer scare</td>\n",
       "      <td>MARK LAWRENSON HAS revealed good news after a scare with cancer.\\n\\n61-year-old Lawrenson. Source: Dave Howarth\\n\\nThe 61-year-old, who won five league titles, a European Cup and the FA Cup with Liverpool during the 1980s, underwent two operations and had a “cancerous blemish” removed from his face.\\n\\nAfter a nervy wait, however, the former Ireland defender posted on Twitter last night to confirm that it hasn’t spread.\\n\\nLawrenson in action for Ireland against Denmark's Michael Laudrup in 1985. Source: EMPICS Sport\\n\\nLawrenson tweeted: “After three months of outstanding care at both Ormskirk &amp; Whiston Hospitals, I got the news that after two operations and the removal of my facial cancerous blemish the cancer hasn’t spread anywhere. Phew!!\\n\\nWaiting for the verdict felt like a ‘Sword of Damocles’ moment. Thanks all.”\\n\\nIn his column with the BBC, he revealed that it was a Football Focus viewer that first alerted him to the potential danger.\\n\\n“Towards the end of last season, the editor of Football Focus received an email from a viewer saying they had seen me on TV and noticed I had a bit of dark skin on the left side of my face,” he wrote.\\n\\nBe part\\n\\nof the team Access exclusive podcasts, interviews and analysis with a monthly or annual membership. Become a Member\\n\\n“Their message was I needed to get rid of it, or at least get it checked out urgently.\\n\\n“I was already aware of the blemish and was planning to get an appointment about it but, like a typical 60-year-old bloke, I had been putting it off rather than sorting it out.\\n\\n“That email was the kick up the backside I needed. I went to get it looked at immediately, and it was cancerous so I had it whipped out straight away.\\n\\n“I would urge anyone with any similar doubts about a mark on their skin not to wait, and to do the same.\\n\\n“People can be very stubborn and ignorant, thinking ‘well it is not going to happen to me’, but of course it does.”\\n\\nAfter making his international debut against Poland at Dalymount Park in 1977, the English-born centre-half went on to win 39 caps for the Boys in Green — scoring five goals.\\n\\nThe42 is on Instagram! Tap the button below on your phone to follow us!</td>\n",
       "      <td>https://www.the42.ie/mark-lawrenson-cancer-scare-football-pundit-ireland-liverpool-4224339-Sep2018/</td>\n",
       "    </tr>\n",
       "    <tr>\n",
       "      <th>4</th>\n",
       "      <td>Scotland player who contracted coronavirus is released from hospital</td>\n",
       "      <td>THE SCOTLAND WOMEN player who recently contracted the Covid-19 coronavirus has been released from hospital.\\n\\nScottish Rugby confirmed the news today, stating that the player “is feeling back to normal.”\\n\\nSimilarly, the seven Scotland Women players and staff who self-isolated as a result of their team-mate’s positive test have been “cleared to resume daily life.”\\n\\nA poster with information on the coronavirus at Murrayfield. Source: Ian Rutherford\\n\\nOn 6 March, the planned Women’s Six Nations match between Scotland and France the following day was postponed after the Scottish player had tested positive for the coronavirus and been admitted to a health care facility.\\n\\nThe seven other members of the Scotland team’s management and playing squad had to self-isolate on medical advice.\\n\\nBe part\\n\\nof the team Access exclusive podcasts, interviews and analysis with a monthly or annual membership. Become a Member\\n\\nThe Scotland team had returned from north Italy on 23 February after their scheduled match against Italy was postponed.\\n\\nBut just over a week after confirming the positive test, Scottish Rugby has announced that the player has made a recovery.\\n\\n“Scottish Rugby is pleased to confirm the Scotland Women player who contracted coronavirus has now been released from hospital, no longer needs to self-isolate and is feeling back to normal,” reads a Scottish Rugby statement.\\n\\n“The seven Scotland Women players and staff self-isolating have also been cleared to resume daily life.”\\n\\nScotland Women’s final Six Nations fixture against Wales was also postponed, meaning they played just twice in this year’s championship.</td>\n",
       "      <td>https://www.the42.ie/scotland-player-coronavirus-5048007-Mar2020/</td>\n",
       "    </tr>\n",
       "  </tbody>\n",
       "</table>\n",
       "</div>"
      ],
      "text/plain": [
       "                                                                               title  \\\n",
       "0  Ajax youngster out of coma over a year after suffering heart attack                 \n",
       "1  Watch: Worcester lock Fatialofa in 'miracle' recovery from spine injury             \n",
       "2  O'Mahony pleased by Kidney and Kiss to London Irish reports                         \n",
       "3  Ex-Ireland and Liverpool defender Lawrenson gets the all-clear after cancer scare   \n",
       "4  Scotland player who contracted coronavirus is released from hospital                \n",
       "\n",
       "                                                                                                                                                                                                                                                                                                                                                                                                                                                                                                                                                                                                                                                                                                                                                                                                                                                                                                                                                                                                                                                                                                                                                                                                                                                                                                                                                                                                                                                                                                                                                                                                                                                                                                                                                                                                                                                                                                                                                                                                                                                                                                                                                                                                                                                                                    text  \\\n",
       "0  THE BROTHER OF former Ajax youngster Abdelhak Nouri has offered a positive update on the condition of the 21-year-old following his on-field collapse back in July 2017.\\n\\nThe midfielder, who was a product of the famed academy system in Amsterdam, suffered a heart attack during a friendly clash with Werder Bremen.\\n\\nHe has been left with severe and permanent brain damage, with doctors having to put him into an induced coma as they sought to stabilise his condition.\\n\\nNouri is now awake again, with his family encouraged by the progress he is making through a “very difficult” time.\\n\\nAbderrahim Nouri told NOS: “His neurological situation is better than a few months ago.\\n\\n“Physically it’s very difficult, though. His physical condition is in decline because he doesn’t move. He’s lying in bed most of the time and he can’t move his body on his own. Only his head.\\n\\n“Sometimes we get him out of bed to let him sit in his wheelchair. Earlier, that was really hard. At the beginning that was going really well, but later it became more difficult, with lots of ups and downs.\\n\\nHis immune system is weakened and it fluctuates a lot. I don’t want to go into details, but he has had a hard time. That’s normal for someone who has had brain damage. Those were very tough times.”\\n\\nAbderrahim also reported that his brother is displaying greater awareness of those around him, allowing basic communication to be carried out.\\n\\nBe part\\n\\nof the team Access exclusive podcasts, interviews and analysis with a monthly or annual membership. Become a Member\\n\\nA banner of Nouri displayed at the Amsterdam Arena last season. Source: Mike Egerton\\n\\nHe added: “At the beginning we couldn’t communicative with him, when he was in coma, with his eyes closed.\\n\\n“But later he became more awake. So now there’s a way to communicate with him. If you ask him anything and you say ‘open your mouth’ or ‘move your eyebrow’, then he can do that.”\\n\\nThe42 is on Instagram! Tap the button below on your phone to follow us!                                                                                                                                                                                        \n",
       "1  WORCESTER WARRIORS LOCK Michael Fatialofa is back walking unaided just weeks after he suffered a serious spine injury in what his wife described on Saturday as a “miracle”.\\n\\nThe 27-year-old New Zealander underwent spinal surgery in late January after being left paralysed from the neck down following his side’s Premiership rugby union match with Saracens early that month.\\n\\nThe operation took place after he was diagnosed with a spinal contusion, a serious condition which causes compression on the spine.\\n\\n“You’re witnessing a miracle that even medical professionals can’t explain,” wrote Fatialofa’s wife Tatiana with a video of him walking on Instagram.\\n\\n“They are so shook by his progress given his critical level of injury.\\n\\n“He was literally paralysed from the neck down just 10 weeks ago and currently spinal cord injuries do not have a clinical cure.”\\n\\nHowever, the coronavirus outbreak will place restrictions on her being able to visit him as the British government has recommended social distancing and ordered pubs, restaurants and other places where the public congregate to close.\\n\\n“We’ve been advised by the hospital that visiting probably will be reduced to only one hour soon and while I understand completely it’s still so hard on the heart,” she said.\\n\\nFatialofa — who was a pivotal member of the Hurricanes side that won the 2016 Super Rugby title — has been affected in another way by the coronavirus as Worcester’s home game against Harlequins on April 11 was due to act as a fundraiser, but it will not go ahead with the Premiership currently suspended until April 14.\\n\\nBe part\\n\\nof the team Access exclusive podcasts, interviews and analysis with a monthly or annual membership. Become a Member\\n\\n© – AFP, 2020\\n\\n\\n\\nThe42 is on Instagram! Tap the button below on your phone to follow us!                                                                                                                                                                                                                                                                                                                                                                              \n",
       "2  MUNSTER AND IRELAND back row Peter O’Mahony has welcomed reports that Declan Kidney is set for a return to rugby as London Irish coach with Les Kiss by his side.\\n\\nThe Telegraph reports that the duo, who helped Ireland to the Grand Slam in 2009, will reunite at the Exiles from next season.\\n\\nHaving worked under both, O’Mahony is well versed to share his opinion on the move, one which he feels is a positive one.\\n\\n“Deccy gave me my first couple of caps and I know he’s been eager to get back into rugby,” the Munster skipper said.\\n\\n“He’s been in college in UCC, he’s been looking after the players down there. But I met him a few weeks ago and I know he’s been eager to get back in, and it’s good to see him and Les get back stuck in.\\n\\nPeter O'Mahony. Source: Billy Stickland/INPHO\\n\\n“I have a huge amount of respect for the pair of them and it’s good to see them getting back in. Not that Les has been out for long but I knew he was going to get picked up quick, he’s an incredible coach.”\\n\\nTwo-time Heineken Cup winning coach Kidney left the Ireland job in 2013 and has not worked in rugby since, while Kiss departed his role as Ulster head coach last month.\\n\\nThe42 is on Instagram! Tap the button below on your phone to follow us!                                                                                                                                                                                                                                                                                                                                                                                                                                                                                                                                                                                                                                                                                                                                                                                                                                                                                                                                                                                        \n",
       "3  MARK LAWRENSON HAS revealed good news after a scare with cancer.\\n\\n61-year-old Lawrenson. Source: Dave Howarth\\n\\nThe 61-year-old, who won five league titles, a European Cup and the FA Cup with Liverpool during the 1980s, underwent two operations and had a “cancerous blemish” removed from his face.\\n\\nAfter a nervy wait, however, the former Ireland defender posted on Twitter last night to confirm that it hasn’t spread.\\n\\nLawrenson in action for Ireland against Denmark's Michael Laudrup in 1985. Source: EMPICS Sport\\n\\nLawrenson tweeted: “After three months of outstanding care at both Ormskirk & Whiston Hospitals, I got the news that after two operations and the removal of my facial cancerous blemish the cancer hasn’t spread anywhere. Phew!!\\n\\nWaiting for the verdict felt like a ‘Sword of Damocles’ moment. Thanks all.”\\n\\nIn his column with the BBC, he revealed that it was a Football Focus viewer that first alerted him to the potential danger.\\n\\n“Towards the end of last season, the editor of Football Focus received an email from a viewer saying they had seen me on TV and noticed I had a bit of dark skin on the left side of my face,” he wrote.\\n\\nBe part\\n\\nof the team Access exclusive podcasts, interviews and analysis with a monthly or annual membership. Become a Member\\n\\n“Their message was I needed to get rid of it, or at least get it checked out urgently.\\n\\n“I was already aware of the blemish and was planning to get an appointment about it but, like a typical 60-year-old bloke, I had been putting it off rather than sorting it out.\\n\\n“That email was the kick up the backside I needed. I went to get it looked at immediately, and it was cancerous so I had it whipped out straight away.\\n\\n“I would urge anyone with any similar doubts about a mark on their skin not to wait, and to do the same.\\n\\n“People can be very stubborn and ignorant, thinking ‘well it is not going to happen to me’, but of course it does.”\\n\\nAfter making his international debut against Poland at Dalymount Park in 1977, the English-born centre-half went on to win 39 caps for the Boys in Green — scoring five goals.\\n\\nThe42 is on Instagram! Tap the button below on your phone to follow us!   \n",
       "4  THE SCOTLAND WOMEN player who recently contracted the Covid-19 coronavirus has been released from hospital.\\n\\nScottish Rugby confirmed the news today, stating that the player “is feeling back to normal.”\\n\\nSimilarly, the seven Scotland Women players and staff who self-isolated as a result of their team-mate’s positive test have been “cleared to resume daily life.”\\n\\nA poster with information on the coronavirus at Murrayfield. Source: Ian Rutherford\\n\\nOn 6 March, the planned Women’s Six Nations match between Scotland and France the following day was postponed after the Scottish player had tested positive for the coronavirus and been admitted to a health care facility.\\n\\nThe seven other members of the Scotland team’s management and playing squad had to self-isolate on medical advice.\\n\\nBe part\\n\\nof the team Access exclusive podcasts, interviews and analysis with a monthly or annual membership. Become a Member\\n\\nThe Scotland team had returned from north Italy on 23 February after their scheduled match against Italy was postponed.\\n\\nBut just over a week after confirming the positive test, Scottish Rugby has announced that the player has made a recovery.\\n\\n“Scottish Rugby is pleased to confirm the Scotland Women player who contracted coronavirus has now been released from hospital, no longer needs to self-isolate and is feeling back to normal,” reads a Scottish Rugby statement.\\n\\n“The seven Scotland Women players and staff self-isolating have also been cleared to resume daily life.”\\n\\nScotland Women’s final Six Nations fixture against Wales was also postponed, meaning they played just twice in this year’s championship.                                                                                                                                                                                                                                                                                                                                                                                                                                                                                                                                                                   \n",
       "\n",
       "                                                                                                   url  \n",
       "0  https://www.the42.ie/abdelhak-nouri-ajax-coma-positive-update-4192948-Aug2018/                       \n",
       "1  https://www.the42.ie/fatialofa-injury-5053690-Mar2020/                                               \n",
       "2  https://www.the42.ie/pom-les-kiss-declan-kidney-london-irish-reports-3894003-Mar2018/                \n",
       "3  https://www.the42.ie/mark-lawrenson-cancer-scare-football-pundit-ireland-liverpool-4224339-Sep2018/  \n",
       "4  https://www.the42.ie/scotland-player-coronavirus-5048007-Mar2020/                                    "
      ]
     },
     "execution_count": 6,
     "metadata": {},
     "output_type": "execute_result"
    }
   ],
   "source": [
    "pd.set_option('display.max_colwidth', -1)\n",
    "df.head()"
   ]
  },
  {
   "cell_type": "code",
   "execution_count": null,
   "metadata": {},
   "outputs": [],
   "source": []
  }
 ],
 "metadata": {
  "kernelspec": {
   "display_name": "Python 3",
   "language": "python",
   "name": "python3"
  },
  "language_info": {
   "codemirror_mode": {
    "name": "ipython",
    "version": 3
   },
   "file_extension": ".py",
   "mimetype": "text/x-python",
   "name": "python",
   "nbconvert_exporter": "python",
   "pygments_lexer": "ipython3",
   "version": "3.6.10"
  }
 },
 "nbformat": 4,
 "nbformat_minor": 4
}

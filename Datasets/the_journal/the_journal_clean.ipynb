{
 "cells": [
  {
   "cell_type": "code",
   "execution_count": 62,
   "metadata": {},
   "outputs": [],
   "source": [
    "import pandas as pd\n",
    "df = pd.read_csv('the_journal.csv')\n",
    "\n",
    "# Delete some empty lines in the end\n",
    "df.text = [i.split('\\nThe42')[0] for i in df.text.values]\n",
    "df.text = [i.split('Become a Member')[0] for i in df.text.values]\n",
    "\n",
    "#Export\n",
    "df['source'] = 'the_journal'\n",
    "df['label'] = 1\n",
    "df.to_csv('the_journal_clean.csv', index=False)"
   ]
  },
  {
   "cell_type": "code",
   "execution_count": null,
   "metadata": {},
   "outputs": [],
   "source": []
  }
 ],
 "metadata": {
  "kernelspec": {
   "display_name": "Python [conda env:nf] *",
   "language": "python",
   "name": "conda-env-nf-py"
  },
  "language_info": {
   "codemirror_mode": {
    "name": "ipython",
    "version": 3
   },
   "file_extension": ".py",
   "mimetype": "text/x-python",
   "name": "python",
   "nbconvert_exporter": "python",
   "pygments_lexer": "ipython3",
   "version": "3.6.12"
  }
 },
 "nbformat": 4,
 "nbformat_minor": 4
}

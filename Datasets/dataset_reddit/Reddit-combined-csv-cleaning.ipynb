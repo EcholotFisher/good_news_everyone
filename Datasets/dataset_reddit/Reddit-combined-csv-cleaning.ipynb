{
 "cells": [
  {
   "cell_type": "markdown",
   "metadata": {},
   "source": [
    "# Intro"
   ]
  },
  {
   "cell_type": "markdown",
   "metadata": {},
   "source": [
    "In this notebook we will load our different csv files from our reddit article scraping and combine them into one DataFrame. Then we perform the Data Cleaning and save it as a csv file. "
   ]
  },
  {
   "cell_type": "markdown",
   "metadata": {},
   "source": [
    "Columns = title | text | url | source | label\n",
    "\n",
    "Labels = 0 for bad | 1 for good news"
   ]
  },
  {
   "cell_type": "markdown",
   "metadata": {},
   "source": [
    "# Imports"
   ]
  },
  {
   "cell_type": "code",
   "execution_count": 19,
   "metadata": {},
   "outputs": [],
   "source": [
    "import numpy as np \n",
    "import pandas as pd \n",
    "import seaborn as sns"
   ]
  },
  {
   "cell_type": "code",
   "execution_count": 98,
   "metadata": {},
   "outputs": [
    {
     "name": "stderr",
     "output_type": "stream",
     "text": [
      "<ipython-input-98-0891b765a168>:1: FutureWarning: Passing a negative integer is deprecated in version 1.0 and will not be supported in future version. Instead, use None to not limit the column width.\n",
      "  pd.set_option('display.max_colwidth', -1)\n"
     ]
    }
   ],
   "source": [
    "pd.set_option('display.max_colwidth', -1)"
   ]
  },
  {
   "cell_type": "code",
   "execution_count": 14,
   "metadata": {},
   "outputs": [],
   "source": [
    "# First, we load the csv files and combine them to one \n",
    "\n",
    "import os\n",
    "import glob\n",
    "import pandas as pd\n",
    "os.chdir(\"C:\\\\Users\\\\svenr\\\\nf-okt-20\\\\final project\\\\twitter-scraping\\\\reddit_news_data\\\\cleaned\")\n",
    "\n",
    "\n",
    "extension = 'csv'\n",
    "all_filenames = [i for i in glob.glob('*.{}'.format(extension))]\n",
    "\n",
    "#combine all files in the list\n",
    "combined_csv = pd.concat([pd.read_csv(f) for f in all_filenames ])\n",
    "#export to csv\n",
    "combined_csv.to_csv(\"reddit_combined.csv\", index=False, encoding='utf-8-sig')"
   ]
  },
  {
   "cell_type": "code",
   "execution_count": 15,
   "metadata": {},
   "outputs": [],
   "source": [
    "df = pd.read_csv(\"reddit_combined.csv\")"
   ]
  },
  {
   "cell_type": "code",
   "execution_count": 16,
   "metadata": {},
   "outputs": [
    {
     "data": {
      "text/plain": [
       "(3086, 5)"
      ]
     },
     "execution_count": 16,
     "metadata": {},
     "output_type": "execute_result"
    }
   ],
   "source": [
    "df.shape"
   ]
  },
  {
   "cell_type": "code",
   "execution_count": 17,
   "metadata": {},
   "outputs": [
    {
     "data": {
      "text/html": [
       "<div>\n",
       "<style scoped>\n",
       "    .dataframe tbody tr th:only-of-type {\n",
       "        vertical-align: middle;\n",
       "    }\n",
       "\n",
       "    .dataframe tbody tr th {\n",
       "        vertical-align: top;\n",
       "    }\n",
       "\n",
       "    .dataframe thead th {\n",
       "        text-align: right;\n",
       "    }\n",
       "</style>\n",
       "<table border=\"1\" class=\"dataframe\">\n",
       "  <thead>\n",
       "    <tr style=\"text-align: right;\">\n",
       "      <th></th>\n",
       "      <th>title</th>\n",
       "      <th>url</th>\n",
       "      <th>article_txt</th>\n",
       "      <th>source</th>\n",
       "      <th>label</th>\n",
       "    </tr>\n",
       "  </thead>\n",
       "  <tbody>\n",
       "    <tr>\n",
       "      <th>0</th>\n",
       "      <td>The World’s 2,000 Billionaires Have More Wealt...</td>\n",
       "      <td>https://finance.yahoo.com/news/world-2-000-bil...</td>\n",
       "      <td>Wealth inequality is nothing new, but it’s rea...</td>\n",
       "      <td>CollapseNews</td>\n",
       "      <td>0</td>\n",
       "    </tr>\n",
       "    <tr>\n",
       "      <th>1</th>\n",
       "      <td>1 in 4 Childless Adults Say Climate Change Has...</td>\n",
       "      <td>https://morningconsult.com/2020/09/28/adults-c...</td>\n",
       "      <td>11% of childless adults say climate change is ...</td>\n",
       "      <td>CollapseNews</td>\n",
       "      <td>0</td>\n",
       "    </tr>\n",
       "    <tr>\n",
       "      <th>2</th>\n",
       "      <td>America Is Too Broken to Fight the Coronavirus...</td>\n",
       "      <td>https://www.nytimes.com/2020/06/22/opinion/us-...</td>\n",
       "      <td>When coronavirus cases started exploding on th...</td>\n",
       "      <td>CollapseNews</td>\n",
       "      <td>0</td>\n",
       "    </tr>\n",
       "    <tr>\n",
       "      <th>3</th>\n",
       "      <td>The Brazilian president has fired the head of ...</td>\n",
       "      <td>https://www.climatechangenews.com/2019/08/05/b...</td>\n",
       "      <td>The Brazilian president forced a top science o...</td>\n",
       "      <td>CollapseNews</td>\n",
       "      <td>0</td>\n",
       "    </tr>\n",
       "    <tr>\n",
       "      <th>4</th>\n",
       "      <td>Coronavirus has led to the largest ever drop i...</td>\n",
       "      <td>https://www.carbonbrief.org/analysis-coronavir...</td>\n",
       "      <td>The global coronavirus pandemic continues to u...</td>\n",
       "      <td>CollapseNews</td>\n",
       "      <td>0</td>\n",
       "    </tr>\n",
       "  </tbody>\n",
       "</table>\n",
       "</div>"
      ],
      "text/plain": [
       "                                               title  \\\n",
       "0  The World’s 2,000 Billionaires Have More Wealt...   \n",
       "1  1 in 4 Childless Adults Say Climate Change Has...   \n",
       "2  America Is Too Broken to Fight the Coronavirus...   \n",
       "3  The Brazilian president has fired the head of ...   \n",
       "4  Coronavirus has led to the largest ever drop i...   \n",
       "\n",
       "                                                 url  \\\n",
       "0  https://finance.yahoo.com/news/world-2-000-bil...   \n",
       "1  https://morningconsult.com/2020/09/28/adults-c...   \n",
       "2  https://www.nytimes.com/2020/06/22/opinion/us-...   \n",
       "3  https://www.climatechangenews.com/2019/08/05/b...   \n",
       "4  https://www.carbonbrief.org/analysis-coronavir...   \n",
       "\n",
       "                                         article_txt        source  label  \n",
       "0  Wealth inequality is nothing new, but it’s rea...  CollapseNews      0  \n",
       "1  11% of childless adults say climate change is ...  CollapseNews      0  \n",
       "2  When coronavirus cases started exploding on th...  CollapseNews      0  \n",
       "3  The Brazilian president forced a top science o...  CollapseNews      0  \n",
       "4  The global coronavirus pandemic continues to u...  CollapseNews      0  "
      ]
     },
     "execution_count": 17,
     "metadata": {},
     "output_type": "execute_result"
    }
   ],
   "source": [
    "df.head()"
   ]
  },
  {
   "cell_type": "code",
   "execution_count": 20,
   "metadata": {},
   "outputs": [
    {
     "data": {
      "image/png": "[encoded data removed]",
      "text/plain": [
       "<Figure size 432x288 with 1 Axes>"
      ]
     },
     "metadata": {
      "needs_background": "light"
     },
     "output_type": "display_data"
    }
   ],
   "source": [
    "# 1 = bad \n",
    "# 0 = good \n",
    "sns.countplot(x=df.label);"
   ]
  },
  {
   "cell_type": "code",
   "execution_count": 22,
   "metadata": {},
   "outputs": [
    {
     "data": {
      "text/plain": [
       "1    1727\n",
       "0    1359\n",
       "Name: label, dtype: int64"
      ]
     },
     "execution_count": 22,
     "metadata": {},
     "output_type": "execute_result"
    }
   ],
   "source": [
    "df.label.value_counts()"
   ]
  },
  {
   "cell_type": "code",
   "execution_count": 27,
   "metadata": {},
   "outputs": [],
   "source": [
    "# Rename the column article_txt\n",
    "df.rename(columns={\"article_txt\": \"text\"}, inplace=True)"
   ]
  },
  {
   "cell_type": "markdown",
   "metadata": {},
   "source": [
    "# Data Cleaning"
   ]
  },
  {
   "cell_type": "code",
   "execution_count": 24,
   "metadata": {},
   "outputs": [],
   "source": [
    "# Function to find specific keywords in the text \n",
    "# We want to delete rows where the text is not the actual news article"
   ]
  },
  {
   "cell_type": "code",
   "execution_count": 53,
   "metadata": {},
   "outputs": [
    {
     "name": "stdout",
     "output_type": "stream",
     "text": [
      "115\n"
     ]
    }
   ],
   "source": [
    "# Example: We can try to find the texts where an \"accept cookies\" message appears\n",
    "l = []\n",
    "for row in df.text:\n",
    "    if \"cookies\" in row: \n",
    "        l.append(row)  \n",
    "print(len(l))"
   ]
  },
  {
   "cell_type": "code",
   "execution_count": 79,
   "metadata": {},
   "outputs": [
    {
     "data": {
      "text/plain": [
       "(2971, 5)"
      ]
     },
     "execution_count": 79,
     "metadata": {},
     "output_type": "execute_result"
    }
   ],
   "source": [
    "df = df[[True if 'cookies' not in i else False for i in df.text.values]]\n",
    "df.shape"
   ]
  },
  {
   "cell_type": "code",
   "execution_count": 91,
   "metadata": {},
   "outputs": [],
   "source": [
    "def find_keyword(keyword):\n",
    "    l = []\n",
    "    for row in df.text:\n",
    "        if keyword in row: \n",
    "            l.append(row)\n",
    "            \n",
    "    print(\"Count: \", len(l))"
   ]
  },
  {
   "cell_type": "code",
   "execution_count": 92,
   "metadata": {},
   "outputs": [
    {
     "name": "stdout",
     "output_type": "stream",
     "text": [
      "Count:  10\n"
     ]
    }
   ],
   "source": [
    "find_keyword(\"log in\")"
   ]
  },
  {
   "cell_type": "code",
   "execution_count": 93,
   "metadata": {},
   "outputs": [
    {
     "data": {
      "text/plain": [
       "(2961, 5)"
      ]
     },
     "execution_count": 93,
     "metadata": {},
     "output_type": "execute_result"
    }
   ],
   "source": [
    "df = df[[True if 'log in' not in i else False for i in df.text.values]]\n",
    "df.shape"
   ]
  },
  {
   "cell_type": "code",
   "execution_count": 94,
   "metadata": {},
   "outputs": [
    {
     "name": "stdout",
     "output_type": "stream",
     "text": [
      "Count:  5\n"
     ]
    }
   ],
   "source": [
    "find_keyword(\"sign in\")"
   ]
  },
  {
   "cell_type": "code",
   "execution_count": 95,
   "metadata": {},
   "outputs": [
    {
     "data": {
      "text/plain": [
       "(2956, 5)"
      ]
     },
     "execution_count": 95,
     "metadata": {},
     "output_type": "execute_result"
    }
   ],
   "source": [
    "df = df[[True if 'sign in' not in i else False for i in df.text.values]]\n",
    "df.shape"
   ]
  },
  {
   "cell_type": "code",
   "execution_count": 112,
   "metadata": {},
   "outputs": [
    {
     "name": "stdout",
     "output_type": "stream",
     "text": [
      "Count:  3\n"
     ]
    }
   ],
   "source": [
    "find_keyword(\"404\")"
   ]
  },
  {
   "cell_type": "code",
   "execution_count": 113,
   "metadata": {},
   "outputs": [
    {
     "data": {
      "text/plain": [
       "(2953, 5)"
      ]
     },
     "execution_count": 113,
     "metadata": {},
     "output_type": "execute_result"
    }
   ],
   "source": [
    "df = df[[True if '404' not in i else False for i in df.text.values]]\n",
    "df.shape"
   ]
  },
  {
   "cell_type": "code",
   "execution_count": 128,
   "metadata": {},
   "outputs": [
    {
     "name": "stdout",
     "output_type": "stream",
     "text": [
      "Count:  159\n",
      "(2953, 5)\n"
     ]
    }
   ],
   "source": [
    "# Check for small texts \n",
    "count = 0 \n",
    "l = []\n",
    "for row in df.text:\n",
    "    if 200 > len(row): \n",
    "        #print(row)\n",
    "        #print(\"---\"*30)\n",
    "        count += 1 \n",
    "        l.append(row)\n",
    "print(\"Count: \", count)\n",
    "print(df.shape)"
   ]
  },
  {
   "cell_type": "code",
   "execution_count": 124,
   "metadata": {},
   "outputs": [
    {
     "data": {
      "text/plain": [
       "[\"No officers charged directly in Breonna Taylor's death; 1 faces 3 counts over shooting into neighboring apartments No officers charged directly in Breonna Taylor's death; 1 faces 3 counts over shooting into neighboring apartments\",\n",
       " '\\'Zombie\\' firms are staying alive with coronavirus relief: IIF\\n\\nAs many as 15% of companies listed on major stock exchanges may be \"zombie\" firms that cannot survive without exceptional governmental assistance amid the coronavirus pandemic, says Sonja Gibbs of the Institute of International Finance.',\n",
       " 'However, they come even as thousands of migrants are walking on the highways after fleeing cities to try and go back to their villages. Many are walking with little food and water, and will be among the most exposed to the weather.',\n",
       " 'No ads, always HD experience with Gfycat Pro.',\n",
       " 'Become an FT subscriber to read:\\n\\nLeverage our market expertise\\n\\nExpert insights, analysis and smart data help you cut through the noise to spot trends, risks and opportunities.\\n\\nJoin over 300,000 Finance professionals who already subscribe to the FT.',\n",
       " 'Die von dir besuchte Seite versucht, dich an https://amp.insider.com/suicide-rate-up-young-adults-chart-2019-9 weiterzuleiten.Falls du diese Seite nicht besuchen möchtest, kannst du zur vorherigen Seite zurückkehren',\n",
       " '\"Ethiopia will not cave in to aggression of any kind,\" he said in a statement. \"Ethiopians have never kneeled to obey their enemies, but to respect their friends. We won\\'t do it today and in the future.\"',\n",
       " \"CNN's Chief Climate Correspondent Bill Weir rounds up the latest news and developments concerning the climate crisis this week.\\n\\nSource: CNN\",\n",
       " 'CDC predicts up to 11,000 people will die every week this month from coronavirus The coronavirus crisis in America is still out of control, and in many places, so are the crowds. The CDC predicts up to 11,000 people will die every week this month. Lilia Luciano reports.',\n",
       " '\"If the warm winters continue in the next few years, ice wines from German wine regions will soon become even more of a rarity than they already are,\" said Ernst Büscher from the DWI.',\n",
       " 'No ads, always HD experience with Gfycat Pro.',\n",
       " 'Documenting The Most Important Decade In The History Of Mankind',\n",
       " 'No ads, always HD experience with Gfycat Pro.',\n",
       " 'No ads, always HD experience with Gfycat Pro.',\n",
       " 'As Nepal records at least 9,000 cases of dengue amid an unprecedented outbreak of the disease, workers are fumigating areas of Kathmandu against the mosquitoes that carry the disease.',\n",
       " '\"What we have at the moment is this very warm stream of air, coming up from northern Africa, bringing with it unusually warm weather,\" he said. \"But without climate change we wouldn\\'t have hit the peaks that we\\'re hitting right now.\"',\n",
       " 'For 2019, we have data up to the end of August, and the overall area burnt for those eight months is 45,000 sq km. This has already surpassed all the area burnt in 2018, but appears unlikely to reach the peaks seen in the previous decade.',\n",
       " '\"I think it\\'s alarming to see that such a decline happens not only in intensively-managed areas but also in protected areas - so the sites that we think are safeguarding our biodiversity are not really working anymore.\"',\n",
       " 'It warns that livestock production for dairy and meat may need to be cut by 50% rather than the 20% currently envisaged by the Committee on Climate Change. And people will need to eat less meat and dairy by the same amount.',\n",
       " '\"I am excited to see this calving event after all these years. We knew it would happen eventually, but just to keep us all on our toes, it is not exactly where we expected it to be,\" she said.']"
      ]
     },
     "execution_count": 124,
     "metadata": {},
     "output_type": "execute_result"
    }
   ],
   "source": [
    "l[0:20]"
   ]
  },
  {
   "cell_type": "code",
   "execution_count": 131,
   "metadata": {},
   "outputs": [
    {
     "data": {
      "text/plain": [
       "(2792, 5)"
      ]
     },
     "execution_count": 131,
     "metadata": {},
     "output_type": "execute_result"
    }
   ],
   "source": [
    "# We can see that there around 200 texts which are pretty short, so we delete them\n",
    "df[df['text'].map(len) > 200].shape"
   ]
  },
  {
   "cell_type": "code",
   "execution_count": 134,
   "metadata": {},
   "outputs": [
    {
     "data": {
      "image/png": "[encoded data removed]",
      "text/plain": [
       "<Figure size 432x288 with 1 Axes>"
      ]
     },
     "metadata": {
      "needs_background": "light"
     },
     "output_type": "display_data"
    }
   ],
   "source": [
    "sns.countplot(x=df.label);"
   ]
  },
  {
   "cell_type": "code",
   "execution_count": 137,
   "metadata": {},
   "outputs": [
    {
     "data": {
      "image/png": "[encoded data removed]",
      "text/plain": [
       "<Figure size 432x288 with 1 Axes>"
      ]
     },
     "metadata": {
      "needs_background": "light"
     },
     "output_type": "display_data"
    }
   ],
   "source": [
    "sns.countplot(x=df.source);"
   ]
  },
  {
   "cell_type": "markdown",
   "metadata": {},
   "source": [
    "# Export"
   ]
  },
  {
   "cell_type": "code",
   "execution_count": 140,
   "metadata": {},
   "outputs": [],
   "source": [
    "# Safe the new/cleaned dataframe as csv \n",
    "df.to_csv(\"reddit_combined_cleaned.csv\", index=False)"
   ]
  }
 ],
 "metadata": {
  "kernelspec": {
   "display_name": "Python 3",
   "language": "python",
   "name": "python3"
  },
  "language_info": {
   "codemirror_mode": {
    "name": "ipython",
    "version": 3
   },
   "file_extension": ".py",
   "mimetype": "text/x-python",
   "name": "python",
   "nbconvert_exporter": "python",
   "pygments_lexer": "ipython3",
   "version": "3.8.3"
  }
 },
 "nbformat": 4,
 "nbformat_minor": 4
}

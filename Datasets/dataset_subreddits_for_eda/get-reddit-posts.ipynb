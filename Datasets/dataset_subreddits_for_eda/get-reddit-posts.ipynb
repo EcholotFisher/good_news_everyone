{
 "cells": [
  {
   "cell_type": "markdown",
   "metadata": {},
   "source": [
    "We try to get the top 1000 post from all times from different subreddits."
   ]
  },
  {
   "cell_type": "markdown",
   "metadata": {},
   "source": [
    "# Imports "
   ]
  },
  {
   "cell_type": "code",
   "execution_count": 1,
   "metadata": {},
   "outputs": [
    {
     "name": "stderr",
     "output_type": "stream",
     "text": [
      "<ipython-input-1-5bebcb24f309>:10: FutureWarning: Passing a negative integer is deprecated in version 1.0 and will not be supported in future version. Instead, use None to not limit the column width.\n",
      "  pd.set_option('display.max_colwidth', -1)\n"
     ]
    }
   ],
   "source": [
    "import praw\n",
    "\n",
    "import matplotlib.pyplot as plt\n",
    "import seaborn as sb\n",
    "import pandas as pd\n",
    "import csv \n",
    "from datetime import datetime\n",
    "%matplotlib inline\n",
    "\n",
    "pd.set_option('display.max_colwidth', -1)"
   ]
  },
  {
   "cell_type": "code",
   "execution_count": 2,
   "metadata": {},
   "outputs": [],
   "source": [
    "# Login credentials to get access \n",
    "r = praw.Reddit(client_id='xxx', client_secret='yyy', user_agent='Henlo')"
   ]
  },
  {
   "cell_type": "markdown",
   "metadata": {},
   "source": [
    "# Functions"
   ]
  },
  {
   "cell_type": "code",
   "execution_count": 3,
   "metadata": {},
   "outputs": [],
   "source": [
    "def get_date_time():\n",
    "    # datetime object containing current date and time\n",
    "    now = datetime.now()\n",
    "    # dd/mm/YY H:M:S\n",
    "    dt_string = now.strftime(\"%d_%m_%Y_%H_%M_%S\")\n",
    "    return dt_string"
   ]
  },
  {
   "cell_type": "code",
   "execution_count": 4,
   "metadata": {},
   "outputs": [],
   "source": [
    "def get_yyyy_mm_dd_from_utc(dt):\n",
    "    date = datetime.utcfromtimestamp(dt)\n",
    "    return str(date.year) + \"-\" + str(date.month) + \"-\" + str(date.day)"
   ]
  },
  {
   "cell_type": "code",
   "execution_count": 5,
   "metadata": {},
   "outputs": [],
   "source": [
    "def get_reddit_details(reddit_name): \n",
    "    \n",
    "    stats = r.subreddit(reddit_name).subscribers\n",
    "    desc = r.subreddit(reddit_name).public_description\n",
    "    \n",
    "    with open(\"subreddits.csv\", \"a\") as csv_file:\n",
    "        writer = csv.writer(csv_file, delimiter=',')\n",
    "        writer.writerow([reddit_name,stats, desc])\n",
    "    \n",
    "    #top_posts = r.subreddit(reddit_name).top(limit=1000, time_filter=\"all\")\n",
    "    top_posts = r.subreddit(reddit_name).top(limit=1000)\n",
    "    \n",
    "    r_dict = { \"title\":[], \"score\":[], \"upv_ratio\": [], \"id\":[], \"url\":[], \"comms_num\": [], \"created\": [],  \"body\":[]}#, \"z_comments\":[]}\n",
    " \n",
    "    \n",
    "    count = 1000\n",
    "    for submission in top_posts:\n",
    "        count -= 1\n",
    "        print(\"{}\".format(count), end=\"\\r\")\n",
    "        r_dict[\"title\"].append(submission.title)\n",
    "        r_dict[\"score\"].append(submission.score)\n",
    "        r_dict[\"upv_ratio\"].append(submission.upvote_ratio)\n",
    "        r_dict[\"id\"].append(submission.id)\n",
    "        r_dict[\"url\"].append(submission.url)\n",
    "        r_dict[\"comms_num\"].append(submission.num_comments)\n",
    "        r_dict[\"created\"].append(get_yyyy_mm_dd_from_utc(submission.created))\n",
    "        r_dict[\"body\"].append(submission.selftext)\n",
    "   \n",
    "  #     all_comments = submission.comments.list()\n",
    "  #     #print (all_comments)\n",
    "  #\n",
    "  #     # https://praw.readthedocs.io/en/latest/tutorials/comments.html\n",
    "  #     submission.comments.replace_more(limit=None)\n",
    "  #     comment_body = \"\"\n",
    "  #     \n",
    "  # for comment in submission.comments.list():\n",
    "  #     #print(comment.body)\n",
    "  #     comment_body =  comment_body + comment.body + \"\\n\"\n",
    "  #     r_dict[\"z_comments\"].append (comment_body)\n",
    "\n",
    "    df = pd.DataFrame(r_dict)\n",
    "  \n",
    "    df.to_csv(\"{}_top1000_{}.csv\".format(reddit_name, get_date_time()), index=False)"
   ]
  },
  {
   "cell_type": "markdown",
   "metadata": {},
   "source": [
    "# Fetch posts/submissions"
   ]
  },
  {
   "cell_type": "code",
   "execution_count": 7,
   "metadata": {},
   "outputs": [],
   "source": [
    "get_reddit_details('Technology')"
   ]
  },
  {
   "cell_type": "code",
   "execution_count": 8,
   "metadata": {},
   "outputs": [
    {
     "name": "stdout",
     "output_type": "stream",
     "text": [
      "500\r"
     ]
    }
   ],
   "source": [
    "get_reddit_details('WorldNews')"
   ]
  },
  {
   "cell_type": "code",
   "execution_count": 9,
   "metadata": {},
   "outputs": [
    {
     "name": "stdout",
     "output_type": "stream",
     "text": [
      "500\r"
     ]
    }
   ],
   "source": [
    "get_reddit_details('News')"
   ]
  },
  {
   "cell_type": "code",
   "execution_count": 10,
   "metadata": {},
   "outputs": [
    {
     "name": "stdout",
     "output_type": "stream",
     "text": [
      "400\r"
     ]
    }
   ],
   "source": [
    "get_reddit_details('Politics')"
   ]
  },
  {
   "cell_type": "code",
   "execution_count": 11,
   "metadata": {},
   "outputs": [
    {
     "name": "stdout",
     "output_type": "stream",
     "text": [
      "600\r"
     ]
    }
   ],
   "source": [
    "get_reddit_details('Entertainment')"
   ]
  },
  {
   "cell_type": "code",
   "execution_count": 12,
   "metadata": {},
   "outputs": [
    {
     "name": "stdout",
     "output_type": "stream",
     "text": [
      "000\r"
     ]
    }
   ],
   "source": [
    "get_reddit_details('GlobalNews')"
   ]
  },
  {
   "cell_type": "code",
   "execution_count": 13,
   "metadata": {},
   "outputs": [
    {
     "name": "stdout",
     "output_type": "stream",
     "text": [
      "100\r"
     ]
    }
   ],
   "source": [
    "get_reddit_details('NewsOfTheWeird')"
   ]
  },
  {
   "cell_type": "code",
   "execution_count": 14,
   "metadata": {},
   "outputs": [
    {
     "name": "stdout",
     "output_type": "stream",
     "text": [
      "000\r"
     ]
    }
   ],
   "source": [
    "get_reddit_details('InTheNews')"
   ]
  },
  {
   "cell_type": "code",
   "execution_count": 15,
   "metadata": {},
   "outputs": [
    {
     "name": "stdout",
     "output_type": "stream",
     "text": [
      "100\r"
     ]
    }
   ],
   "source": [
    "get_reddit_details('USNews')"
   ]
  },
  {
   "cell_type": "code",
   "execution_count": 16,
   "metadata": {},
   "outputs": [
    {
     "name": "stdout",
     "output_type": "stream",
     "text": [
      "000\r"
     ]
    }
   ],
   "source": [
    "get_reddit_details('Climate')"
   ]
  },
  {
   "cell_type": "code",
   "execution_count": 17,
   "metadata": {},
   "outputs": [
    {
     "name": "stdout",
     "output_type": "stream",
     "text": [
      "000\r"
     ]
    }
   ],
   "source": [
    "get_reddit_details('Economy')"
   ]
  },
  {
   "cell_type": "code",
   "execution_count": 18,
   "metadata": {},
   "outputs": [
    {
     "name": "stdout",
     "output_type": "stream",
     "text": [
      "310\r"
     ]
    }
   ],
   "source": [
    "get_reddit_details('TechNews')"
   ]
  },
  {
   "cell_type": "code",
   "execution_count": 19,
   "metadata": {},
   "outputs": [
    {
     "name": "stdout",
     "output_type": "stream",
     "text": [
      "400\r"
     ]
    }
   ],
   "source": [
    "get_reddit_details('OffBeat')"
   ]
  },
  {
   "cell_type": "code",
   "execution_count": 20,
   "metadata": {},
   "outputs": [
    {
     "name": "stdout",
     "output_type": "stream",
     "text": [
      "320\r"
     ]
    }
   ],
   "source": [
    "get_reddit_details('NotTheOnion')"
   ]
  },
  {
   "cell_type": "code",
   "execution_count": 21,
   "metadata": {},
   "outputs": [
    {
     "name": "stdout",
     "output_type": "stream",
     "text": [
      "400\r"
     ]
    }
   ],
   "source": [
    "get_reddit_details('WorldEvents')"
   ]
  },
  {
   "cell_type": "code",
   "execution_count": 22,
   "metadata": {},
   "outputs": [
    {
     "name": "stdout",
     "output_type": "stream",
     "text": [
      "500\r"
     ]
    }
   ],
   "source": [
    "get_reddit_details('GeoPolitics')"
   ]
  },
  {
   "cell_type": "code",
   "execution_count": 23,
   "metadata": {},
   "outputs": [
    {
     "name": "stdout",
     "output_type": "stream",
     "text": [
      "000\r"
     ]
    }
   ],
   "source": [
    "get_reddit_details('Energy')"
   ]
  },
  {
   "cell_type": "code",
   "execution_count": 24,
   "metadata": {},
   "outputs": [
    {
     "name": "stdout",
     "output_type": "stream",
     "text": [
      "000\r"
     ]
    }
   ],
   "source": [
    "get_reddit_details('NeutralNews')"
   ]
  },
  {
   "cell_type": "code",
   "execution_count": 25,
   "metadata": {},
   "outputs": [
    {
     "name": "stdout",
     "output_type": "stream",
     "text": [
      "000\r"
     ]
    }
   ],
   "source": [
    "get_reddit_details('NeutralPolitics')"
   ]
  },
  {
   "cell_type": "code",
   "execution_count": 26,
   "metadata": {},
   "outputs": [
    {
     "name": "stdout",
     "output_type": "stream",
     "text": [
      "000\r"
     ]
    }
   ],
   "source": [
    "get_reddit_details('QualityNews')"
   ]
  },
  {
   "cell_type": "code",
   "execution_count": 27,
   "metadata": {},
   "outputs": [
    {
     "name": "stdout",
     "output_type": "stream",
     "text": [
      "000\r"
     ]
    }
   ],
   "source": [
    "get_reddit_details('Terrorism')"
   ]
  },
  {
   "cell_type": "code",
   "execution_count": 28,
   "metadata": {},
   "outputs": [
    {
     "name": "stdout",
     "output_type": "stream",
     "text": [
      "100\r"
     ]
    }
   ],
   "source": [
    "get_reddit_details('War')"
   ]
  },
  {
   "cell_type": "code",
   "execution_count": 29,
   "metadata": {},
   "outputs": [
    {
     "name": "stdout",
     "output_type": "stream",
     "text": [
      "110\r"
     ]
    }
   ],
   "source": [
    "get_reddit_details('Business')"
   ]
  },
  {
   "cell_type": "code",
   "execution_count": 30,
   "metadata": {},
   "outputs": [
    {
     "name": "stdout",
     "output_type": "stream",
     "text": [
      "645\r"
     ]
    }
   ],
   "source": [
    "get_reddit_details('Enviroment')"
   ]
  }
 ],
 "metadata": {
  "kernelspec": {
   "display_name": "Python 3",
   "language": "python",
   "name": "python3"
  },
  "language_info": {
   "codemirror_mode": {
    "name": "ipython",
    "version": 3
   },
   "file_extension": ".py",
   "mimetype": "text/x-python",
   "name": "python",
   "nbconvert_exporter": "python",
   "pygments_lexer": "ipython3",
   "version": "3.8.3"
  }
 },
 "nbformat": 4,
 "nbformat_minor": 4
}

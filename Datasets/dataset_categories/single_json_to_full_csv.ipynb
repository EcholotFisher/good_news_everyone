{
 "cells": [
  {
   "cell_type": "markdown",
   "metadata": {},
   "source": [
    "# Datacleaning\n",
    "Check data, make it usable."
   ]
  },
  {
   "cell_type": "markdown",
   "metadata": {},
   "source": [
    "# Imports"
   ]
  },
  {
   "cell_type": "code",
   "execution_count": 1,
   "metadata": {},
   "outputs": [],
   "source": [
    "import pandas as pd\n",
    "import numpy as np"
   ]
  },
  {
   "cell_type": "markdown",
   "metadata": {},
   "source": [
    "## Aggregate observations in one dataset"
   ]
  },
  {
   "cell_type": "code",
   "execution_count": 2,
   "metadata": {},
   "outputs": [],
   "source": [
    "#from glob import glob\n",
    "from glob import glob\n",
    "check_dir = (lambda x: os.path.isdir(x))"
   ]
  },
  {
   "cell_type": "code",
   "execution_count": 3,
   "metadata": {},
   "outputs": [],
   "source": [
    "import os\n",
    "t = []\n",
    "for i in glob('*'):\n",
    "    if(check_dir(i)):\n",
    "        t.append(i)\n",
    "\n",
    "tuples = []\n",
    "for j in t:\n",
    "    for i in glob(j + '/*'):\n",
    "        if(check_dir(i)):\n",
    "            tuples.append(tuple(i.split('/')))\n",
    "            \n",
    "#tuples"
   ]
  },
  {
   "cell_type": "code",
   "execution_count": 4,
   "metadata": {},
   "outputs": [
    {
     "name": "stdout",
     "output_type": "stream",
     "text": [
      "('financial', '10')\n",
      "('financial', '07')\n",
      "('financial', '09')\n",
      "('financial', '08')\n",
      "('technology', '10')\n",
      "('technology', '09')\n",
      "('entertainment', '10')\n",
      "('world', '10')\n",
      "('world', '09')\n",
      "('sports', '10')\n",
      "('politics', '10')\n",
      "('travel', '10')\n",
      "('travel', '07')\n",
      "('travel', '09')\n",
      "('travel', '08')\n"
     ]
    }
   ],
   "source": [
    "for t in tuples:\n",
    "    print(t)\n",
    "    \n",
    "    category = t[0]\n",
    "    num = t[1]\n",
    "    path = category + '/' + num\n",
    "\n",
    "    l = []\n",
    "\n",
    "    for file in glob(path + '/*'):\n",
    "        df = pd.read_json(file, lines=True)\n",
    "        l.append(df)\n",
    "\n",
    "    # Add all data frames together\n",
    "    df = pd.concat(l, axis=0, ignore_index=True)\n",
    "    \n",
    "    # save into three chunks (else size is too big for github)\n",
    "    df.to_csv(category + '_' + num + '.csv', index=False)"
   ]
  },
  {
   "cell_type": "code",
   "execution_count": 5,
   "metadata": {},
   "outputs": [
    {
     "data": {
      "text/html": [
       "<div>\n",
       "<style scoped>\n",
       "    .dataframe tbody tr th:only-of-type {\n",
       "        vertical-align: middle;\n",
       "    }\n",
       "\n",
       "    .dataframe tbody tr th {\n",
       "        vertical-align: top;\n",
       "    }\n",
       "\n",
       "    .dataframe thead th {\n",
       "        text-align: right;\n",
       "    }\n",
       "</style>\n",
       "<table border=\"1\" class=\"dataframe\">\n",
       "  <thead>\n",
       "    <tr style=\"text-align: right;\">\n",
       "      <th></th>\n",
       "      <th>organizations</th>\n",
       "      <th>uuid</th>\n",
       "      <th>thread</th>\n",
       "      <th>author</th>\n",
       "      <th>url</th>\n",
       "      <th>ord_in_thread</th>\n",
       "      <th>title</th>\n",
       "      <th>locations</th>\n",
       "      <th>entities</th>\n",
       "      <th>highlightText</th>\n",
       "      <th>language</th>\n",
       "      <th>persons</th>\n",
       "      <th>text</th>\n",
       "      <th>external_links</th>\n",
       "      <th>published</th>\n",
       "      <th>crawled</th>\n",
       "      <th>highlightTitle</th>\n",
       "    </tr>\n",
       "  </thead>\n",
       "  <tbody>\n",
       "    <tr>\n",
       "      <th>0</th>\n",
       "      <td>[]</td>\n",
       "      <td>17626178ee49002c700e4b8708e5838053754d15</td>\n",
       "      <td>{'social': {'gplus': {'shares': 0}, 'pinterest...</td>\n",
       "      <td>mich@girlracer.me.uk (Michelle Chenery)</td>\n",
       "      <td>http://www.incentivetravel.co.uk/news/agency-n...</td>\n",
       "      <td>0</td>\n",
       "      <td>Ashfield Meetings &amp; Events get innovative at T...</td>\n",
       "      <td>[]</td>\n",
       "      <td>{'persons': [], 'locations': [], 'organization...</td>\n",
       "      <td></td>\n",
       "      <td>english</td>\n",
       "      <td>[]</td>\n",
       "      <td>Ashfield Meetings &amp; Events get innovative at T...</td>\n",
       "      <td>[]</td>\n",
       "      <td>2015-08-19T18:15:00.000+03:00</td>\n",
       "      <td>2015-08-19T18:23:31.486+03:00</td>\n",
       "      <td></td>\n",
       "    </tr>\n",
       "    <tr>\n",
       "      <th>1</th>\n",
       "      <td>[]</td>\n",
       "      <td>dd39c081ad17cb5289e2b7d18668bdf9c76b179a</td>\n",
       "      <td>{'social': {'gplus': {'shares': 0}, 'pinterest...</td>\n",
       "      <td></td>\n",
       "      <td>http://www.ttgdigital.com/news/heartbeat-star-...</td>\n",
       "      <td>0</td>\n",
       "      <td>Heartbeat star looks to new goals in travel</td>\n",
       "      <td>[]</td>\n",
       "      <td>{'persons': [], 'locations': [], 'organization...</td>\n",
       "      <td></td>\n",
       "      <td>english</td>\n",
       "      <td>[]</td>\n",
       "      <td>Save \\n﻿Finding clients is usually the biggest...</td>\n",
       "      <td>[]</td>\n",
       "      <td>2015-08-05T12:16:00.000+03:00</td>\n",
       "      <td>2015-08-05T11:53:24.864+03:00</td>\n",
       "      <td></td>\n",
       "    </tr>\n",
       "  </tbody>\n",
       "</table>\n",
       "</div>"
      ],
      "text/plain": [
       "  organizations                                      uuid  \\\n",
       "0            []  17626178ee49002c700e4b8708e5838053754d15   \n",
       "1            []  dd39c081ad17cb5289e2b7d18668bdf9c76b179a   \n",
       "\n",
       "                                              thread  \\\n",
       "0  {'social': {'gplus': {'shares': 0}, 'pinterest...   \n",
       "1  {'social': {'gplus': {'shares': 0}, 'pinterest...   \n",
       "\n",
       "                                    author  \\\n",
       "0  mich@girlracer.me.uk (Michelle Chenery)   \n",
       "1                                            \n",
       "\n",
       "                                                 url  ord_in_thread  \\\n",
       "0  http://www.incentivetravel.co.uk/news/agency-n...              0   \n",
       "1  http://www.ttgdigital.com/news/heartbeat-star-...              0   \n",
       "\n",
       "                                               title locations  \\\n",
       "0  Ashfield Meetings & Events get innovative at T...        []   \n",
       "1        Heartbeat star looks to new goals in travel        []   \n",
       "\n",
       "                                            entities highlightText language  \\\n",
       "0  {'persons': [], 'locations': [], 'organization...                english   \n",
       "1  {'persons': [], 'locations': [], 'organization...                english   \n",
       "\n",
       "  persons                                               text external_links  \\\n",
       "0      []  Ashfield Meetings & Events get innovative at T...             []   \n",
       "1      []  Save \\n﻿Finding clients is usually the biggest...             []   \n",
       "\n",
       "                       published                        crawled highlightTitle  \n",
       "0  2015-08-19T18:15:00.000+03:00  2015-08-19T18:23:31.486+03:00                 \n",
       "1  2015-08-05T12:16:00.000+03:00  2015-08-05T11:53:24.864+03:00                 "
      ]
     },
     "execution_count": 5,
     "metadata": {},
     "output_type": "execute_result"
    }
   ],
   "source": [
    "df.head(2)"
   ]
  },
  {
   "cell_type": "code",
   "execution_count": 6,
   "metadata": {},
   "outputs": [
    {
     "data": {
      "text/plain": [
       "(12370, 17)"
      ]
     },
     "execution_count": 6,
     "metadata": {},
     "output_type": "execute_result"
    }
   ],
   "source": [
    "df.shape"
   ]
  },
  {
   "cell_type": "markdown",
   "metadata": {},
   "source": [
    "### Save as csv sheet"
   ]
  },
  {
   "cell_type": "code",
   "execution_count": 7,
   "metadata": {},
   "outputs": [],
   "source": [
    "# save into three chunks (else size is too big for github)\n",
    "df.to_csv(category + '_' + num + '.csv', index=False)"
   ]
  },
  {
   "cell_type": "code",
   "execution_count": null,
   "metadata": {},
   "outputs": [],
   "source": []
  },
  {
   "cell_type": "code",
   "execution_count": 10,
   "metadata": {},
   "outputs": [
    {
     "name": "stdout",
     "output_type": "stream",
     "text": [
      "financial\n",
      "entertainment\n",
      "politics\n",
      "sports\n",
      "technology\n",
      "travel\n",
      "world\n"
     ]
    }
   ],
   "source": [
    "cats = ['financial', 'entertainment', 'politics', 'sports', 'technology', 'travel', 'world']\n",
    "for cat in cats:\n",
    "    print(cat)\n",
    "    l = []\n",
    "    for file in glob(cat + '*' + '.csv'):\n",
    "        df = pd.read_csv(file)\n",
    "        l.append(df)\n",
    "\n",
    "    # Add all data frames together\n",
    "    df = pd.concat(l, axis=0, ignore_index=True)\n",
    "\n",
    "    # save into three chunks (else size is too big for github)\n",
    "    df.to_csv(cat + '.csv', index=False)"
   ]
  },
  {
   "cell_type": "code",
   "execution_count": 11,
   "metadata": {},
   "outputs": [
    {
     "name": "stdout",
     "output_type": "stream",
     "text": [
      "data_cleaning.ipynb  \u001b[34mpolitics\u001b[m\u001b[m             travel.csv\n",
      "\u001b[34mentertainment\u001b[m\u001b[m        politics.csv         travel_07.csv\n",
      "entertainment.csv    politics_10.csv      travel_08.csv\n",
      "entertainment_10.csv \u001b[34msports\u001b[m\u001b[m               travel_09.csv\n",
      "\u001b[34mfinancial\u001b[m\u001b[m            sports.csv           travel_10.csv\n",
      "financial.csv        sports_10.csv        \u001b[34mworld\u001b[m\u001b[m\n",
      "financial_07.csv     \u001b[34mtechnology\u001b[m\u001b[m           world.csv\n",
      "financial_08.csv     technology.csv       world_09.csv\n",
      "financial_09.csv     technology_09.csv    world_10.csv\n",
      "financial_10.csv     technology_10.csv\n",
      "link                 \u001b[34mtravel\u001b[m\u001b[m\n"
     ]
    }
   ],
   "source": [
    "!ls"
   ]
  },
  {
   "cell_type": "code",
   "execution_count": 12,
   "metadata": {},
   "outputs": [],
   "source": [
    "!mkdir csv_with_nums"
   ]
  },
  {
   "cell_type": "code",
   "execution_count": 13,
   "metadata": {},
   "outputs": [],
   "source": [
    "!mv *_*.csv csv_with_nums"
   ]
  },
  {
   "cell_type": "code",
   "execution_count": null,
   "metadata": {},
   "outputs": [],
   "source": [
    "mkdir full_categories"
   ]
  }
 ],
 "metadata": {
  "kernelspec": {
   "display_name": "Python [conda env:nf] *",
   "language": "python",
   "name": "conda-env-nf-py"
  },
  "language_info": {
   "codemirror_mode": {
    "name": "ipython",
    "version": 3
   },
   "file_extension": ".py",
   "mimetype": "text/x-python",
   "name": "python",
   "nbconvert_exporter": "python",
   "pygments_lexer": "ipython3",
   "version": "3.6.10"
  }
 },
 "nbformat": 4,
 "nbformat_minor": 4
}

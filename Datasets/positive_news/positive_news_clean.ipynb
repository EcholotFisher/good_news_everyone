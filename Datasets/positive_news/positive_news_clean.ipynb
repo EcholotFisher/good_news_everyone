{
 "cells": [
  {
   "cell_type": "code",
   "execution_count": 5,
   "metadata": {},
   "outputs": [],
   "source": [
    "import pandas as pd\n",
    "\n",
    "df = pd.read_csv('positive_news.csv')\n",
    "\n",
    "# Remove String-Wrapper from lists\n",
    "df.text = df.text.map(lambda x: eval(x))\n",
    "\n",
    "# Cut double headline in text\n",
    "df.text = [x[1:] for x in df.text]\n",
    "\n",
    "# Cut End of text\n",
    "df.text = [x[:-2] for x in df.text]\n",
    "\n",
    "# Remove Nonetypes\n",
    "for i in range(df.shape[0]):\n",
    "    df.text.values[i] = list(filter(None, df.text.values[i]))\n",
    "\n",
    "# Join Strings\n",
    "df.text = df.text.str.join(' ')\n",
    "\n",
    "# Remove ending from title\n",
    "df.title = [i.split('- Positive News')[0] for i in df.title.values]\n",
    "\n",
    "#### Remove image from ending\n",
    "\n",
    "#Export\n",
    "df['source'] = 'positive_news'\n",
    "df['label'] = 1\n",
    "df.to_csv('positive_news_clean.csv', index=False)"
   ]
  },
  {
   "cell_type": "code",
   "execution_count": null,
   "metadata": {},
   "outputs": [],
   "source": []
  }
 ],
 "metadata": {
  "kernelspec": {
   "display_name": "Python [conda env:nf] *",
   "language": "python",
   "name": "conda-env-nf-py"
  },
  "language_info": {
   "codemirror_mode": {
    "name": "ipython",
    "version": 3
   },
   "file_extension": ".py",
   "mimetype": "text/x-python",
   "name": "python",
   "nbconvert_exporter": "python",
   "pygments_lexer": "ipython3",
   "version": "3.6.12"
  }
 },
 "nbformat": 4,
 "nbformat_minor": 4
}

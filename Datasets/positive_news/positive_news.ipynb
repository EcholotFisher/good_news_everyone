{
 "cells": [
  {
   "cell_type": "markdown",
   "metadata": {},
   "source": [
    "# Dataset from positive news\n",
    "Load dataset from positive news (www.positive.news)."
   ]
  },
  {
   "cell_type": "code",
   "execution_count": 1,
   "metadata": {},
   "outputs": [],
   "source": [
    "import requests\n",
    "\n",
    "from bs4 import BeautifulSoup, SoupStrainer\n",
    "from urlextract import URLExtract as urlextract\n",
    "extractor = urlextract()"
   ]
  },
  {
   "cell_type": "code",
   "execution_count": 2,
   "metadata": {},
   "outputs": [],
   "source": [
    "# Get content from webpage, find related webpages, call function on them if not already done\n",
    "def get_related(url):\n",
    "    print(count[0], end='\\r')\n",
    "    count[0] += 1\n",
    "    response = requests.get(url)\n",
    "    soup = BeautifulSoup(response.text, \"html.parser\")\n",
    "    # Get title, text\n",
    "    title = soup.find('title').string\n",
    "    text = [i.string for i in soup.findAll('p')]\n",
    "    content.append((title, text, url))\n",
    "    related = soup.findAll(True, {'class': 'card__title h3'})\n",
    "    final_links.add(url)\n",
    "    urls = set(extractor.find_urls(str(related)))\n",
    "    for i in urls:\n",
    "        if i not in final_links:\n",
    "            get_related(i)"
   ]
  },
  {
   "cell_type": "code",
   "execution_count": 3,
   "metadata": {},
   "outputs": [],
   "source": [
    "# Urls for all categories\n",
    "category_urls = ['https://www.positive.news/category/environment/',\n",
    "                 'https://www.positive.news/category/lifestyle/',\n",
    "                 'https://www.positive.news/category/science/',\n",
    "                 'https://www.positive.news/category/economics/',\n",
    "                 'https://www.positive.news/article-type/opinion/',\n",
    "                 'https://www.positive.news/category/society/']\n",
    "# Get start urls\n",
    "start_urls = set()\n",
    "for url in category_urls:\n",
    "    response = requests.get(url)\n",
    "    soup = BeautifulSoup(response.text, \"html.parser\")\n",
    "    related = soup.findAll(True, {'class': 'card__title h3'})\n",
    "    related\n",
    "    urls = set(extractor.find_urls(str(related)))\n",
    "    start_urls = start_urls.union(urls)"
   ]
  },
  {
   "cell_type": "code",
   "execution_count": 4,
   "metadata": {},
   "outputs": [
    {
     "name": "stdout",
     "output_type": "stream",
     "text": [
      "168\r"
     ]
    }
   ],
   "source": [
    "# Count looks like this to be global variable\n",
    "count = [0, 0]\n",
    "# All links that are alrady checked\n",
    "final_links = set()\n",
    "# Final content scraped from websites\n",
    "content = []\n",
    "# Loop over all urls on the category sites\n",
    "for u in start_urls:\n",
    "    get_related(u)"
   ]
  },
  {
   "cell_type": "code",
   "execution_count": 5,
   "metadata": {},
   "outputs": [],
   "source": [
    "# Turn values to pandas dataframe\n",
    "import pandas as pd\n",
    "\n",
    "titles = []\n",
    "contents = []\n",
    "urls = []\n",
    "for title, text, url in content:\n",
    "    titles.append(title)\n",
    "    contents.append(text)\n",
    "    urls.append(url)\n",
    "    \n",
    "df = pd.DataFrame({'title': titles, 'text': contents, 'url': urls})"
   ]
  },
  {
   "cell_type": "code",
   "execution_count": 6,
   "metadata": {},
   "outputs": [],
   "source": [
    "# Save dataframe\n",
    "df.to_csv('positive_news.csv', index=False)"
   ]
  },
  {
   "cell_type": "code",
   "execution_count": 7,
   "metadata": {},
   "outputs": [
    {
     "data": {
      "text/html": [
       "<div>\n",
       "<style scoped>\n",
       "    .dataframe tbody tr th:only-of-type {\n",
       "        vertical-align: middle;\n",
       "    }\n",
       "\n",
       "    .dataframe tbody tr th {\n",
       "        vertical-align: top;\n",
       "    }\n",
       "\n",
       "    .dataframe thead th {\n",
       "        text-align: right;\n",
       "    }\n",
       "</style>\n",
       "<table border=\"1\" class=\"dataframe\">\n",
       "  <thead>\n",
       "    <tr style=\"text-align: right;\">\n",
       "      <th></th>\n",
       "      <th>title</th>\n",
       "      <th>text</th>\n",
       "      <th>url</th>\n",
       "    </tr>\n",
       "  </thead>\n",
       "  <tbody>\n",
       "    <tr>\n",
       "      <th>0</th>\n",
       "      <td>Why gratitude is good for us – and five ways t...</td>\n",
       "      <td>[For many, this coming winter is tinged with s...</td>\n",
       "      <td>https://www.positive.news/lifestyle/body-mind/...</td>\n",
       "    </tr>\n",
       "    <tr>\n",
       "      <th>1</th>\n",
       "      <td>10 ways to help others during the coronavirus ...</td>\n",
       "      <td>[It’s easy to feel helpless when faced with a ...</td>\n",
       "      <td>https://www.positive.news/society/10-ways-to-h...</td>\n",
       "    </tr>\n",
       "    <tr>\n",
       "      <th>2</th>\n",
       "      <td>‘A catalyst for a kinder world’: one city’s mi...</td>\n",
       "      <td>[Leeds will launch its first Festival of Kindn...</td>\n",
       "      <td>https://www.positive.news/society/one-citys-mi...</td>\n",
       "    </tr>\n",
       "    <tr>\n",
       "      <th>3</th>\n",
       "      <td>After the crisis, will we build economies that...</td>\n",
       "      <td>[In the next in our series of positive predict...</td>\n",
       "      <td>https://www.positive.news/economics/build-back...</td>\n",
       "    </tr>\n",
       "    <tr>\n",
       "      <th>4</th>\n",
       "      <td>Bouncing forward: why the pandemic could make ...</td>\n",
       "      <td>[In our latest article about positive predicti...</td>\n",
       "      <td>https://www.positive.news/society/bouncing-for...</td>\n",
       "    </tr>\n",
       "    <tr>\n",
       "      <th>...</th>\n",
       "      <td>...</td>\n",
       "      <td>...</td>\n",
       "      <td>...</td>\n",
       "    </tr>\n",
       "    <tr>\n",
       "      <th>164</th>\n",
       "      <td>The social entrepreneur helping people see dis...</td>\n",
       "      <td>[Andreas Heinecke is challenging prejudice wit...</td>\n",
       "      <td>https://www.positive.news/society/the-social-e...</td>\n",
       "    </tr>\n",
       "    <tr>\n",
       "      <th>165</th>\n",
       "      <td>Sustainability goals and serendipity: the reci...</td>\n",
       "      <td>[In extraordinary times, what does it mean to ...</td>\n",
       "      <td>https://www.positive.news/society/sustainabili...</td>\n",
       "    </tr>\n",
       "    <tr>\n",
       "      <th>166</th>\n",
       "      <td>How Latin American cities are taking sustainab...</td>\n",
       "      <td>[From new laws to poems on buses, the Cities C...</td>\n",
       "      <td>https://www.positive.news/environment/how-lati...</td>\n",
       "    </tr>\n",
       "    <tr>\n",
       "      <th>167</th>\n",
       "      <td>Super greens: five startups raising the bar fo...</td>\n",
       "      <td>[From turning waste plastic into bricks, to st...</td>\n",
       "      <td>https://www.positive.news/economics/super-gree...</td>\n",
       "    </tr>\n",
       "    <tr>\n",
       "      <th>168</th>\n",
       "      <td>How two black women are tackling structural ra...</td>\n",
       "      <td>[Angel St Jean and Khalilah Harris are helping...</td>\n",
       "      <td>https://www.positive.news/society/how-two-blac...</td>\n",
       "    </tr>\n",
       "  </tbody>\n",
       "</table>\n",
       "<p>169 rows × 3 columns</p>\n",
       "</div>"
      ],
      "text/plain": [
       "                                                 title  \\\n",
       "0    Why gratitude is good for us – and five ways t...   \n",
       "1    10 ways to help others during the coronavirus ...   \n",
       "2    ‘A catalyst for a kinder world’: one city’s mi...   \n",
       "3    After the crisis, will we build economies that...   \n",
       "4    Bouncing forward: why the pandemic could make ...   \n",
       "..                                                 ...   \n",
       "164  The social entrepreneur helping people see dis...   \n",
       "165  Sustainability goals and serendipity: the reci...   \n",
       "166  How Latin American cities are taking sustainab...   \n",
       "167  Super greens: five startups raising the bar fo...   \n",
       "168  How two black women are tackling structural ra...   \n",
       "\n",
       "                                                  text  \\\n",
       "0    [For many, this coming winter is tinged with s...   \n",
       "1    [It’s easy to feel helpless when faced with a ...   \n",
       "2    [Leeds will launch its first Festival of Kindn...   \n",
       "3    [In the next in our series of positive predict...   \n",
       "4    [In our latest article about positive predicti...   \n",
       "..                                                 ...   \n",
       "164  [Andreas Heinecke is challenging prejudice wit...   \n",
       "165  [In extraordinary times, what does it mean to ...   \n",
       "166  [From new laws to poems on buses, the Cities C...   \n",
       "167  [From turning waste plastic into bricks, to st...   \n",
       "168  [Angel St Jean and Khalilah Harris are helping...   \n",
       "\n",
       "                                                   url  \n",
       "0    https://www.positive.news/lifestyle/body-mind/...  \n",
       "1    https://www.positive.news/society/10-ways-to-h...  \n",
       "2    https://www.positive.news/society/one-citys-mi...  \n",
       "3    https://www.positive.news/economics/build-back...  \n",
       "4    https://www.positive.news/society/bouncing-for...  \n",
       "..                                                 ...  \n",
       "164  https://www.positive.news/society/the-social-e...  \n",
       "165  https://www.positive.news/society/sustainabili...  \n",
       "166  https://www.positive.news/environment/how-lati...  \n",
       "167  https://www.positive.news/economics/super-gree...  \n",
       "168  https://www.positive.news/society/how-two-blac...  \n",
       "\n",
       "[169 rows x 3 columns]"
      ]
     },
     "execution_count": 7,
     "metadata": {},
     "output_type": "execute_result"
    }
   ],
   "source": [
    "df"
   ]
  },
  {
   "cell_type": "code",
   "execution_count": null,
   "metadata": {},
   "outputs": [],
   "source": []
  }
 ],
 "metadata": {
  "kernelspec": {
   "display_name": "Python 3",
   "language": "python",
   "name": "python3"
  },
  "language_info": {
   "codemirror_mode": {
    "name": "ipython",
    "version": 3
   },
   "file_extension": ".py",
   "mimetype": "text/x-python",
   "name": "python",
   "nbconvert_exporter": "python",
   "pygments_lexer": "ipython3",
   "version": "3.6.10"
  }
 },
 "nbformat": 4,
 "nbformat_minor": 4
}

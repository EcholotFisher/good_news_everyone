{
 "cells": [
  {
   "cell_type": "code",
   "execution_count": 1,
   "metadata": {},
   "outputs": [],
   "source": [
    "import pandas as pd\n",
    "import numpy as np"
   ]
  },
  {
   "cell_type": "code",
   "execution_count": 9,
   "metadata": {},
   "outputs": [],
   "source": [
    "df_1 = pd.read_csv('positive_news/positive_news_clean.csv')\n",
    "df_2 = pd.read_csv('good_news_network/good_news_network_clean.csv')\n",
    "df_3 = pd.read_csv('the_journal/the_journal_clean.csv')\n",
    "df_4 = pd.read_csv('category_set_with_sentiment/dataset_with_sentiment_clean.csv')"
   ]
  },
  {
   "cell_type": "code",
   "execution_count": 10,
   "metadata": {},
   "outputs": [
    {
     "data": {
      "text/html": [
       "<div>\n",
       "<style scoped>\n",
       "    .dataframe tbody tr th:only-of-type {\n",
       "        vertical-align: middle;\n",
       "    }\n",
       "\n",
       "    .dataframe tbody tr th {\n",
       "        vertical-align: top;\n",
       "    }\n",
       "\n",
       "    .dataframe thead th {\n",
       "        text-align: right;\n",
       "    }\n",
       "</style>\n",
       "<table border=\"1\" class=\"dataframe\">\n",
       "  <thead>\n",
       "    <tr style=\"text-align: right;\">\n",
       "      <th></th>\n",
       "      <th>title</th>\n",
       "      <th>text</th>\n",
       "      <th>source</th>\n",
       "      <th>label</th>\n",
       "      <th>url</th>\n",
       "    </tr>\n",
       "  </thead>\n",
       "  <tbody>\n",
       "    <tr>\n",
       "      <th>0</th>\n",
       "      <td>Jacob deGrom Can Pitch Himself Into Mets Lore</td>\n",
       "      <td>Jacob deGrom. Photo: Stephen Dunn/Getty Images...</td>\n",
       "      <td>webhose.io</td>\n",
       "      <td>1</td>\n",
       "      <td>NaN</td>\n",
       "    </tr>\n",
       "    <tr>\n",
       "      <th>1</th>\n",
       "      <td>Insight Vacations Announces First Ever Online ...</td>\n",
       "      <td>Insight Vacations Announces First Ever Online ...</td>\n",
       "      <td>webhose.io</td>\n",
       "      <td>1</td>\n",
       "      <td>NaN</td>\n",
       "    </tr>\n",
       "    <tr>\n",
       "      <th>2</th>\n",
       "      <td>Wal-Mart to Launch Free Grocery Pickup | Fox B...</td>\n",
       "      <td>(AP) \\nWal-Mart ( WMT ) announced plans to rol...</td>\n",
       "      <td>webhose.io</td>\n",
       "      <td>1</td>\n",
       "      <td>NaN</td>\n",
       "    </tr>\n",
       "    <tr>\n",
       "      <th>3</th>\n",
       "      <td>British PM: Travel outside of London, see the ...</td>\n",
       "      <td>British PM: Travel outside of London, see the ...</td>\n",
       "      <td>webhose.io</td>\n",
       "      <td>1</td>\n",
       "      <td>NaN</td>\n",
       "    </tr>\n",
       "    <tr>\n",
       "      <th>4</th>\n",
       "      <td>Cadillac unveils monument on 40th anniversary ...</td>\n",
       "      <td>Cadillac unveils monument on 40th anniversary ...</td>\n",
       "      <td>webhose.io</td>\n",
       "      <td>1</td>\n",
       "      <td>NaN</td>\n",
       "    </tr>\n",
       "  </tbody>\n",
       "</table>\n",
       "</div>"
      ],
      "text/plain": [
       "                                               title  \\\n",
       "0      Jacob deGrom Can Pitch Himself Into Mets Lore   \n",
       "1  Insight Vacations Announces First Ever Online ...   \n",
       "2  Wal-Mart to Launch Free Grocery Pickup | Fox B...   \n",
       "3  British PM: Travel outside of London, see the ...   \n",
       "4  Cadillac unveils monument on 40th anniversary ...   \n",
       "\n",
       "                                                text      source  label  url  \n",
       "0  Jacob deGrom. Photo: Stephen Dunn/Getty Images...  webhose.io      1  NaN  \n",
       "1  Insight Vacations Announces First Ever Online ...  webhose.io      1  NaN  \n",
       "2  (AP) \\nWal-Mart ( WMT ) announced plans to rol...  webhose.io      1  NaN  \n",
       "3  British PM: Travel outside of London, see the ...  webhose.io      1  NaN  \n",
       "4  Cadillac unveils monument on 40th anniversary ...  webhose.io      1  NaN  "
      ]
     },
     "execution_count": 10,
     "metadata": {},
     "output_type": "execute_result"
    }
   ],
   "source": [
    "df_4.head()"
   ]
  },
  {
   "cell_type": "code",
   "execution_count": null,
   "metadata": {},
   "outputs": [],
   "source": []
  }
 ],
 "metadata": {
  "kernelspec": {
   "display_name": "Python [conda env:nf] *",
   "language": "python",
   "name": "conda-env-nf-py"
  },
  "language_info": {
   "codemirror_mode": {
    "name": "ipython",
    "version": 3
   },
   "file_extension": ".py",
   "mimetype": "text/x-python",
   "name": "python",
   "nbconvert_exporter": "python",
   "pygments_lexer": "ipython3",
   "version": "3.6.12"
  }
 },
 "nbformat": 4,
 "nbformat_minor": 4
}

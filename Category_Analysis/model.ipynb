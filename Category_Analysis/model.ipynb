{
 "cells": [
  {
   "cell_type": "markdown",
   "metadata": {},
   "source": [
    "## Imports"
   ]
  },
  {
   "cell_type": "code",
   "execution_count": 1,
   "metadata": {},
   "outputs": [],
   "source": [
    "import numpy as np\n",
    "import pandas as pd\n",
    "import matplotlib.pyplot as plt\n",
    "from plots_fabi import *\n",
    "import sys\n",
    "# Add functions path\n",
    "sys.path.append('../Functions')"
   ]
  },
  {
   "cell_type": "markdown",
   "metadata": {},
   "source": [
    "## Load Dataset"
   ]
  },
  {
   "cell_type": "code",
   "execution_count": 2,
   "metadata": {},
   "outputs": [],
   "source": [
    "from datasets import load_stratified_dataset\n",
    "df = load_stratified_dataset(path='../Datasets/dataset_categories/dataset.csv', labels='category', samples_per_label=300)"
   ]
  },
  {
   "cell_type": "markdown",
   "metadata": {},
   "source": [
    "### Dataframe for results\n",
    "Create a dataframe, that contains all model results!"
   ]
  },
  {
   "cell_type": "code",
   "execution_count": 3,
   "metadata": {},
   "outputs": [],
   "source": [
    "model_results = pd.DataFrame({'Preprocessing': ['Word Bagging', 'Word Embedding']})"
   ]
  },
  {
   "cell_type": "markdown",
   "metadata": {},
   "source": [
    "## Prepare Dataset"
   ]
  },
  {
   "cell_type": "code",
   "execution_count": 4,
   "metadata": {},
   "outputs": [
    {
     "data": {
      "text/plain": [
       "(2100, 9)"
      ]
     },
     "execution_count": 4,
     "metadata": {},
     "output_type": "execute_result"
    }
   ],
   "source": [
    "df.shape"
   ]
  },
  {
   "cell_type": "code",
   "execution_count": 5,
   "metadata": {},
   "outputs": [
    {
     "name": "stdout",
     "output_type": "stream",
     "text": [
      "2100 samples represented by 13456 features\n"
     ]
    }
   ],
   "source": [
    "# TfidfVectorizer generates bag of words\n",
    "from sklearn.feature_extraction.text import TfidfVectorizer\n",
    "\n",
    "# sublinear_tf: use logarithmic form for frequency\n",
    "# min_df: minimum numbers of documents a word must be present to keep it\n",
    "# ngram_range: number of ngrams to use\n",
    "# stopwords: remove all common pronouns in given language\n",
    "\n",
    "tfidf = TfidfVectorizer(sublinear_tf=True, min_df=5, norm='l2', encoding='latin-1',\n",
    "                        ngram_range=(1, 2), stop_words='english')\n",
    "\n",
    "features = tfidf.fit_transform(df.text).toarray()\n",
    "\n",
    "labels = df.category\n",
    "\n",
    "print('{} samples represented by {} features'.format(features.shape[0], features.shape[1]))"
   ]
  },
  {
   "cell_type": "code",
   "execution_count": 6,
   "metadata": {},
   "outputs": [],
   "source": [
    "from sklearn.model_selection import train_test_split\n",
    "\n",
    "X_train, X_test, y_train, y_test = train_test_split(df['text'], df['category'], random_state = 42)\n",
    "\n",
    "X_train_tfidf = tfidf.fit_transform(X_train)\n",
    "X_test_tfidf = tfidf.transform(X_test)"
   ]
  },
  {
   "cell_type": "code",
   "execution_count": 7,
   "metadata": {},
   "outputs": [
    {
     "name": "stdout",
     "output_type": "stream",
     "text": [
      "Accuracy for test set : 69.714%\n",
      "Accuracy for train set: 82.540%\n"
     ]
    }
   ],
   "source": [
    "from sklearn.naive_bayes import MultinomialNB\n",
    "\n",
    "clf = MultinomialNB().fit(X_train_tfidf, y_train)\n",
    "result = clf.score(X_test_tfidf, y_test)\n",
    "model_results['NB'] = [result.round(3), None]\n",
    "print(f\"Accuracy for test set : {clf.score(X_test_tfidf, y_test) * 100:.3f}%\", )\n",
    "print(f\"Accuracy for train set: {clf.score(X_train_tfidf, y_train) * 100:.3f}%\", )"
   ]
  },
  {
   "cell_type": "code",
   "execution_count": 8,
   "metadata": {},
   "outputs": [
    {
     "name": "stdout",
     "output_type": "stream",
     "text": [
      "Accuracy for test set : 69.714%\n",
      "Accuracy for train set: 98.667%\n"
     ]
    }
   ],
   "source": [
    "from sklearn.svm import SVC\n",
    "\n",
    "svc = SVC().fit(X_train_tfidf, y_train)\n",
    "result = svc.score(X_test_tfidf, y_test)\n",
    "model_results['SVC'] = [result, None]\n",
    "print(f\"Accuracy for test set : {svc.score(X_test_tfidf, y_test) * 100:.3f}%\", )\n",
    "print(f\"Accuracy for train set: {svc.score(X_train_tfidf, y_train) * 100:.3f}%\", )"
   ]
  },
  {
   "cell_type": "code",
   "execution_count": 9,
   "metadata": {},
   "outputs": [
    {
     "name": "stdout",
     "output_type": "stream",
     "text": [
      "Accuracy for test set : 64.952%\n",
      "Accuracy for train set: 94.413%\n"
     ]
    }
   ],
   "source": [
    "from xgboost import XGBClassifier\n",
    "\n",
    "xgb = XGBClassifier().fit(X_train_tfidf, y_train)\n",
    "result = xgb.score(X_test_tfidf, y_test)\n",
    "model_results['XGB'] = [result, None]\n",
    "print(f\"Accuracy for test set : {xgb.score(X_test_tfidf, y_test) * 100:.3f}%\", )\n",
    "print(f\"Accuracy for train set: {xgb.score(X_train_tfidf, y_train) * 100:.3f}%\", )"
   ]
  },
  {
   "cell_type": "code",
   "execution_count": 10,
   "metadata": {},
   "outputs": [
    {
     "name": "stdout",
     "output_type": "stream",
     "text": [
      "Accuracy for test set : 70.857%\n",
      "Accuracy for train set: 99.746%\n"
     ]
    }
   ],
   "source": [
    "from sklearn.svm import LinearSVC\n",
    "\n",
    "svc = LinearSVC(random_state=1, dual=False, max_iter=10000)\n",
    "svc.fit(X_train_tfidf, y_train)\n",
    "result = svc.score(X_test_tfidf, y_test)\n",
    "model_results['SVCLinear'] = [result, None]\n",
    "print(f\"Accuracy for test set : {svc.score(X_test_tfidf, y_test) * 100:.3f}%\", )\n",
    "print(f\"Accuracy for train set: {svc.score(X_train_tfidf, y_train) * 100:.3f}%\", )"
   ]
  },
  {
   "cell_type": "markdown",
   "metadata": {},
   "source": [
    "## Word Embeddings"
   ]
  },
  {
   "cell_type": "code",
   "execution_count": 11,
   "metadata": {},
   "outputs": [],
   "source": [
    "import spacy\n",
    "from time import time"
   ]
  },
  {
   "cell_type": "markdown",
   "metadata": {},
   "source": [
    "## Word Embeddings (Word Vectors)"
   ]
  },
  {
   "cell_type": "code",
   "execution_count": 12,
   "metadata": {},
   "outputs": [],
   "source": [
    "# Load loarge model\n",
    "nlp = spacy.load('en_core_web_lg')\n",
    "\n",
    "# Disabling other pipes, no need for them, takes too much time\n",
    "with nlp.disable_pipes():\n",
    "    vectors = np.array([nlp(text).vector for text in df.text])"
   ]
  },
  {
   "cell_type": "code",
   "execution_count": 13,
   "metadata": {},
   "outputs": [
    {
     "data": {
      "text/plain": [
       "(2100, 300)"
      ]
     },
     "execution_count": 13,
     "metadata": {},
     "output_type": "execute_result"
    }
   ],
   "source": [
    "vectors.shape"
   ]
  },
  {
   "cell_type": "code",
   "execution_count": 14,
   "metadata": {},
   "outputs": [],
   "source": [
    "X_train, X_test, y_train, y_test = train_test_split(vectors, df['category'], random_state = 42)"
   ]
  },
  {
   "cell_type": "code",
   "execution_count": 15,
   "metadata": {},
   "outputs": [
    {
     "name": "stdout",
     "output_type": "stream",
     "text": [
      "Accuracy for test set : 66.476%\n",
      "Accuracy for train set: 65.841%\n"
     ]
    }
   ],
   "source": [
    "svc = SVC().fit(X_train, y_train)\n",
    "result = svc.score(X_test, y_test)\n",
    "model_results.loc[1, 'SVC'] = result\n",
    "print(f\"Accuracy for test set : {svc.score(X_test, y_test) * 100:.3f}%\", )\n",
    "print(f\"Accuracy for train set: {svc.score(X_train, y_train) * 100:.3f}%\", )"
   ]
  },
  {
   "cell_type": "code",
   "execution_count": 16,
   "metadata": {},
   "outputs": [
    {
     "name": "stdout",
     "output_type": "stream",
     "text": [
      "Accuracy for test set : 65.333%\n",
      "Accuracy for train set: 97.333%\n"
     ]
    }
   ],
   "source": [
    "xgb = XGBClassifier().fit(X_train, y_train)\n",
    "result = xgb.score(X_test, y_test)\n",
    "model_results.loc[1, 'XGB'] = result\n",
    "print(f\"Accuracy for test set : {xgb.score(X_test, y_test) * 100:.3f}%\", )\n",
    "print(f\"Accuracy for train set: {xgb.score(X_train, y_train) * 100:.3f}%\", )"
   ]
  },
  {
   "cell_type": "code",
   "execution_count": 17,
   "metadata": {},
   "outputs": [
    {
     "name": "stdout",
     "output_type": "stream",
     "text": [
      "Accuracy for test set : 68.952%\n",
      "Accuracy for train set: 77.016%\n"
     ]
    }
   ],
   "source": [
    "svc = LinearSVC(random_state=1, dual=False, max_iter=10000)\n",
    "svc.fit(X_train, y_train)\n",
    "result = svc.score(X_test, y_test)\n",
    "model_results.loc[1, 'SVCLinear'] = result\n",
    "print(f\"Accuracy for test set : {svc.score(X_test, y_test) * 100:.3f}%\", )\n",
    "print(f\"Accuracy for train set: {svc.score(X_train, y_train) * 100:.3f}%\", )"
   ]
  },
  {
   "cell_type": "code",
   "execution_count": 18,
   "metadata": {},
   "outputs": [
    {
     "data": {
      "text/html": [
       "<div>\n",
       "<style scoped>\n",
       "    .dataframe tbody tr th:only-of-type {\n",
       "        vertical-align: middle;\n",
       "    }\n",
       "\n",
       "    .dataframe tbody tr th {\n",
       "        vertical-align: top;\n",
       "    }\n",
       "\n",
       "    .dataframe thead th {\n",
       "        text-align: right;\n",
       "    }\n",
       "</style>\n",
       "<table border=\"1\" class=\"dataframe\">\n",
       "  <thead>\n",
       "    <tr style=\"text-align: right;\">\n",
       "      <th></th>\n",
       "      <th>Preprocessing</th>\n",
       "      <th>NB</th>\n",
       "      <th>SVC</th>\n",
       "      <th>XGB</th>\n",
       "      <th>SVCLinear</th>\n",
       "    </tr>\n",
       "  </thead>\n",
       "  <tbody>\n",
       "    <tr>\n",
       "      <th>0</th>\n",
       "      <td>Word Bagging</td>\n",
       "      <td>0.697</td>\n",
       "      <td>0.697</td>\n",
       "      <td>0.650</td>\n",
       "      <td>0.709</td>\n",
       "    </tr>\n",
       "    <tr>\n",
       "      <th>1</th>\n",
       "      <td>Word Embedding</td>\n",
       "      <td>NaN</td>\n",
       "      <td>0.665</td>\n",
       "      <td>0.653</td>\n",
       "      <td>0.690</td>\n",
       "    </tr>\n",
       "  </tbody>\n",
       "</table>\n",
       "</div>"
      ],
      "text/plain": [
       "    Preprocessing     NB    SVC    XGB  SVCLinear\n",
       "0    Word Bagging  0.697  0.697  0.650      0.709\n",
       "1  Word Embedding    NaN  0.665  0.653      0.690"
      ]
     },
     "execution_count": 18,
     "metadata": {},
     "output_type": "execute_result"
    }
   ],
   "source": [
    "model_results.round(3)"
   ]
  },
  {
   "cell_type": "markdown",
   "metadata": {},
   "source": [
    "### SVC different categories"
   ]
  },
  {
   "cell_type": "code",
   "execution_count": 20,
   "metadata": {},
   "outputs": [],
   "source": [
    "# Load training set\n",
    "df = load_stratified_dataset(path='../Datasets/dataset_categories/dataset.csv', labels='category', samples_per_label=800)\n",
    "# Shuffle dataset\n",
    "df = df.sample(frac=1).reset_index(drop=True)\n",
    "mid = int(df.shape[0]/2)\n",
    "X_train, y_train = df[:mid].text, df[:mid].category\n",
    "\n",
    "# Load test set for every category\n",
    "df = df[mid:]\n",
    "test_set = {}\n",
    "for i in df.category.unique():\n",
    "    test_set[i] = df[df['category'] == i].text.values"
   ]
  },
  {
   "cell_type": "code",
   "execution_count": 21,
   "metadata": {},
   "outputs": [
    {
     "name": "stdout",
     "output_type": "stream",
     "text": [
      "Score for category entertainment:   70.5 %\n",
      "Score for category technology   :   74.2 %\n",
      "Score for category sports       :   70.7 %\n",
      "Score for category travel       :   71.9 %\n",
      "Score for category world        :   69.8 %\n",
      "Score for category politics     :   62.5 %\n",
      "Score for category financial    :   69.3 %\n"
     ]
    }
   ],
   "source": [
    "# Fit model\n",
    "svc = SVC()\n",
    "X_train_tfidf = tfidf.fit_transform(X_train)\n",
    "svc.fit(X_train_tfidf, y_train)\n",
    "\n",
    "predictions = []\n",
    "# Get accuracies for categories\n",
    "for key, value in test_set.items():\n",
    "    X_test_tfidf = tfidf.transform(value)\n",
    "    y_test = np.full(value.shape[0], key)\n",
    "    print('Score for category {: <13}:   {:.1f} %'.format(key, svc.score(X_test_tfidf, y_test)*100))\n",
    "    # Get Predictions\n",
    "    cat, val = np.unique(svc.predict(X_test_tfidf), return_counts=True)\n",
    "    #pred = sorted(list(zip(cat, (val/y_test.shape[0]*100).round(1))) , key=lambda x: x[1], reverse=True)\n",
    "    predictions.append((cat, (val/y_test.shape[0]*100).round(1)))"
   ]
  },
  {
   "cell_type": "code",
   "execution_count": 22,
   "metadata": {},
   "outputs": [
    {
     "data": {
      "image/png": "[encoded data removed]",
      "text/plain": [
       "<Figure size 1296x720 with 9 Axes>"
      ]
     },
     "metadata": {
      "needs_background": "light"
     },
     "output_type": "display_data"
    }
   ],
   "source": [
    "fig, ax = plt.subplots(3,3,figsize=(18,10))\n",
    "simple_h_bar(predictions[0][0], predictions[0][1], ax=ax[0][0], title=predictions[0][0][np.argmax(predictions[0][1])])\n",
    "simple_h_bar(predictions[1][0], predictions[1][1], ax=ax[0][1], title=predictions[1][0][np.argmax(predictions[1][1])])\n",
    "simple_h_bar(predictions[2][0], predictions[2][1], ax=ax[0][2], title=predictions[2][0][np.argmax(predictions[2][1])])\n",
    "simple_h_bar(predictions[3][0], predictions[3][1], ax=ax[1][0], title=predictions[3][0][np.argmax(predictions[3][1])])\n",
    "simple_h_bar(predictions[4][0], predictions[4][1], ax=ax[1][1], title=predictions[4][0][np.argmax(predictions[4][1])])\n",
    "simple_h_bar(predictions[5][0], predictions[5][1], ax=ax[1][2], title=predictions[5][0][np.argmax(predictions[5][1])])\n",
    "simple_h_bar(predictions[6][0], predictions[6][1], ax=ax[2][0], title=predictions[6][0][np.argmax(predictions[6][1])])"
   ]
  },
  {
   "cell_type": "markdown",
   "metadata": {},
   "source": [
    "### Accuracy in dependence of training size"
   ]
  },
  {
   "cell_type": "code",
   "execution_count": 24,
   "metadata": {},
   "outputs": [
    {
     "name": "stdout",
     "output_type": "stream",
     "text": [
      "Calculation with 10 samples finished in 14.4s\n",
      "Calculation with 100 samples finished in 61.9s\n",
      "Calculation with 300 samples finished in 176.7s\n",
      "Calculation with 450 samples finished in 272.9s\n"
     ]
    }
   ],
   "source": [
    "tfidf = TfidfVectorizer(sublinear_tf=True, min_df=5, norm='l2', encoding='latin-1',\n",
    "                        ngram_range=(1, 2), stop_words='english')\n",
    "\n",
    "svc = SVC()\n",
    "\n",
    "# Load loarge model\n",
    "nlp = spacy.load('en_core_web_lg')\n",
    "\n",
    "samples = []\n",
    "word_bagging = []\n",
    "word_embedding = []\n",
    "for num_samples in [10, 100, 300, 450]:\n",
    "    start_time = time()\n",
    "    \n",
    "    samples.append(num_samples)\n",
    "    \n",
    "    df = load_stratified_dataset(path='../Datasets/dataset_categories/dataset.csv', labels='category', samples_per_label=num_samples)\n",
    "\n",
    "    X_train, X_test, y_train, y_test = train_test_split(df['text'], df['category'], random_state = 42)\n",
    "\n",
    "    X_train_tfidf = tfidf.fit_transform(X_train)\n",
    "    X_test_tfidf = tfidf.transform(X_test)\n",
    "\n",
    "    svc.fit(X_train_tfidf, y_train)\n",
    "    result = svc.score(X_test_tfidf, y_test)\n",
    "    word_bagging.append(result)\n",
    "\n",
    "    # Disabling other pipes, no need for them, takes too much time\n",
    "    with nlp.disable_pipes():\n",
    "        vectors = np.array([nlp(text).vector for text in df.text])\n",
    "\n",
    "    X_train, X_test, y_train, y_test = train_test_split(vectors, df['category'], random_state = 42)\n",
    "\n",
    "    svc.fit(X_train, y_train)\n",
    "    result = svc.score(X_test, y_test)\n",
    "    word_embedding.append(result)\n",
    "    \n",
    "    print('Calculation with {} samples finished in {:.1f}s'.format(num_samples, time()-start_time))"
   ]
  },
  {
   "cell_type": "code",
   "execution_count": 25,
   "metadata": {},
   "outputs": [
    {
     "data": {
      "image/png": "[encoded data removed]",
      "text/plain": [
       "<Figure size 432x288 with 1 Axes>"
      ]
     },
     "metadata": {
      "needs_background": "light"
     },
     "output_type": "display_data"
    }
   ],
   "source": [
    "plt.plot(samples, word_bagging, label='word bagging')\n",
    "plt.plot(samples, word_embedding, label='word embedding')\n",
    "plt.legend();"
   ]
  },
  {
   "cell_type": "code",
   "execution_count": null,
   "metadata": {},
   "outputs": [],
   "source": []
  }
 ],
 "metadata": {
  "kernelspec": {
   "display_name": "Python 3",
   "language": "python",
   "name": "python3"
  },
  "language_info": {
   "codemirror_mode": {
    "name": "ipython",
    "version": 3
   },
   "file_extension": ".py",
   "mimetype": "text/x-python",
   "name": "python",
   "nbconvert_exporter": "python",
   "pygments_lexer": "ipython3",
   "version": "3.6.10"
  }
 },
 "nbformat": 4,
 "nbformat_minor": 4
}

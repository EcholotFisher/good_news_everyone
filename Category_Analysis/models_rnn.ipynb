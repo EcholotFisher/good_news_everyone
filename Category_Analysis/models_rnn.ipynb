{
 "cells": [
  {
   "cell_type": "code",
   "execution_count": 1,
   "metadata": {},
   "outputs": [],
   "source": [
    "import pandas as pd\n",
    "import numpy as np\n",
    "import matplotlib.pyplot as plt\n",
    "\n",
    "# import models\n",
    "import sys\n",
    "sys.path.append('tf_models')\n",
    "from train import train\n",
    "# Add functions path\n",
    "sys.path.append('../Functions')"
   ]
  },
  {
   "cell_type": "code",
   "execution_count": 2,
   "metadata": {},
   "outputs": [],
   "source": [
    "from datasets import load_stratified_dataset\n",
    "from sklearn.model_selection import train_test_split\n",
    "df = load_stratified_dataset(path='../Datasets/dataset_categories/dataset_big.csv', labels='category', samples_per_label=1000, random_seed=10)\n",
    "X_train, X_test, y_train, y_test = train_test_split(df.text, df.category)"
   ]
  },
  {
   "cell_type": "raw",
   "metadata": {},
   "source": [
    "train(train_data=X_train, train_labels=y_train, test_data=X_test, test_labels=y_test)"
   ]
  },
  {
   "cell_type": "code",
   "execution_count": 3,
   "metadata": {},
   "outputs": [
    {
     "name": "stdout",
     "output_type": "stream",
     "text": [
      "Tensorflow version 2.3.1\n",
      "Load Datasets\n",
      "Tensorflow version 2.3.1\n",
      "Load Datasets\n",
      "Tensorflow version 2.3.1\n",
      "Load Datasets\n",
      "Tensorflow version 2.3.1\n",
      "Load Datasets\n",
      "Tensorflow version 2.3.1\n",
      "Load Datasets\n",
      "Tensorflow version 2.3.1\n",
      "Load Datasets\n",
      "Tensorflow version 2.3.1\n",
      "Load Datasets\n",
      "Tensorflow version 2.3.1\n",
      "Load Datasets\n",
      "Tensorflow version 2.3.1\n",
      "Load Datasets\n",
      "Tensorflow version 2.3.1\n",
      "Load Datasets\n"
     ]
    }
   ],
   "source": [
    "train_acc = []\n",
    "val_acc = []\n",
    "test_acc = []\n",
    "x_value = []\n",
    "for d in np.linspace(8,100,10):\n",
    "    d = int(d)\n",
    "    print(d, end='\\r')\n",
    "    tr, v, te = train(tmp=d, train_data=X_train, train_labels=y_train, test_data=X_test, test_labels=y_test)\n",
    "    train_acc.append(tr)\n",
    "    val_acc.append(v)\n",
    "    test_acc.append(te)\n",
    "    x_value.append(d)"
   ]
  },
  {
   "cell_type": "code",
   "execution_count": 4,
   "metadata": {},
   "outputs": [
    {
     "data": {
      "image/png": "[encoded data removed]",
      "text/plain": [
       "<Figure size 432x288 with 1 Axes>"
      ]
     },
     "metadata": {
      "needs_background": "light"
     },
     "output_type": "display_data"
    }
   ],
   "source": [
    "plt.plot(x_value, train_acc, label='train')\n",
    "plt.plot(x_value, val_acc, label='val')\n",
    "plt.plot(x_value, test_acc, label='test')\n",
    "plt.legend();"
   ]
  },
  {
   "cell_type": "raw",
   "metadata": {},
   "source": [
    "train(regularization=5, train_data=X_train, train_labels=y_train, test_data=X_test, test_labels=y_test)"
   ]
  },
  {
   "cell_type": "code",
   "execution_count": null,
   "metadata": {},
   "outputs": [],
   "source": []
  }
 ],
 "metadata": {
  "kernelspec": {
   "display_name": "Python 3",
   "language": "python",
   "name": "python3"
  },
  "language_info": {
   "codemirror_mode": {
    "name": "ipython",
    "version": 3
   },
   "file_extension": ".py",
   "mimetype": "text/x-python",
   "name": "python",
   "nbconvert_exporter": "python",
   "pygments_lexer": "ipython3",
   "version": "3.6.10"
  }
 },
 "nbformat": 4,
 "nbformat_minor": 4
}
